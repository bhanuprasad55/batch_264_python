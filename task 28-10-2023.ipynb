{
 "cells": [
  {
   "cell_type": "markdown",
   "id": "103cabcc",
   "metadata": {},
   "source": [
    "# Set\n",
    "* Sets are a cluster of hetrogeneous data values\n",
    "* A Set is an unordered collection data type that is iterable, mutable and has no duplicate elements.\n",
    "* Set are represented by { } (values enclosed in curly braces)\n",
    "* We can use set class to perform type-casting\n",
    "* Sets have methods that are unique to sets, like union,intersection etc.,\n",
    "* Sets are partially mutable\n"
   ]
  },
  {
   "cell_type": "markdown",
   "id": "490c1cef",
   "metadata": {},
   "source": [
    "# Unique and Immutable\n",
    "* sets cannot have a duplicate value and once it is created we cannot change its value."
   ]
  },
  {
   "cell_type": "code",
   "execution_count": 2,
   "id": "06c0f8bd",
   "metadata": {},
   "outputs": [
    {
     "name": "stdout",
     "output_type": "stream",
     "text": [
      "{'prasad', 'bhanu'}\n"
     ]
    }
   ],
   "source": [
    "# (i) unique i.e., set does not have any duplicate values \n",
    "x = {\"bhanu\", \"prasad\", \"bhanu\"}\n",
    "print(x)\n"
   ]
  },
  {
   "cell_type": "markdown",
   "id": "1670d37a",
   "metadata": {},
   "source": [
    "# Heterogeneous Element\n",
    "* Sets can store heterogeneous elements in it, i.e., a set can store a mixture of string, integer, boolean, etc datatypes.\n"
   ]
  },
  {
   "cell_type": "code",
   "execution_count": 3,
   "id": "cff8a314",
   "metadata": {},
   "outputs": [
    {
     "name": "stdout",
     "output_type": "stream",
     "text": [
      "{1, 2.2, (3+3j), 'bhanu', <built-in function print>, <class 'range'>}\n",
      "<class 'set'>\n",
      "6\n",
      "0x2835a94e340\n",
      "{1, 2.2, (3+3j), 'bhanu', <built-in function print>, <class 'range'>}\n",
      "<class 'set'>\n",
      "6\n",
      "0x2835a94e260\n"
     ]
    }
   ],
   "source": [
    "x,y={1,2.2,3+3j, 'bhanu',print,range,True},set([1,2.2,3+3j, 'bhanu',print,range,True])\n",
    "print(x,type(x),len(x),hex(id(x)),sep='\\n')\n",
    "print(y,type(y),len(y),hex(id(y)),sep='\\n')"
   ]
  },
  {
   "cell_type": "code",
   "execution_count": 4,
   "id": "3f6ff204",
   "metadata": {},
   "outputs": [
    {
     "name": "stdout",
     "output_type": "stream",
     "text": [
      "{True, 5, 7.2, (3+3j), 'prasad', <built-in function print>, <class 'range'>}\n",
      "<class 'set'>\n",
      "7\n",
      "0x2835a8b51c0\n",
      "{True, 5, 7.2, (3+3j), 'prasad', <built-in function print>, <class 'range'>}\n",
      "<class 'set'>\n",
      "7\n",
      "0x2835a8b5000\n"
     ]
    }
   ],
   "source": [
    "x,y={5,7.2,3+3j, 'prasad',print,range,True},set([5,7.2,3+3j, 'prasad',print,range,True])\n",
    "print(x,type(x),len(x),hex(id(x)),sep='\\n')\n",
    "print(y,type(y),len(y),hex(id(y)),sep='\\n')"
   ]
  },
  {
   "cell_type": "markdown",
   "id": "50928dc2",
   "metadata": {},
   "source": [
    "# Creating a Set\n",
    "* Set can be created in two ways\n",
    "* Using curly braces { }\n",
    "* Using class set\n"
   ]
  },
  {
   "cell_type": "markdown",
   "id": "8884eb5d",
   "metadata": {},
   "source": [
    "# 1. Using curly braces{ }\n"
   ]
  },
  {
   "cell_type": "code",
   "execution_count": 3,
   "id": "b28211f0",
   "metadata": {},
   "outputs": [
    {
     "name": "stdout",
     "output_type": "stream",
     "text": [
      "{'bhanu'}\n",
      "<class 'set'>\n"
     ]
    }
   ],
   "source": [
    "# creating a set using curly braces \n",
    "x={'bhanu'}\n",
    "print(x,type(x),sep='\\n') \n"
   ]
  },
  {
   "cell_type": "code",
   "execution_count": 6,
   "id": "e38e450b",
   "metadata": {},
   "outputs": [
    {
     "name": "stdout",
     "output_type": "stream",
     "text": [
      "{'ramya'}\n",
      "<class 'set'>\n"
     ]
    }
   ],
   "source": [
    "y={'ramya'}\n",
    "print(y,type(x),sep='\\n')"
   ]
  },
  {
   "cell_type": "markdown",
   "id": "f85b56b9",
   "metadata": {},
   "source": [
    "# 2. Using class set()\n",
    "* sets are unordered(no index), the output will be randomly choosen\n"
   ]
  },
  {
   "cell_type": "code",
   "execution_count": 7,
   "id": "54467ded",
   "metadata": {},
   "outputs": [
    {
     "name": "stdout",
     "output_type": "stream",
     "text": [
      "{'a', 't', 'i', 'r', 'v'}\n"
     ]
    }
   ],
   "source": [
    "# creating a set using class set \n",
    "a=set('virat')\n",
    "print(a)  \n"
   ]
  },
  {
   "cell_type": "code",
   "execution_count": 9,
   "id": "9e921dbc",
   "metadata": {},
   "outputs": [
    {
     "name": "stdout",
     "output_type": "stream",
     "text": [
      "{'a', 'b', 'n', 'h', 'u'}\n"
     ]
    }
   ],
   "source": [
    "g=set('bhanu')\n",
    "print(g)"
   ]
  },
  {
   "cell_type": "code",
   "execution_count": 10,
   "id": "5cf4b038",
   "metadata": {},
   "outputs": [
    {
     "name": "stdout",
     "output_type": "stream",
     "text": [
      "{'a', 'p', 'r', 'd', 's'}\n"
     ]
    }
   ],
   "source": [
    "b=set('prasad')\n",
    "print(b)"
   ]
  },
  {
   "cell_type": "markdown",
   "id": "9ceea1f4",
   "metadata": {},
   "source": [
    "# Length of Set\n",
    "* len() is used to get the length of the Set.\n"
   ]
  },
  {
   "cell_type": "code",
   "execution_count": 11,
   "id": "96939c5e",
   "metadata": {},
   "outputs": [
    {
     "data": {
      "text/plain": [
       "6"
      ]
     },
     "execution_count": 11,
     "metadata": {},
     "output_type": "execute_result"
    }
   ],
   "source": [
    "y={1,2.2,3+3j, 'bhanu',print,range,True}\n",
    "len(y)\n"
   ]
  },
  {
   "cell_type": "code",
   "execution_count": 12,
   "id": "857a1735",
   "metadata": {},
   "outputs": [
    {
     "data": {
      "text/plain": [
       "7"
      ]
     },
     "execution_count": 12,
     "metadata": {},
     "output_type": "execute_result"
    }
   ],
   "source": [
    "x = {3,6.7,5+5j,'ramesh',print,range,True}\n",
    "len(x)"
   ]
  },
  {
   "cell_type": "markdown",
   "id": "cf552dea",
   "metadata": {},
   "source": [
    "# Declare an Empty Set\n",
    "* Declaring an empty set can be achieved by using constructor set rather than using CURLY braces'{ }'\n"
   ]
  },
  {
   "cell_type": "markdown",
   "id": "196ca225",
   "metadata": {},
   "source": [
    "# Create an Empty Set using the set() Constructor\n",
    "* The set() constructor is used to create a set in Python.\n",
    "* Syntax: set(iterable)\n",
    "\n"
   ]
  },
  {
   "cell_type": "markdown",
   "id": "13a9b00a",
   "metadata": {},
   "source": [
    "Parameters:\n",
    "* iterable: This is an optional argument that can be a sequence(string, tuple) or collection(dictionary, list) or an iterator object.\n",
    "\n",
    " Return Type:\n",
    " \n",
    "* Returns an empty set if no parameters are passed.\n",
    "* If a parameter is passed then it returns a set of elements in the iterable.\n"
   ]
  },
  {
   "cell_type": "code",
   "execution_count": 13,
   "id": "7f14526a",
   "metadata": {},
   "outputs": [
    {
     "name": "stdout",
     "output_type": "stream",
     "text": [
      "set()\n",
      "<class 'set'>\n",
      "0\n",
      "0x287d4e4e880\n"
     ]
    }
   ],
   "source": [
    "x=set() #  creating empty set\n",
    "print(x,type(x),len(x),hex(id(x)),sep='\\n')\n"
   ]
  },
  {
   "cell_type": "markdown",
   "id": "8282cce3",
   "metadata": {},
   "source": [
    "Using curly braces will get empty dictionary not empty set\n"
   ]
  },
  {
   "cell_type": "code",
   "execution_count": 14,
   "id": "281b6bd9",
   "metadata": {},
   "outputs": [
    {
     "name": "stdout",
     "output_type": "stream",
     "text": [
      "{}\n",
      "<class 'dict'>\n",
      "0\n",
      "0x287d4e7e580\n"
     ]
    }
   ],
   "source": [
    "x={}\n",
    "print(x,type(x),len(x),hex(id(x)),sep='\\n')\n"
   ]
  },
  {
   "cell_type": "code",
   "execution_count": 15,
   "id": "91143da0",
   "metadata": {},
   "outputs": [
    {
     "name": "stdout",
     "output_type": "stream",
     "text": [
      "{}\n",
      "<class 'dict'>\n",
      "0\n",
      "0x287d4e67200\n"
     ]
    }
   ],
   "source": [
    "y={}\n",
    "print(y,type(y),len(y),hex(id(y)),sep='\\n')"
   ]
  },
  {
   "cell_type": "markdown",
   "id": "d644316b",
   "metadata": {},
   "source": [
    "# Range\n",
    "* range()populates a numbers within a given range\n",
    "* syntax for range() is : range(start,end,step)\n",
    "* start is starting number\n",
    "* end is till end , not including end\n",
    "* step is step size\n",
    "* default values of start is zero and step is +1\n"
   ]
  },
  {
   "cell_type": "code",
   "execution_count": 16,
   "id": "87f79057",
   "metadata": {},
   "outputs": [
    {
     "name": "stdout",
     "output_type": "stream",
     "text": [
      "range(5, 15)\n",
      "<class 'range'>\n",
      "0x287d4ddad60\n"
     ]
    }
   ],
   "source": [
    "r= range(5,15)  # till end means upto 10\n",
    "print(r,type(r),hex(id(r)),sep='\\n')\n"
   ]
  },
  {
   "cell_type": "code",
   "execution_count": 17,
   "id": "2bcc4ee0",
   "metadata": {},
   "outputs": [
    {
     "data": {
      "text/plain": [
       "{5, 6, 7, 8, 9, 10, 11, 12, 13, 14}"
      ]
     },
     "execution_count": 17,
     "metadata": {},
     "output_type": "execute_result"
    }
   ],
   "source": [
    "set(r) #type casting is converting range to set\n"
   ]
  },
  {
   "cell_type": "code",
   "execution_count": 18,
   "id": "e477003e",
   "metadata": {},
   "outputs": [
    {
     "name": "stdout",
     "output_type": "stream",
     "text": [
      "range(15, 7, -10)\n",
      "<class 'range'>\n",
      "0x287d4dda1c0\n"
     ]
    }
   ],
   "source": [
    "r=range(15,7,-10)\n",
    "print(r,type(r),hex(id(r)),sep='\\n')\n"
   ]
  },
  {
   "cell_type": "code",
   "execution_count": 19,
   "id": "a4f66f58",
   "metadata": {},
   "outputs": [
    {
     "name": "stdout",
     "output_type": "stream",
     "text": [
      "range(4, 9, -2)\n",
      "<class 'range'>\n",
      "0x287d4dd9bc0\n"
     ]
    }
   ],
   "source": [
    "r=range(4,9,-2)\n",
    "print(r,type(r),hex(id(r)),sep='\\n')\n"
   ]
  },
  {
   "cell_type": "code",
   "execution_count": 24,
   "id": "734e4682",
   "metadata": {},
   "outputs": [
    {
     "data": {
      "text/plain": [
       "range(4, 9, -2)"
      ]
     },
     "execution_count": 24,
     "metadata": {},
     "output_type": "execute_result"
    }
   ],
   "source": [
    "set(r)\n",
    "r"
   ]
  },
  {
   "cell_type": "code",
   "execution_count": 23,
   "id": "74faad59",
   "metadata": {},
   "outputs": [
    {
     "data": {
      "text/plain": [
       "({0, 1, 2, 3, 4, 5, 6, 7, 8, 9, 10}, {0, 1, 2, 3, 4, 5, 6, 7, 8, 9, 10})"
      ]
     },
     "execution_count": 23,
     "metadata": {},
     "output_type": "execute_result"
    }
   ],
   "source": [
    "set(range(0,11,1)),set(range(11))\n"
   ]
  },
  {
   "cell_type": "markdown",
   "id": "fb749557",
   "metadata": {},
   "source": [
    "# Methods in Set\n"
   ]
  },
  {
   "cell_type": "markdown",
   "id": "f9a1cef4",
   "metadata": {},
   "source": [
    "python set methods\n",
    "\n",
    "* pop()\n",
    "* add()\n",
    "* issuperset()\n",
    "* discard()\n",
    "* union()\n",
    "* remove()\n",
    "* isdisjoint()\n",
    "* copy()\n",
    "* difference()\n",
    "* intersection()\n",
    "* issubset()\n",
    "* clear()\n"
   ]
  },
  {
   "cell_type": "markdown",
   "id": "28cedcd1",
   "metadata": {},
   "source": [
    " 1 add()\n",
    " \n",
    "* Adds a given element to a set\n",
    "\n",
    "2 clear()\n",
    "\n",
    "*  Removes all elements from the set\n",
    "\n",
    "3 copy()\n",
    "\n",
    "* Returns a shallow copy of the set\n",
    "\n",
    "4  difference()\n",
    "\n",
    "*  Returns a set that is the difference between two sets\n",
    "\n",
    "5  difference_update()\n",
    "\n",
    "*  Updates the existing caller set with the difference between two sets\n",
    "\n",
    "6 discard()\n"
   ]
  },
  {
   "cell_type": "markdown",
   "id": "b9923028",
   "metadata": {},
   "source": [
    "* Removes the element from the set\n",
    "\n",
    "7 frozenset()\n",
    "\n",
    "* Return an immutable frozenset object\n",
    "\n",
    "8 intersection()\n",
    "\n",
    "* Returns a set that has the intersection of all sets\n",
    "\n",
    "9 intersection_update()\n",
    "\n",
    "* Updates the existing caller set with the intersection of sets\n",
    "\n",
    "10 isdisjoint()\n",
    "\n",
    "* Checks whether the sets are disjoint or not\n",
    "\n",
    "11 issubset()\n",
    "\n",
    "* Returns True if all elements of a set A are present in another set B\n",
    "\n",
    "12 issuperset()\n",
    "\n",
    "* Returns True if all elements of a set A occupies set B\n",
    "\n",
    "13 pop()\n",
    "\n",
    "* Returns and removes a random element from the set\n",
    "\n",
    "14 remove()\n",
    "\n",
    "* Removes the element from the set\n"
   ]
  },
  {
   "cell_type": "markdown",
   "id": "1cd63bec",
   "metadata": {},
   "source": [
    "15 symmetric_difference()\n",
    "\n",
    "* Returns a set which is the symmetric difference between the two sets\n",
    "\n",
    "16 symmetric_difference_update()\n",
    "\n",
    "* Updates the existing caller set with the symmetric difference of sets\n",
    "\n",
    "17 union()\n",
    "\n",
    "* Returns a set that has the union of all sets\n",
    "\n",
    "18 update()\n",
    "\n",
    "* Adds elements to the set"
   ]
  },
  {
   "cell_type": "code",
   "execution_count": 26,
   "id": "2dec82f0",
   "metadata": {},
   "outputs": [
    {
     "data": {
      "text/plain": [
       "['__and__',\n",
       " '__class__',\n",
       " '__class_getitem__',\n",
       " '__contains__',\n",
       " '__delattr__',\n",
       " '__dir__',\n",
       " '__doc__',\n",
       " '__eq__',\n",
       " '__format__',\n",
       " '__ge__',\n",
       " '__getattribute__',\n",
       " '__getstate__',\n",
       " '__gt__',\n",
       " '__hash__',\n",
       " '__iand__',\n",
       " '__init__',\n",
       " '__init_subclass__',\n",
       " '__ior__',\n",
       " '__isub__',\n",
       " '__iter__',\n",
       " '__ixor__',\n",
       " '__le__',\n",
       " '__len__',\n",
       " '__lt__',\n",
       " '__ne__',\n",
       " '__new__',\n",
       " '__or__',\n",
       " '__rand__',\n",
       " '__reduce__',\n",
       " '__reduce_ex__',\n",
       " '__repr__',\n",
       " '__ror__',\n",
       " '__rsub__',\n",
       " '__rxor__',\n",
       " '__setattr__',\n",
       " '__sizeof__',\n",
       " '__str__',\n",
       " '__sub__',\n",
       " '__subclasshook__',\n",
       " '__xor__',\n",
       " 'add',\n",
       " 'clear',\n",
       " 'copy',\n",
       " 'difference',\n",
       " 'difference_update',\n",
       " 'discard',\n",
       " 'intersection',\n",
       " 'intersection_update',\n",
       " 'isdisjoint',\n",
       " 'issubset',\n",
       " 'issuperset',\n",
       " 'pop',\n",
       " 'remove',\n",
       " 'symmetric_difference',\n",
       " 'symmetric_difference_update',\n",
       " 'union',\n",
       " 'update']"
      ]
     },
     "execution_count": 26,
     "metadata": {},
     "output_type": "execute_result"
    }
   ],
   "source": [
    "s=set\n",
    "dir(s)"
   ]
  },
  {
   "cell_type": "code",
   "execution_count": 27,
   "id": "681c0395",
   "metadata": {},
   "outputs": [
    {
     "name": "stdout",
     "output_type": "stream",
     "text": [
      "add clear copy difference difference_update discard intersection intersection_update isdisjoint issubset issuperset pop remove symmetric_difference symmetric_difference_update union update\n"
     ]
    }
   ],
   "source": [
    "print('add',\n",
    " 'clear',\n",
    " 'copy',\n",
    " 'difference',\n",
    " 'difference_update',\n",
    " 'discard',\n",
    " 'intersection',\n",
    " 'intersection_update',\n",
    " 'isdisjoint',\n",
    " 'issubset',\n",
    " 'issuperset',\n",
    " 'pop',\n",
    " 'remove',\n",
    " 'symmetric_difference',\n",
    " 'symmetric_difference_update',\n",
    " 'union',\n",
    " 'update')\n"
   ]
  },
  {
   "cell_type": "markdown",
   "id": "fdf4b9dc",
   "metadata": {},
   "source": [
    "# 1. add()\n",
    "* add() method adds a one element to a set if the element is not present in the set.\n",
    "* Syntax: set.add( elem )\n",
    "\n",
    "Parameters:\n",
    "\n",
    "* elem: The element that needs to be added to a set.\n",
    "* Returns:\n",
    "* This method doesn’t return any value"
   ]
  },
  {
   "cell_type": "code",
   "execution_count": 28,
   "id": "7fd0cd91",
   "metadata": {},
   "outputs": [
    {
     "name": "stdout",
     "output_type": "stream",
     "text": [
      "set()\n"
     ]
    }
   ],
   "source": [
    "x=set()\n",
    "print(x)"
   ]
  },
  {
   "cell_type": "code",
   "execution_count": 29,
   "id": "2de69af4",
   "metadata": {},
   "outputs": [
    {
     "name": "stdout",
     "output_type": "stream",
     "text": [
      "{4}\n"
     ]
    }
   ],
   "source": [
    "x.add(4)\n",
    "print(x)\n"
   ]
  },
  {
   "cell_type": "markdown",
   "id": "f04a6fd4",
   "metadata": {},
   "source": [
    "# 2. clear()\n",
    "* Set clear() method removes all elements from the set.\n",
    "* Syntax: set.clear()\n",
    "\n",
    "parameters:\n",
    "\n",
    "* The clear() method doesn’t take any parameters.\n",
    "\n",
    "Return:\n",
    "\n",
    "* This method does not return any element"
   ]
  },
  {
   "cell_type": "code",
   "execution_count": 31,
   "id": "fa53973b",
   "metadata": {},
   "outputs": [
    {
     "name": "stdout",
     "output_type": "stream",
     "text": [
      "{1, 2, 3, 4, 5}\n"
     ]
    }
   ],
   "source": [
    "a={1,2,3,4,5}\n",
    "print(a)"
   ]
  },
  {
   "cell_type": "code",
   "execution_count": 32,
   "id": "20370539",
   "metadata": {},
   "outputs": [
    {
     "name": "stdout",
     "output_type": "stream",
     "text": [
      "{42, 12, 23, 39}\n"
     ]
    }
   ],
   "source": [
    "b = {23,42,12,39}\n",
    "print(b)"
   ]
  },
  {
   "cell_type": "code",
   "execution_count": 33,
   "id": "d222b3db",
   "metadata": {},
   "outputs": [
    {
     "name": "stdout",
     "output_type": "stream",
     "text": [
      "set()\n"
     ]
    }
   ],
   "source": [
    "a.clear()\n",
    "print(a)"
   ]
  },
  {
   "cell_type": "markdown",
   "id": "f2eb92c6",
   "metadata": {},
   "source": [
    "# 3. copy()\n",
    "* copy() method returns a shallow copy of the set in python.\n",
    "* If we use “=” to copy a set to another set, when we modify in the copied set, the changes are also reflected in the original set.\n",
    "* So we have to create a shallow copy of the set such that when we modify something in the copied set, changes are not reflected back in the original set.\n",
    "* Syntax:set_name.copy()\n",
    "* set_name: Name of the set whose copy we want to generate.\n",
    "\n",
    "Parameters:\n",
    "\n",
    "* The copy() method for sets doesn’t take any parameters.\n",
    "\n",
    "Return value:\n",
    "\n",
    "* The function returns a shallow copy of the original set.\n"
   ]
  },
  {
   "cell_type": "markdown",
   "id": "ce7656df",
   "metadata": {},
   "source": [
    "# 4. difference()\n",
    "* The difference between the two sets in Python is equal to the difference between the number of elements in two sets.\n",
    "* The function difference() returns a set that is the difference between two sets.\n",
    "* difference() removes common element and returns one set, starting set i.e.,'a'\n",
    "\n",
    "Syntax:\n",
    "\n",
    "* set_A.difference(set_B) for (A - B)\n",
    "* set_B.difference(set_A) for (B - A)"
   ]
  },
  {
   "cell_type": "code",
   "execution_count": 2,
   "id": "efa18067",
   "metadata": {},
   "outputs": [
    {
     "name": "stdout",
     "output_type": "stream",
     "text": [
      "{1, 2, 3, 4, 5}\n",
      "{4, 5, 6, 7, 8}\n",
      "{1, 2, 3, 4, 5, 6, 7, 8}\n",
      "{'b', 'a', 'c'}\n"
     ]
    }
   ],
   "source": [
    "a={1,2,3,4,5}\n",
    "b={4,5,6,7,8}\n",
    "c=set(range(1,9)) # here range is till '9' not including '9'\n",
    "d={'a','b','c'}\n",
    "print(a,b,c,d,sep='\\n')\n"
   ]
  },
  {
   "cell_type": "code",
   "execution_count": 3,
   "id": "40c88ecc",
   "metadata": {},
   "outputs": [
    {
     "data": {
      "text/plain": [
       "{1, 2, 3}"
      ]
     },
     "execution_count": 3,
     "metadata": {},
     "output_type": "execute_result"
    }
   ],
   "source": [
    "a.difference(b)\n"
   ]
  },
  {
   "cell_type": "code",
   "execution_count": 4,
   "id": "101f5e48",
   "metadata": {},
   "outputs": [
    {
     "data": {
      "text/plain": [
       "{6, 7, 8}"
      ]
     },
     "execution_count": 4,
     "metadata": {},
     "output_type": "execute_result"
    }
   ],
   "source": [
    "b.difference(a)\n"
   ]
  },
  {
   "cell_type": "markdown",
   "id": "95142ab4",
   "metadata": {},
   "source": [
    "# 5. difference_update()\n",
    "* The difference_update() method helps in an in-place way of differentiating the set.\n",
    "* The previously discussed set difference() helps to find out the difference between two sets and returns a new set with the difference value, but the difference_update() updates the existing caller set.\n",
    "\n",
    "Syntax:\n",
    "\n",
    "* A.difference_update(B) for (A - B)\n",
    "* B.difference_update(A) for (B - A)\n",
    "* The function returns None and changes the value of the existing set."
   ]
  },
  {
   "cell_type": "code",
   "execution_count": 6,
   "id": "0a3a40b1",
   "metadata": {},
   "outputs": [],
   "source": [
    "a.difference_update(b)\n",
    "# no output in function we will get clarity\n"
   ]
  },
  {
   "cell_type": "code",
   "execution_count": 7,
   "id": "7536d735",
   "metadata": {},
   "outputs": [
    {
     "name": "stdout",
     "output_type": "stream",
     "text": [
      "{1, 2, 3}\n"
     ]
    }
   ],
   "source": [
    "a.difference_update(b)\n",
    "print(a)"
   ]
  },
  {
   "cell_type": "markdown",
   "id": "39e43847",
   "metadata": {},
   "source": [
    "# 6. discard()\n",
    "* discard() is a built-in method to remove elements from the set.\n",
    "* The discard() method takes exactly one argument.\n",
    "* This method does not return any value.\n",
    "* Syntax :set.discard(element)\n",
    "\n",
    "Parameter\n",
    "\n",
    "* element – an item to remove from the set.\n",
    "\n",
    "Return Value\n",
    "\n",
    "* return – discard() method doesn’t return any value."
   ]
  },
  {
   "cell_type": "code",
   "execution_count": 9,
   "id": "961538da",
   "metadata": {},
   "outputs": [
    {
     "name": "stdout",
     "output_type": "stream",
     "text": [
      "{23, 71, 56, 10, 62}\n"
     ]
    }
   ],
   "source": [
    "#discard\n",
    "x={23,56,71,62,10}\n",
    "x.discard(9) # it does not shows error\n",
    "print(x)"
   ]
  },
  {
   "cell_type": "code",
   "execution_count": 10,
   "id": "79934087",
   "metadata": {},
   "outputs": [
    {
     "name": "stdout",
     "output_type": "stream",
     "text": [
      "{52, 7, 27, 12, 44}\n"
     ]
    }
   ],
   "source": [
    "x={12,44,52,27,7}\n",
    "x.discard(9) \n",
    "print(x)"
   ]
  },
  {
   "cell_type": "markdown",
   "id": "2838b0f7",
   "metadata": {},
   "source": [
    "# 7. frozenset()\n",
    "* frozenset() creates an immutable Set object from an iterable.\n",
    "* As it is a set object, therefore, we cannot have duplicate values in the frozenset.\n",
    "* Syntax : frozenset(iterable_object_name)\n",
    "\n",
    "Parameter :\n",
    "\n",
    "* iterable_object_name: This function accepts iterable object as input parameter.\n",
    "\n",
    "Return :\n",
    "\n",
    "* Returns an equivalent frozenset object."
   ]
  },
  {
   "cell_type": "code",
   "execution_count": 11,
   "id": "fbe4a7f2",
   "metadata": {},
   "outputs": [
    {
     "data": {
      "text/plain": [
       "frozenset({'bhanu', 'naresh', 'prasad'})"
      ]
     },
     "execution_count": 11,
     "metadata": {},
     "output_type": "execute_result"
    }
   ],
   "source": [
    "words=('bhanu','prasad','naresh')\n",
    "frozenset(words)"
   ]
  },
  {
   "cell_type": "markdown",
   "id": "ca95ee9d",
   "metadata": {},
   "source": [
    "# 8. intersection()\n",
    "* intersection() method returns a new set with an element that is common to all set\n",
    "* The intersection of two given sets is the largest set, which contains all the elements that are common to both sets.\n",
    "* The intersection of two given sets A and B is a set which consists of all the elements which are common to both A and B.\n",
    "* Syntax: set1.intersection(set2, set3, set4….)\n",
    "\n",
    "Parameters:\n",
    "\n",
    "* any number of sets can be passed\n",
    "\n",
    "Return:\n",
    "\n",
    "* Returns a set which has the intersection of all sets(set1, set2, set3…) with set1.\n",
    "* It returns a copy of set1 only if no parameter is passed\n"
   ]
  },
  {
   "cell_type": "code",
   "execution_count": 12,
   "id": "8bbeb5a4",
   "metadata": {},
   "outputs": [
    {
     "name": "stdout",
     "output_type": "stream",
     "text": [
      "{1, 2, 3, 4, 5}\n",
      "{4, 5, 6, 7, 8}\n",
      "{1, 2, 3, 4, 5, 6, 7, 8}\n",
      "{'b', 'a', 'c'}\n"
     ]
    },
    {
     "data": {
      "text/plain": [
       "{4, 5}"
      ]
     },
     "execution_count": 12,
     "metadata": {},
     "output_type": "execute_result"
    }
   ],
   "source": [
    "# intersection\n",
    "a={1,2,3,4,5}\n",
    "b={4,5,6,7,8}\n",
    "c=set(range(1,9)) # here range is till '9' not including '9'\n",
    "d={'a','b','c'}\n",
    "print(a,b,c,d,sep='\\n')\n",
    "a.intersection(b) # common element"
   ]
  },
  {
   "cell_type": "markdown",
   "id": "9bbf7d4b",
   "metadata": {},
   "source": [
    "# 9. intersection_update()\n",
    "* intersection_update() method is used to update a set with common elements only of all the sets passed in parameter.\n",
    "* Syntax: set.intersection_update(set1,set2,set3,………..,set n)\n",
    "\n",
    "Parameters:\n",
    "\n",
    "* One or more sets\n",
    "\n",
    "Return:\n",
    "\n",
    "* None"
   ]
  },
  {
   "cell_type": "code",
   "execution_count": 13,
   "id": "359c771b",
   "metadata": {},
   "outputs": [
    {
     "name": "stdout",
     "output_type": "stream",
     "text": [
      "{2, 3, 4}\n"
     ]
    }
   ],
   "source": [
    "a={1,2,3,4,5}\n",
    "b={2,3,4}\n",
    "a.intersection_update(b)\n",
    "print(a)"
   ]
  },
  {
   "cell_type": "code",
   "execution_count": 15,
   "id": "1bff3ab5",
   "metadata": {},
   "outputs": [
    {
     "name": "stdout",
     "output_type": "stream",
     "text": [
      "{12, 13, 14}\n"
     ]
    }
   ],
   "source": [
    "x={12,13,14,15,16}\n",
    "y={12,13,14}\n",
    "x.intersection_update(y)\n",
    "print(x)"
   ]
  },
  {
   "cell_type": "code",
   "execution_count": 16,
   "id": "9232f64c",
   "metadata": {},
   "outputs": [
    {
     "name": "stdout",
     "output_type": "stream",
     "text": [
      "None\n"
     ]
    }
   ],
   "source": [
    "print(a.intersection_update(b))"
   ]
  },
  {
   "cell_type": "markdown",
   "id": "4ca007da",
   "metadata": {},
   "source": [
    "# 10. isdisjoint()\n",
    "* isdisjoint() function check whether the two sets are disjoint or not\n",
    "* if it is disjoint then it returns True otherwise it will return False.\n",
    "* Two sets are said to be disjoint when their intersection is null.\n",
    "* Syntax: set1.isdisjoint(set2)\n",
    "\n",
    "Parameters:\n",
    "\n",
    "* another set to compare with or an iterable (list, tuple, dictionary, and string)\n",
    "\n",
    "Return:\n",
    "\n",
    "* boolean value"
   ]
  },
  {
   "cell_type": "code",
   "execution_count": 17,
   "id": "36660947",
   "metadata": {},
   "outputs": [
    {
     "data": {
      "text/plain": [
       "False"
      ]
     },
     "execution_count": 17,
     "metadata": {},
     "output_type": "execute_result"
    }
   ],
   "source": [
    "# isdisjoint :different sets \n",
    "a.isdisjoint(b) #boolean output"
   ]
  },
  {
   "cell_type": "markdown",
   "id": "56264c02",
   "metadata": {},
   "source": [
    "# 11. issubset()\n",
    "* issubset() method returns True if all elements of a set A are present in another set B which is passed as an argument, and returns False if all elements are not present .\n",
    "* Syntax: set_obj.issubset(other_set)\n",
    "\n",
    "Parameter:\n",
    "\n",
    "* other_set: any other set to compare with.\n",
    "\n",
    "Return:\n",
    "\n",
    "* boolean value"
   ]
  },
  {
   "cell_type": "code",
   "execution_count": 18,
   "id": "1c896dfc",
   "metadata": {},
   "outputs": [
    {
     "data": {
      "text/plain": [
       "True"
      ]
     },
     "execution_count": 18,
     "metadata": {},
     "output_type": "execute_result"
    }
   ],
   "source": [
    "# issubset\n",
    "a.issubset(c) #  all elements 'a'in 'c'"
   ]
  },
  {
   "cell_type": "markdown",
   "id": "24e49a06",
   "metadata": {},
   "source": [
    "# 12. issuperset()\n",
    "* issuperset() method returns True if all elements of a set B are in set A. Then Set A is the superset of set B.\n",
    "* Syntax: A.issuperset(B)\n",
    "\n",
    "Parameter:\n",
    "\n",
    "* Any other Set to compare with\n",
    "\n",
    "Return:\n",
    "\n",
    "* boolean value"
   ]
  },
  {
   "cell_type": "code",
   "execution_count": 19,
   "id": "d45b0755",
   "metadata": {},
   "outputs": [
    {
     "data": {
      "text/plain": [
       "True"
      ]
     },
     "execution_count": 19,
     "metadata": {},
     "output_type": "execute_result"
    }
   ],
   "source": [
    "# issuperset \n",
    "c.issuperset(a) #  elements of 'c'in 'a'"
   ]
  },
  {
   "cell_type": "markdown",
   "id": "d48f7d29",
   "metadata": {},
   "source": [
    "# 13. pop()\n",
    "* pop() removes any random element from the set and returns the removed element.\n",
    "* pop() is a method in Python used to remove and return any random element from the set.\n",
    "* Syntax: set_obj.pop()\n",
    "\n",
    "Parameter:\n",
    "\n",
    "* set.pop() doesn’t take any parameter.\n",
    "\n",
    "Return:\n",
    "\n",
    "* Returns the popped element from the set\n"
   ]
  },
  {
   "cell_type": "code",
   "execution_count": 20,
   "id": "5f7c2333",
   "metadata": {},
   "outputs": [
    {
     "name": "stdout",
     "output_type": "stream",
     "text": [
      "{13, 14}\n"
     ]
    }
   ],
   "source": [
    "x.pop() #pops out a random value and return to us\n",
    "print(x)"
   ]
  },
  {
   "cell_type": "code",
   "execution_count": 21,
   "id": "98198d4e",
   "metadata": {},
   "outputs": [
    {
     "name": "stdout",
     "output_type": "stream",
     "text": [
      "2 {3, 4, 5}\n"
     ]
    }
   ],
   "source": [
    "x={2,3,4,5}\n",
    "a=x.pop() #pops out a random element\n",
    "print(a,x)"
   ]
  },
  {
   "cell_type": "markdown",
   "id": "14df7c86",
   "metadata": {},
   "source": [
    "# 14. remove()\n",
    "* remove() Function is a built-in method to remove elements from the set.\n",
    "* remove() method takes exactly one argument.\n",
    "* Syntax: set.remove(element)\n",
    "* If the element passed to the remove() is present in the set then the element will be removed from the set.\n",
    "* If the element passed to the remove() is not present in the set then KeyError Exception will be raised.\n",
    "* The remove() method does not return any value."
   ]
  },
  {
   "cell_type": "code",
   "execution_count": 22,
   "id": "9e1f6429",
   "metadata": {},
   "outputs": [
    {
     "name": "stdout",
     "output_type": "stream",
     "text": [
      "{3, 4}\n"
     ]
    }
   ],
   "source": [
    "#removes\n",
    "x.remove(5) # it  shows error\n",
    "print(x)"
   ]
  },
  {
   "cell_type": "markdown",
   "id": "c840ae98",
   "metadata": {},
   "source": [
    "# 15. symmetric_difference()\n",
    "* symmetric_difference() method is used to get the elements present in either of the two sets, but not common to both sets\n",
    "* This method is used with sets to find the symmetric difference between two sets.\n",
    "* The symmetric difference of two sets A and B is a set of elements that are in either A or B, but not in both.\n",
    "* Syntax: set_A.symmetric_difference(set_B)\n",
    "\n",
    "Parameter:\n",
    "\n",
    "* Takes a single parameter that has to be a set\n",
    "\n",
    "Return:\n",
    "\n",
    "* Returns a new set which is the symmetric difference between the two sets."
   ]
  },
  {
   "cell_type": "code",
   "execution_count": 23,
   "id": "910dac56",
   "metadata": {},
   "outputs": [
    {
     "name": "stdout",
     "output_type": "stream",
     "text": [
      "{2, 3, 4, 5}\n"
     ]
    }
   ],
   "source": [
    "a={2,3,4,5}\n",
    "b={4,5,6,7,8}\n",
    "a.symmetric_difference(b)\n",
    "print(a)"
   ]
  },
  {
   "cell_type": "markdown",
   "id": "fad438fd",
   "metadata": {},
   "source": [
    "# 16. symmetric difference_update()\n",
    "* symmetric_difference() method returns a new set that contains a symmetric difference of two sets.\n",
    "* The symmetric_difference_update() method updates the set by calling symmetric_difference_update() with the symmetric difference of sets.\n",
    "* Syntax: A.symmetric_difference_update(B)\n",
    "\n",
    "Parameters:\n",
    "\n",
    "* The symmetric_difference takes a single “iterable” as an argument. Iterable should contain hashable object.\n",
    "\n",
    "Returns:\n",
    "\n",
    "* This method returns None (which indicates absence of a return value).\n",
    "* It only updates the set calling symmetric_difference_update() with the symmetric difference of sets.\n"
   ]
  },
  {
   "cell_type": "code",
   "execution_count": 24,
   "id": "a0500770",
   "metadata": {},
   "outputs": [
    {
     "name": "stdout",
     "output_type": "stream",
     "text": [
      "{2, 3, 6, 7, 8}\n"
     ]
    }
   ],
   "source": [
    "a.symmetric_difference_update(b)\n",
    "print(a)"
   ]
  },
  {
   "cell_type": "markdown",
   "id": "8bdbbc2c",
   "metadata": {},
   "source": [
    "# 17. union()\n",
    "* Union() Method returns a new set that contains all the items from the original set.\n",
    "* The union of two given sets is the set that contains all the elements of both sets.\n",
    "* The union of two given sets A and B is a set that consists of all the elements of A and all the elements of B such that no element is repeated.\n",
    "* Syntax: set1.union(set2, set3, set4….)\n",
    "\n",
    "Parameters:\n",
    "\n",
    "* zero or more sets\n",
    "\n",
    "Return:\n",
    "\n",
    "* Returns a set, which has the union of all sets(set1, set2, set3…) with set1.\n",
    "* It returns a copy of set1 only if no parameter is passed."
   ]
  },
  {
   "cell_type": "code",
   "execution_count": 25,
   "id": "b18499ef",
   "metadata": {},
   "outputs": [
    {
     "data": {
      "text/plain": [
       "{2, 3, 4, 5, 6, 7, 8}"
      ]
     },
     "execution_count": 25,
     "metadata": {},
     "output_type": "execute_result"
    }
   ],
   "source": [
    "#union\n",
    "a.union(b) # all elements without repeating elements"
   ]
  },
  {
   "cell_type": "markdown",
   "id": "78a26474",
   "metadata": {},
   "source": [
    "# 18. update()\n",
    "* update() function in set adds elements from a set (passed as an argument) to the set.\n",
    "* Syntax : set1.update(set2)\n",
    "* Here set1 is the set in which set2 will be added.\n",
    "\n",
    "Parameters :\n",
    "\n",
    "* Update() method takes any number of argument. The arguments can be a set, list, tuples or a dictionary. It automatically converts into a set and adds to the set."
   ]
  },
  {
   "cell_type": "code",
   "execution_count": 26,
   "id": "f2c76eee",
   "metadata": {},
   "outputs": [
    {
     "name": "stdout",
     "output_type": "stream",
     "text": [
      "{3, 4, 5, 15}\n"
     ]
    }
   ],
   "source": [
    "x.update((5,15))\n",
    "print(x)"
   ]
  },
  {
   "cell_type": "code",
   "execution_count": null,
   "id": "6e65ccbe",
   "metadata": {},
   "outputs": [],
   "source": []
  },
  {
   "cell_type": "code",
   "execution_count": null,
   "id": "3f3899b6",
   "metadata": {},
   "outputs": [],
   "source": []
  },
  {
   "cell_type": "code",
   "execution_count": null,
   "id": "1a455d17",
   "metadata": {},
   "outputs": [],
   "source": []
  },
  {
   "cell_type": "code",
   "execution_count": null,
   "id": "3f282acc",
   "metadata": {},
   "outputs": [],
   "source": []
  },
  {
   "cell_type": "code",
   "execution_count": null,
   "id": "e9acb33a",
   "metadata": {},
   "outputs": [],
   "source": []
  },
  {
   "cell_type": "code",
   "execution_count": null,
   "id": "c85ed819",
   "metadata": {},
   "outputs": [],
   "source": []
  },
  {
   "cell_type": "code",
   "execution_count": null,
   "id": "e089831a",
   "metadata": {},
   "outputs": [],
   "source": []
  },
  {
   "cell_type": "code",
   "execution_count": null,
   "id": "b0cca000",
   "metadata": {},
   "outputs": [],
   "source": []
  }
 ],
 "metadata": {
  "kernelspec": {
   "display_name": "Python 3 (ipykernel)",
   "language": "python",
   "name": "python3"
  },
  "language_info": {
   "codemirror_mode": {
    "name": "ipython",
    "version": 3
   },
   "file_extension": ".py",
   "mimetype": "text/x-python",
   "name": "python",
   "nbconvert_exporter": "python",
   "pygments_lexer": "ipython3",
   "version": "3.11.4"
  }
 },
 "nbformat": 4,
 "nbformat_minor": 5
}
