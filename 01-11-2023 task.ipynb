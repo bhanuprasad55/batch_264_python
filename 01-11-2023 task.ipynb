{
 "cells": [
  {
   "cell_type": "markdown",
   "id": "138cad5f",
   "metadata": {},
   "source": [
    "### 10. Create rock-paper-scissors by using the if condition."
   ]
  },
  {
   "cell_type": "code",
   "execution_count": 1,
   "id": "ea5fc013",
   "metadata": {},
   "outputs": [
    {
     "name": "stdout",
     "output_type": "stream",
     "text": [
      "enter a's input rock or paper or scissor:rock\n",
      "enter b's input rock or paper or scissor:paper\n",
      "b win\n"
     ]
    }
   ],
   "source": [
    "r='rock'\n",
    "p='paper'\n",
    "s='scissor'\n",
    "x=('rock,paper,scissor')\n",
    "a=input('enter a\\'s input rock or paper or scissor:')\n",
    "b=input('enter b\\'s input rock or paper or scissor:')\n",
    "if a in x and b in x:\n",
    "    if a==r and b==p:\n",
    "        print('b win')\n",
    "    elif a==r and b==s:\n",
    "        print('a win')\n",
    "    elif a==p  and b==s:\n",
    "        print('b win')\n",
    "    elif  a==p and b==r:\n",
    "        print('a win')\n",
    "    elif a==s and b==r:\n",
    "        print('b win')\n",
    "    elif a==s  and b==p:\n",
    "        print('a win')\n",
    "    elif a==r and b==r:\n",
    "        print('both wins')\n",
    "    elif a==p and b==p:\n",
    "        print('both wins')\n",
    "    elif a==s and b==s:\n",
    "        print('both wins')\n",
    "else :\n",
    "    print('enter valide name')"
   ]
  },
  {
   "cell_type": "code",
   "execution_count": 2,
   "id": "30f1cc7e",
   "metadata": {},
   "outputs": [
    {
     "name": "stdout",
     "output_type": "stream",
     "text": [
      "player - I: r\n",
      "tie\n"
     ]
    }
   ],
   "source": [
    "import random\n",
    "b = list('rps')\n",
    "random.shuffle(b)\n",
    "b = b[0]\n",
    "a = input('player - I: ').lower()\n",
    "if (a== 'p' and b== 'r') or (a== 's' and b== 'p') or (a== 'r' and b=='s'):\n",
    "    print('a win')\n",
    "elif a == b:\n",
    "    print('tie')\n",
    "else:\n",
    "    print('b')"
   ]
  },
  {
   "cell_type": "markdown",
   "id": "577d9775",
   "metadata": {},
   "source": [
    "### 11 Create a dynamic calculator which asks for numbers and operator and return the answers,\n",
    "\n",
    "    Example\n",
    "    Input: Type first number: 10\",\n",
    "    Type any of this (+, -, *, /, %, **): ,*\n",
    "    \n",
    "    Assignment-2 ,\n",
    "   Type second number: 19,\n",
    "   \n",
    "   Output:Answer is 190\n",
    "    \n"
   ]
  },
  {
   "cell_type": "code",
   "execution_count": 4,
   "id": "f3ceb25b",
   "metadata": {},
   "outputs": [
    {
     "name": "stdout",
     "output_type": "stream",
     "text": [
      "enter number-1 : 15\n",
      "enter number-2 : 15\n",
      "your assignment operator choosen ('+','-','*','%','/','//','**') : 10\n",
      "invalid input\n"
     ]
    }
   ],
   "source": [
    "n1 = float(input('enter number-1 : ')) #('strings')\n",
    "n2 = float(input('enter number-2 : '))\n",
    "a = input(\"your assignment operator choosen ('+','-','*','%','/','//','**') : \")\n",
    "if a =='+':\n",
    "    print(f'output answer is {n1} {a} {n2} is : ',n1+n2)# by checking the condition and input given and prints in the forma\n",
    "elif a =='-':\n",
    "    print(f'output answer is {n1} {a} {n2} is : ',n1-n2)\n",
    "elif a == '*':\n",
    "    print(f'output answer is {n1} {a} {n2} is :' ,n1*n2)\n",
    "elif a == '/':\n",
    "    print(f' output answer is {n1} {a} {n2} is :',n1/n2)\n",
    "elif a == '//':\n",
    "    print(f' output answer is {n1} {a} {n2} is :',n1//n2)\n",
    "elif a == '**':\n",
    "    print(f' output answer is {n1} {a} {n2} is :',n1**n2)\n",
    "else:\n",
    "        print('invalid input')"
   ]
  },
  {
   "cell_type": "code",
   "execution_count": null,
   "id": "d7bd4848",
   "metadata": {},
   "outputs": [],
   "source": []
  },
  {
   "cell_type": "markdown",
   "id": "1efab8e8",
   "metadata": {},
   "source": [
    "### 12. Manoj Kumar has family and friends. Help him remind them who is who. Given a string with a name, return the relation of that person to Manoj Kumar.,\n",
    "*  Person Relation,\n",
    " * Shiva father ,\n",
    " * Letha mother,\n",
    " * Tarun brother,\n",
    " * Kavitha sister ,\n",
    " * Strange Coder.\n"
   ]
  },
  {
   "cell_type": "code",
   "execution_count": 8,
   "id": "f19edfa5",
   "metadata": {},
   "outputs": [
    {
     "name": "stdout",
     "output_type": "stream",
     "text": [
      "enter relation :brother\n",
      "manoj brother name is :tarun\n"
     ]
    }
   ],
   "source": [
    "r = input('enter relation :')\n",
    "if r =='father':# checks the relation if given input and condition is matched or not\n",
    "    print('manoj father name is :shiva')\n",
    "elif r == 'mother': \n",
    "    print('manoj mother name is :letha')\n",
    "elif r == 'brother': \n",
    "    print('manoj brother name is :tarun')\n",
    "elif r == 'sister':\n",
    "    print('manoj sister name is :kavitha')\n",
    "elif r == 'stranger':\n",
    "    print('manoj stranger name is :coder')"
   ]
  },
  {
   "cell_type": "code",
   "execution_count": 1,
   "id": "a2ec3918",
   "metadata": {},
   "outputs": [
    {
     "name": "stdout",
     "output_type": "stream",
     "text": [
      "enter relation : father\n",
      "Manoj father name is : Shiva\n"
     ]
    }
   ],
   "source": [
    "r = input('enter relation : ')\n",
    "\n",
    "if r == 'father':\n",
    "    print('Manoj father name is : Shiva')\n",
    "elif r == 'mother':\n",
    "    print('Manoj Mother name is : Letha') # checks the relation if given input and condition is matched or not\n",
    "elif r == 'brother':\n",
    "    print('Manoj brother name is : Tarun')\n",
    "elif r == 'sister':\n",
    "    print('Manoj sister name is : Kavitha')\n",
    "elif r == 'strange':\n",
    "    print('Manoj Strange name is : Coder')\n"
   ]
  },
  {
   "cell_type": "markdown",
   "id": "363834ea",
   "metadata": {},
   "source": [
    "### 13.Write a python program that takes in a word and determines whether or not it is plural. A plural word is one that ends with “s”\n"
   ]
  },
  {
   "cell_type": "code",
   "execution_count": 43,
   "id": "7577a5e4",
   "metadata": {},
   "outputs": [
    {
     "name": "stdout",
     "output_type": "stream",
     "text": [
      "enter a string : is\n",
      "is\n"
     ]
    }
   ],
   "source": [
    "y = input('enter a string : ')\n",
    "\n",
    "if y.endswith('s'):\n",
    "    print(y)\n",
    "else:\n",
    "    print((y)+('s'))\n",
    "    \n"
   ]
  },
  {
   "cell_type": "markdown",
   "id": "e3a41456",
   "metadata": {},
   "source": [
    "### 14. A company decided to give a bonus of 5% to employees if his/her year of service is more than 5 years.Ask user for their salary and year of service and print the net bonus amount.\n"
   ]
  },
  {
   "cell_type": "code",
   "execution_count": 54,
   "id": "22a406d4",
   "metadata": {},
   "outputs": [
    {
     "name": "stdout",
     "output_type": "stream",
     "text": [
      "enter salary :100000\n",
      "enter the year of duration : 5\n",
      "your bonus amount is : 105000.0\n"
     ]
    }
   ],
   "source": [
    "salary = int(input('enter salary :'))\n",
    "duration = int(input('enter the year of duration : '))\n",
    "\n",
    "if duration >=5:\n",
    "    print('your bonus amount is :',salary+(5/100*salary))\n",
    "else:\n",
    "     print('your bonus amount is :',salary)"
   ]
  },
  {
   "cell_type": "markdown",
   "id": "bca22768",
   "metadata": {},
   "source": [
    "### 15. Take values of length and breadth of a rectangle from the user and check if it is square or not.\n"
   ]
  },
  {
   "cell_type": "code",
   "execution_count": 32,
   "id": "0e360add",
   "metadata": {},
   "outputs": [
    {
     "name": "stdout",
     "output_type": "stream",
     "text": [
      "enter l1 length : 10\n",
      "enter l2 length : 10\n",
      "enter l3 length : 10\n",
      "enter l4 length : 10\n",
      "it's a square\n"
     ]
    }
   ],
   "source": [
    "l1 = int(input('enter l1 length : '))\n",
    "l2 = int(input('enter l2 length : '))\n",
    "l3 = int(input('enter l3 length : '))\n",
    "l4 = int(input('enter l4 length : '))\n",
    "if l1 == l2 and l3 == l4:\n",
    "    print('it\\'s a square')\n",
    "else:\n",
    "        print('it\\'s not a square')"
   ]
  },
  {
   "cell_type": "markdown",
   "id": "9c74fc37",
   "metadata": {},
   "source": [
    "### 16.  Accept any city from the user and display the momentum of the city\n",
    "\n",
    " Hyderabad  : “charminar”\n",
    " \n",
    " “Delhi”   : “red fort\n",
    " \n",
    "“Agra  : Taj mahal\n",
    "\n",
    "If the city name is not given correctly, give him a warning message.\n"
   ]
  },
  {
   "cell_type": "code",
   "execution_count": 26,
   "id": "533d7954",
   "metadata": {},
   "outputs": [
    {
     "name": "stdout",
     "output_type": "stream",
     "text": [
      "enter a city hyderabad\n",
      "charminar\n"
     ]
    }
   ],
   "source": [
    "s = input('enter a city ').lower()\n",
    "a = ('hyderabad','delhi','agra')\n",
    "\n",
    "if s in a:# by givimg the indexing of the string and prints the output to that input given.\n",
    "    if s == 'hyderabad': \n",
    "        print('charminar')\n",
    "    elif s == 'delhi': \n",
    "        print('Red_fort')\n",
    "    elif s == 'agra': \n",
    "        print('Taj_mahal')\n",
    "else:\n",
    "    print(\"invalid\")"
   ]
  },
  {
   "cell_type": "markdown",
   "id": "6a8284d8",
   "metadata": {},
   "source": [
    "### 17. Write a program to check whether a person is eligible for voting or not  (voting age>=18).\n"
   ]
  },
  {
   "cell_type": "code",
   "execution_count": 44,
   "id": "82bc5b1b",
   "metadata": {},
   "outputs": [
    {
     "name": "stdout",
     "output_type": "stream",
     "text": [
      "enter your age : 17\n",
      "you are not eligible for vote\n"
     ]
    }
   ],
   "source": [
    "age = int(input('enter your age : '))\n",
    "if age>18:\n",
    "    print('your are eligible for vote')\n",
    "else:\n",
    "    print('you are not eligible for vote')\n",
    "    "
   ]
  },
  {
   "cell_type": "markdown",
   "id": "d811b8b3",
   "metadata": {},
   "source": [
    "### 18. Accept three sides of the triangle and check whether the triangle is possible or not.(Triangle is possible only when the sum of any two sides is greater than 3 rd side).\n"
   ]
  },
  {
   "cell_type": "code",
   "execution_count": 29,
   "id": "47caa6b5",
   "metadata": {},
   "outputs": [
    {
     "name": "stdout",
     "output_type": "stream",
     "text": [
      "enter side1 length20\n",
      "enter side2 length20\n",
      "enter side3 length20\n",
      "it's a not form of triangle \n"
     ]
    }
   ],
   "source": [
    "s1 = int(input('enter side1 length'))\n",
    "s2 = int(input('enter side2 length'))\n",
    "s3 = int(input('enter side3 length'))\n",
    "\n",
    "if s1 + s2 == s3 and  s2 + s3 == s1 and s3 + s1 == s2:\n",
    "    print('it\\'s a form of triangle ')\n",
    "else:\n",
    "        print('it\\'s a not form of triangle ')"
   ]
  }
 ],
 "metadata": {
  "kernelspec": {
   "display_name": "Python 3 (ipykernel)",
   "language": "python",
   "name": "python3"
  },
  "language_info": {
   "codemirror_mode": {
    "name": "ipython",
    "version": 3
   },
   "file_extension": ".py",
   "mimetype": "text/x-python",
   "name": "python",
   "nbconvert_exporter": "python",
   "pygments_lexer": "ipython3",
   "version": "3.11.4"
  }
 },
 "nbformat": 4,
 "nbformat_minor": 5
}
