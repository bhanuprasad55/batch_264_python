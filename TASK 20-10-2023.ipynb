{
 "cells": [
  {
   "cell_type": "markdown",
   "id": "473e73be",
   "metadata": {},
   "source": [
    "# string():\n"
   ]
  },
  {
   "cell_type": "markdown",
   "id": "8049f774",
   "metadata": {},
   "source": [
    "* strings are \"immutable\" which means they cannot be changed after they are created"
   ]
  },
  {
   "cell_type": "markdown",
   "id": "7fe81f7c",
   "metadata": {},
   "source": [
    "# capitalize():\n"
   ]
  },
  {
   "cell_type": "markdown",
   "id": "fac14a17",
   "metadata": {},
   "source": [
    ".The capitalize() method returns a string where the first character is upper case, and the rest is lower case.\n",
    " \n",
    " Syntax string.capitalize()\n",
    "\n"
   ]
  },
  {
   "cell_type": "code",
   "execution_count": 1,
   "id": "ecf80cd2",
   "metadata": {},
   "outputs": [
    {
     "name": "stdout",
     "output_type": "stream",
     "text": [
      "Python is fun!\n"
     ]
    }
   ],
   "source": [
    "txt = \"python is FUN!\"\n",
    "x = txt.capitalize()\n",
    "print (x)\n"
   ]
  },
  {
   "cell_type": "code",
   "execution_count": 2,
   "id": "20cd93f8",
   "metadata": {},
   "outputs": [
    {
     "name": "stdout",
     "output_type": "stream",
     "text": [
      "Hello, and welcome to my world.\n"
     ]
    }
   ],
   "source": [
    "txt = \"hello, and welcome to my world.\"\n",
    "x = txt.capitalize()\n",
    "print(x)"
   ]
  },
  {
   "cell_type": "code",
   "execution_count": 4,
   "id": "f23ac1db",
   "metadata": {},
   "outputs": [
    {
     "data": {
      "text/plain": [
       "'23 is my age.'"
      ]
     },
     "execution_count": 4,
     "metadata": {},
     "output_type": "execute_result"
    }
   ],
   "source": [
    "txt = \"23 is my age.\"\n",
    "txt.capitalize()\n"
   ]
  },
  {
   "cell_type": "code",
   "execution_count": 38,
   "id": "72eb1124",
   "metadata": {},
   "outputs": [
    {
     "data": {
      "text/plain": [
       "' love you amma.'"
      ]
     },
     "execution_count": 38,
     "metadata": {},
     "output_type": "execute_result"
    }
   ],
   "source": [
    "txt = \" love you amma.\"\n",
    "txt.capitalize()\n"
   ]
  },
  {
   "cell_type": "markdown",
   "id": "5d3049c3",
   "metadata": {},
   "source": [
    "# casefold():\n"
   ]
  },
  {
   "cell_type": "markdown",
   "id": "9536e467",
   "metadata": {},
   "source": [
    ". The casefold() method returns a string where all the characters are lower case.\n",
    "\n",
    ". This method is similar to the lower() method, but the casefold() method is stronger, more aggressive, meaning that it will * more characters into lower case, and will find more matches when comparing two strings and both are converted using the casefold() method.\n",
    "\n",
    "Syntax string.casefold()\n",
    "\n",
    "\n",
    "\n",
    "\n",
    "\n"
   ]
  },
  {
   "cell_type": "code",
   "execution_count": 7,
   "id": "ff2dbfc9",
   "metadata": {},
   "outputs": [
    {
     "data": {
      "text/plain": [
       "\"apple, is everyone's favourite fruit.\""
      ]
     },
     "execution_count": 7,
     "metadata": {},
     "output_type": "execute_result"
    }
   ],
   "source": [
    "txt = \"apple, is everyone's favourite fruit.\"\n",
    "x = txt.casefold()\n",
    "x\n"
   ]
  },
  {
   "cell_type": "code",
   "execution_count": 9,
   "id": "0e95dbb6",
   "metadata": {},
   "outputs": [
    {
     "name": "stdout",
     "output_type": "stream",
     "text": [
      "Bhanu, completing his task.\n"
     ]
    }
   ],
   "source": [
    "txt = \"bhanu, completing his task.\"\n",
    "x = txt.capitalize()\n",
    "print(x)"
   ]
  },
  {
   "cell_type": "markdown",
   "id": "725daf45",
   "metadata": {},
   "source": [
    "# center():\n"
   ]
  },
  {
   "cell_type": "markdown",
   "id": "f7b37674",
   "metadata": {},
   "source": [
    "* The center() method will center align the string, using a specified character (space is default) as the fill character.\n",
    "* Syntax string.center(length, character)\n",
    "\n"
   ]
  },
  {
   "cell_type": "markdown",
   "id": "1795d5a4",
   "metadata": {},
   "source": [
    "# Parameter Values"
   ]
  },
  {
   "cell_type": "markdown",
   "id": "089b0011",
   "metadata": {},
   "source": [
    "* length Required. ------>The length of the returned string\n",
    "* character Optional. -----> The character to fill the missing space on each side. Default is \" \" (space)\n"
   ]
  },
  {
   "cell_type": "code",
   "execution_count": 10,
   "id": "9ba72990",
   "metadata": {},
   "outputs": [
    {
     "name": "stdout",
     "output_type": "stream",
     "text": [
      "#####orange####\n"
     ]
    }
   ],
   "source": [
    "txt = \"orange\"\n",
    "x = txt.center(15, \"#\")\n",
    "print(x)\n"
   ]
  },
  {
   "cell_type": "code",
   "execution_count": 13,
   "id": "d4f0429a",
   "metadata": {},
   "outputs": [
    {
     "name": "stdout",
     "output_type": "stream",
     "text": [
      "############bhanu#############\n"
     ]
    }
   ],
   "source": [
    "txt = \"bhanu\"\n",
    "x = txt.center(30,\"#\")\n",
    "print(x)"
   ]
  },
  {
   "cell_type": "code",
   "execution_count": 18,
   "id": "a41e4a86",
   "metadata": {},
   "outputs": [
    {
     "data": {
      "text/plain": [
       "'   ramu   '"
      ]
     },
     "execution_count": 18,
     "metadata": {},
     "output_type": "execute_result"
    }
   ],
   "source": [
    "txt = \"ramu\"\n",
    "txt.center(10)\n"
   ]
  },
  {
   "cell_type": "code",
   "execution_count": 21,
   "id": "041e1a89",
   "metadata": {},
   "outputs": [
    {
     "data": {
      "text/plain": [
       "'       prasad       '"
      ]
     },
     "execution_count": 21,
     "metadata": {},
     "output_type": "execute_result"
    }
   ],
   "source": [
    "txt = \"prasad\"\n",
    "txt.center(20)"
   ]
  },
  {
   "cell_type": "markdown",
   "id": "b270fa59",
   "metadata": {},
   "source": [
    "# count()\n"
   ]
  },
  {
   "cell_type": "markdown",
   "id": "9b13091c",
   "metadata": {},
   "source": [
    "* The count() method returns the number of times a specified value appears in the string.\n",
    "* Syntax string.count(value, start, end)\n",
    "\n"
   ]
  },
  {
   "cell_type": "markdown",
   "id": "0a14e051",
   "metadata": {},
   "source": [
    "# Parameter Values\n"
   ]
  },
  {
   "cell_type": "markdown",
   "id": "d30c3e98",
   "metadata": {},
   "source": [
    "* value Required. A String. The string to value to search for\n",
    "* Optional. An Integer. The position to start the search. Default is 0\n",
    "* end Optional. An Integer. The position to end the search. Default is the end of the string\n"
   ]
  },
  {
   "cell_type": "code",
   "execution_count": 24,
   "id": "52f54938",
   "metadata": {},
   "outputs": [
    {
     "name": "stdout",
     "output_type": "stream",
     "text": [
      "2\n"
     ]
    }
   ],
   "source": [
    "txt = \"I love oranges, orange are my favorite fruit\"\n",
    "x = txt.count(\"orange\")\n",
    "print(x)\n"
   ]
  },
  {
   "cell_type": "code",
   "execution_count": 26,
   "id": "2606a7ba",
   "metadata": {},
   "outputs": [
    {
     "name": "stdout",
     "output_type": "stream",
     "text": [
      "1\n"
     ]
    }
   ],
   "source": [
    "txt = \"I love oranges, orange are my favorite fruit\"\n",
    "x = txt.count(\"my\")\n",
    "print(x)\n"
   ]
  },
  {
   "cell_type": "code",
   "execution_count": 34,
   "id": "24c27af5",
   "metadata": {},
   "outputs": [
    {
     "name": "stdout",
     "output_type": "stream",
     "text": [
      "0\n"
     ]
    }
   ],
   "source": [
    "txt = \"I love oranges, orange are my favorite fruit\"\n",
    "x = txt.count(\"orange\", 20, 24)\n",
    "print(x)\n"
   ]
  },
  {
   "cell_type": "code",
   "execution_count": 31,
   "id": "4666b9fa",
   "metadata": {},
   "outputs": [
    {
     "name": "stdout",
     "output_type": "stream",
     "text": [
      "0\n"
     ]
    }
   ],
   "source": [
    "txt = \"I love oranges, orange are my favorite fruit\"\n",
    "x = txt.count(\"orange\", 1, 2)\n",
    "print(x)\n"
   ]
  },
  {
   "cell_type": "markdown",
   "id": "6ced7242",
   "metadata": {},
   "source": [
    "# encode()\n"
   ]
  },
  {
   "cell_type": "markdown",
   "id": "6b984585",
   "metadata": {},
   "source": [
    "* The encode() method encodes the string, using the specified encoding. If no encoding is specified, UTF-8 will be used.\n",
    "* Syntax string.encode(encoding=encoding, errors=errors)\n",
    "\n"
   ]
  },
  {
   "cell_type": "markdown",
   "id": "7c351478",
   "metadata": {},
   "source": [
    "# Parameter Values"
   ]
  },
  {
   "cell_type": "markdown",
   "id": "81920452",
   "metadata": {},
   "source": [
    "* encoding Optional. A String specifying the encoding to use. Default is UTF-8\n",
    "* errors Optional. A String specifying the error method. Legal values are:\n",
    "  * 'backslashreplace'--->uses a backslash instead of the character that could not be encoded\n",
    "  * 'ignore' ----> ignores the characters that cannot be encoded\n",
    "  * 'namereplace' ----> replaces the character with a text explaining the character\n",
    "  * 'strict' ----> Default, raises an error on failure\n",
    "  * 'replace' ----> replaces the character with a questionmark\n",
    "  * 'xmlcharrefreplace'-> replaces the character with an xml character\n"
   ]
  },
  {
   "cell_type": "code",
   "execution_count": 35,
   "id": "9f235404",
   "metadata": {},
   "outputs": [
    {
     "name": "stdout",
     "output_type": "stream",
     "text": [
      "b'My name is St\\\\xe5le'\n",
      "b'My name is Stle'\n",
      "b'My name is St\\\\N{LATIN SMALL LETTER A WITH RING ABOVE}le'\n",
      "b'My name is St?le'\n",
      "b'My name is St&#229;le'\n"
     ]
    }
   ],
   "source": [
    "txt = \"My name is Ståle\"\n",
    "print(txt.encode(encoding=\"ascii\",errors=\"backslashreplace\"))\n",
    "print(txt.encode(encoding=\"ascii\",errors=\"ignore\"))\n",
    "print(txt.encode(encoding=\"ascii\",errors=\"namereplace\"))\n",
    "print(txt.encode(encoding=\"ascii\",errors=\"replace\"))\n",
    "print(txt.encode(encoding=\"ascii\",errors=\"xmlcharrefreplace\"))\n"
   ]
  },
  {
   "cell_type": "code",
   "execution_count": 36,
   "id": "119f468c",
   "metadata": {},
   "outputs": [
    {
     "name": "stdout",
     "output_type": "stream",
     "text": [
      "b'My name is St\\xc3\\xa5le'\n"
     ]
    }
   ],
   "source": [
    "txt = \"My name is Ståle\"\n",
    "x = txt.encode()\n",
    "print(x)\n"
   ]
  },
  {
   "cell_type": "markdown",
   "id": "e0a520a4",
   "metadata": {},
   "source": [
    "# endswith()\n"
   ]
  },
  {
   "cell_type": "markdown",
   "id": "3dc5bd58",
   "metadata": {},
   "source": [
    "* The endswith() method returns True if the string ends with the specified value, otherwise False.\n",
    "* Syntax string.endswith(value, start, end)\n",
    "\n"
   ]
  },
  {
   "cell_type": "markdown",
   "id": "7223ec7b",
   "metadata": {},
   "source": [
    "# Parameter Values\n"
   ]
  },
  {
   "cell_type": "markdown",
   "id": "c532fa42",
   "metadata": {},
   "source": [
    "* value Required. The value to check if the string ends with\n",
    "* start Optional. An Integer specifying at which position to start the search\n",
    "* end Optional. An Integer specifying at which position to end the search\n"
   ]
  },
  {
   "cell_type": "code",
   "execution_count": 37,
   "id": "3d15ea40",
   "metadata": {},
   "outputs": [
    {
     "name": "stdout",
     "output_type": "stream",
     "text": [
      "True\n"
     ]
    }
   ],
   "source": [
    "txt = \"Hello, welcome to my world.\"\n",
    "x = txt.endswith(\"my world.\")\n",
    "print(x)\n"
   ]
  },
  {
   "cell_type": "code",
   "execution_count": 40,
   "id": "ef115865",
   "metadata": {},
   "outputs": [
    {
     "name": "stdout",
     "output_type": "stream",
     "text": [
      "True\n"
     ]
    }
   ],
   "source": [
    "txt = \"bhanu,is going to travel.\"\n",
    "x = txt.endswith(\"to travel.\")\n",
    "print(x)"
   ]
  },
  {
   "cell_type": "code",
   "execution_count": 43,
   "id": "a51559e0",
   "metadata": {},
   "outputs": [
    {
     "name": "stdout",
     "output_type": "stream",
     "text": [
      "True\n"
     ]
    }
   ],
   "source": [
    "txt = \"bhanu,is going to his village.\"\n",
    "x = txt.endswith(\"his village.\")\n",
    "print(x)"
   ]
  },
  {
   "cell_type": "code",
   "execution_count": 59,
   "id": "341a4e32",
   "metadata": {},
   "outputs": [
    {
     "data": {
      "text/plain": [
       "False"
      ]
     },
     "execution_count": 59,
     "metadata": {},
     "output_type": "execute_result"
    }
   ],
   "source": [
    " txt.endswith(\"my world.\")\n"
   ]
  },
  {
   "cell_type": "code",
   "execution_count": 58,
   "id": "ec41891b",
   "metadata": {},
   "outputs": [
    {
     "data": {
      "text/plain": [
       "False"
      ]
     },
     "execution_count": 58,
     "metadata": {},
     "output_type": "execute_result"
    }
   ],
   "source": [
    " txt.endswith(\"to travel.\")"
   ]
  },
  {
   "cell_type": "code",
   "execution_count": 57,
   "id": "42986fa8",
   "metadata": {},
   "outputs": [
    {
     "data": {
      "text/plain": [
       "True"
      ]
     },
     "execution_count": 57,
     "metadata": {},
     "output_type": "execute_result"
    }
   ],
   "source": [
    " txt.endswith(\"his village.\")"
   ]
  },
  {
   "cell_type": "markdown",
   "id": "b1114436",
   "metadata": {},
   "source": [
    "# find()\n",
    "* The find() method finds the first occurrence of the specified value.\n",
    "\n",
    "* The find() method returns -1 if the value is not found.\n",
    "\n",
    "* find() method is almost the same as the index() method, the only difference is that the index() method raises an exception if the value is not found. (See example below)\n",
    "\n",
    "* Syntax string.find(value, start, end)"
   ]
  },
  {
   "cell_type": "code",
   "execution_count": 60,
   "id": "03b2e878",
   "metadata": {},
   "outputs": [
    {
     "name": "stdout",
     "output_type": "stream",
     "text": [
      "7\n"
     ]
    }
   ],
   "source": [
    "txt = \"Hello, welcome to my world.\"\n",
    "x = txt.find(\"welcome\")\n",
    "print(x)\n"
   ]
  },
  {
   "cell_type": "code",
   "execution_count": 61,
   "id": "ada2281d",
   "metadata": {},
   "outputs": [
    {
     "data": {
      "text/plain": [
       "4"
      ]
     },
     "execution_count": 61,
     "metadata": {},
     "output_type": "execute_result"
    }
   ],
   "source": [
    "txt.find(\"o\")"
   ]
  },
  {
   "cell_type": "code",
   "execution_count": 62,
   "id": "eae9fddd",
   "metadata": {},
   "outputs": [
    {
     "data": {
      "text/plain": [
       "-1"
      ]
     },
     "execution_count": 62,
     "metadata": {},
     "output_type": "execute_result"
    }
   ],
   "source": [
    "txt.find(\"o\", 5, 10)\n"
   ]
  },
  {
   "cell_type": "markdown",
   "id": "52b4a390",
   "metadata": {},
   "source": [
    "# index()\n",
    "* The index() method finds the first occurrence of the specified value.\n",
    "\n",
    "* The index() method raises an exception if the value is not found.\n",
    "\n",
    "* The index() method is almost the same as the find() method, the only difference is that the find() method returns -1 if the value is not found. (See example below)\n",
    "\n",
    "* Syntax string.index(value, start, end)\n",
    "\n"
   ]
  },
  {
   "cell_type": "markdown",
   "id": "196db48a",
   "metadata": {},
   "source": [
    "# Parameter Values\n",
    "* value -----> Required. The value to search for\n",
    "* start------> Optional. Where to start the search. Default is 0\n",
    "* end --------> Optional. Where to end the search. Default is to the end of the string\n"
   ]
  },
  {
   "cell_type": "code",
   "execution_count": 64,
   "id": "617d0e82",
   "metadata": {},
   "outputs": [
    {
     "name": "stdout",
     "output_type": "stream",
     "text": [
      "21\n"
     ]
    }
   ],
   "source": [
    "txt = \"Hello, welcome to my world.\"\n",
    "x = txt.index(\"world\")\n",
    "print(x)\n"
   ]
  },
  {
   "cell_type": "code",
   "execution_count": 65,
   "id": "728160ec",
   "metadata": {},
   "outputs": [
    {
     "data": {
      "text/plain": [
       "12"
      ]
     },
     "execution_count": 65,
     "metadata": {},
     "output_type": "execute_result"
    }
   ],
   "source": [
    "txt.index(\"m\")\n"
   ]
  },
  {
   "cell_type": "code",
   "execution_count": 68,
   "id": "081e62b7",
   "metadata": {},
   "outputs": [
    {
     "data": {
      "text/plain": [
       "12"
      ]
     },
     "execution_count": 68,
     "metadata": {},
     "output_type": "execute_result"
    }
   ],
   "source": [
    "txt.index(\"m\", 10, 22)"
   ]
  },
  {
   "cell_type": "code",
   "execution_count": 72,
   "id": "99cee1e4",
   "metadata": {},
   "outputs": [
    {
     "name": "stdout",
     "output_type": "stream",
     "text": [
      "7\n",
      "1\n"
     ]
    }
   ],
   "source": [
    "txt = \"Hello, welcome to my world.\"\n",
    "print(txt.find(\"w\"))\n",
    "print(txt.index(\"e\"))\n"
   ]
  },
  {
   "cell_type": "markdown",
   "id": "0e3050d1",
   "metadata": {},
   "source": [
    "# isdecimal()\n",
    "* The isdecimal() method returns True if all the characters are decimals (0-9).\n",
    "\n",
    "* This method can also be used on unicode objects. See example below.\n",
    "\n",
    "* Syntax string.isdecimal()\n",
    "\n"
   ]
  },
  {
   "cell_type": "code",
   "execution_count": 77,
   "id": "5528f67a",
   "metadata": {},
   "outputs": [
    {
     "name": "stdout",
     "output_type": "stream",
     "text": [
      "True\n",
      "False\n"
     ]
    }
   ],
   "source": [
    "a = \"\\u0030\" #unicode for 0\n",
    "b = \"\\u0041\" #unicode for G\n",
    "print(a.isdecimal())\n",
    "print(b.isdecimal())\n"
   ]
  },
  {
   "cell_type": "markdown",
   "id": "e60f5628",
   "metadata": {},
   "source": [
    "# isspace()\n",
    "* The isspace() method returns True if all the characters in a string are whitespaces, otherwise False.\n",
    "* Syntax string.isspace()"
   ]
  },
  {
   "cell_type": "code",
   "execution_count": 78,
   "id": "dc1ccca0",
   "metadata": {},
   "outputs": [
    {
     "name": "stdout",
     "output_type": "stream",
     "text": [
      "False\n"
     ]
    }
   ],
   "source": [
    "txt = \"   b   \"\n",
    "x = txt.isspace()\n",
    "print(x)\n"
   ]
  },
  {
   "cell_type": "code",
   "execution_count": 79,
   "id": "ffda6a27",
   "metadata": {},
   "outputs": [
    {
     "name": "stdout",
     "output_type": "stream",
     "text": [
      "False\n"
     ]
    }
   ],
   "source": [
    "txt = \"   r   \"\n",
    "x = txt.isspace()\n",
    "print(x)"
   ]
  },
  {
   "cell_type": "markdown",
   "id": "ea25be3b",
   "metadata": {},
   "source": [
    "# istitle()\n",
    "* The istitle() method returns True if all words in a text start with a upper case letter, AND the rest of the word are lower case letters, otherwise False.\n",
    "\n",
    "* and numbers are ignored.\n",
    "\n",
    "* Syntax string.istitle()\n",
    "\n"
   ]
  },
  {
   "cell_type": "code",
   "execution_count": 80,
   "id": "f6ece799",
   "metadata": {},
   "outputs": [
    {
     "name": "stdout",
     "output_type": "stream",
     "text": [
      "False\n",
      "True\n",
      "True\n",
      "True\n"
     ]
    }
   ],
   "source": [
    "a = \"HELLO, AND WELCOME TO MY WORLD\"\n",
    "b = \"Hello\"\n",
    "c = \"22 Names\"\n",
    "d = \"This Is %'!?\"\n",
    "\n",
    "print(a.istitle())\n",
    "print(b.istitle())\n",
    "print(c.istitle())\n",
    "print(d.istitle())\n"
   ]
  },
  {
   "cell_type": "code",
   "execution_count": 81,
   "id": "4cbcad12",
   "metadata": {},
   "outputs": [
    {
     "name": "stdout",
     "output_type": "stream",
     "text": [
      "False\n",
      "True\n",
      "True\n",
      "True\n"
     ]
    }
   ],
   "source": [
    "a = \"I LOVE YOU AMMA\"\n",
    "b = \"Bhanu\"\n",
    "c = \"15 Names\"\n",
    "d = \"This Is %'!?\"\n",
    "\n",
    "print(a.istitle())\n",
    "print(b.istitle())\n",
    "print(c.istitle())\n",
    "print(d.istitle())\n"
   ]
  },
  {
   "cell_type": "markdown",
   "id": "c1ce8e79",
   "metadata": {},
   "source": [
    "# join()\n",
    "* The join() method takes all items in an iterable and joins them into one string.\n",
    "\n",
    "* A string must be specified as the separator.\n",
    "\n",
    "* Syntax string.join(iterable)\n",
    "\n"
   ]
  },
  {
   "cell_type": "markdown",
   "id": "79caaa10",
   "metadata": {},
   "source": [
    "# Parameter Values\n",
    "* iterable------>Required. Any iterable object where all the returned values are strings\n"
   ]
  },
  {
   "cell_type": "code",
   "execution_count": 82,
   "id": "ef57c3c9",
   "metadata": {},
   "outputs": [
    {
     "data": {
      "text/plain": [
       "'nameTESTcountry'"
      ]
     },
     "execution_count": 82,
     "metadata": {},
     "output_type": "execute_result"
    }
   ],
   "source": [
    "myDict = {\"name\": \"John\", \"country\": \"Norway\"}\n",
    "mySeparator = \"TEST\"\n",
    "x = mySeparator.join(myDict)\n",
    "x\n"
   ]
  },
  {
   "cell_type": "markdown",
   "id": "941f5434",
   "metadata": {},
   "source": [
    "# ljust()\n",
    "* The ljust() method will left align the string, using a specified character (space is default) as the fill character.\n",
    "* Syntax string.ljust(length, character)\n",
    "\n"
   ]
  },
  {
   "cell_type": "markdown",
   "id": "0c07efbf",
   "metadata": {},
   "source": [
    "# Parameter Values\n",
    "* length---->Required. The length of the returned string\n",
    "* character---->Optional. A character to fill the missing space (to the right of the string). Default is \" \" (space)."
   ]
  },
  {
   "cell_type": "code",
   "execution_count": 84,
   "id": "4f9364b0",
   "metadata": {},
   "outputs": [
    {
     "name": "stdout",
     "output_type": "stream",
     "text": [
      "apple######\n"
     ]
    }
   ],
   "source": [
    "txt = \"apple\"\n",
    "x = txt.ljust(11, \"#\")\n",
    "print(x)\n"
   ]
  },
  {
   "cell_type": "code",
   "execution_count": 85,
   "id": "7e2fe685",
   "metadata": {},
   "outputs": [
    {
     "name": "stdout",
     "output_type": "stream",
     "text": [
      "orange#########\n"
     ]
    }
   ],
   "source": [
    "txt = \"orange\"\n",
    "x = txt.ljust(15,\"#\")\n",
    "print(x)"
   ]
  },
  {
   "cell_type": "markdown",
   "id": "ff8f27be",
   "metadata": {},
   "source": [
    "# lower()\n",
    "* The lower() method returns a string where all characters are lower case.\n",
    "\n",
    "* Symbols and Numbers are ignored.\n",
    "\n",
    "* Syntax string.lower()\n",
    "\n"
   ]
  },
  {
   "cell_type": "code",
   "execution_count": 88,
   "id": "221cbd1b",
   "metadata": {},
   "outputs": [
    {
     "name": "stdout",
     "output_type": "stream",
     "text": [
      "good morning friends\n"
     ]
    }
   ],
   "source": [
    "txt = \"GOOD morning FRIENDS\"\n",
    "x = txt.lower()\n",
    "print(x)\n"
   ]
  },
  {
   "cell_type": "code",
   "execution_count": 91,
   "id": "cb028b4b",
   "metadata": {},
   "outputs": [
    {
     "name": "stdout",
     "output_type": "stream",
     "text": [
      "i like this car\n"
     ]
    }
   ],
   "source": [
    "txt = \"i like this car\"\n",
    "x = txt.lower()\n",
    "print(x)"
   ]
  },
  {
   "cell_type": "markdown",
   "id": "e5d3ea01",
   "metadata": {},
   "source": [
    "# lstrip()\n",
    "* The lstrip() method removes any leading characters (space is the default leading character to remove)\n",
    "* Syntax string.lstrip(characters)\n",
    "\n"
   ]
  },
  {
   "cell_type": "markdown",
   "id": "44d6411a",
   "metadata": {},
   "source": [
    "# Parameter Value\n",
    "* characters------>Optional. A set of characters to remove as leading characters\n"
   ]
  },
  {
   "cell_type": "code",
   "execution_count": 93,
   "id": "50d4e96c",
   "metadata": {},
   "outputs": [
    {
     "name": "stdout",
     "output_type": "stream",
     "text": [
      "orange\n"
     ]
    }
   ],
   "source": [
    "txt = \",,,,,bbrrll.....orange\"\n",
    "x = txt.lstrip(\",.rbl\")\n",
    "print(x)"
   ]
  },
  {
   "cell_type": "code",
   "execution_count": 94,
   "id": "c639aecd",
   "metadata": {},
   "outputs": [
    {
     "data": {
      "text/plain": [
       "'bbrrll.....orange'"
      ]
     },
     "execution_count": 94,
     "metadata": {},
     "output_type": "execute_result"
    }
   ],
   "source": [
    "txt.lstrip(',,,')\n"
   ]
  },
  {
   "cell_type": "code",
   "execution_count": 95,
   "id": "f6385c1e",
   "metadata": {},
   "outputs": [
    {
     "data": {
      "text/plain": [
       "',,,,,bbrrll.....orange'"
      ]
     },
     "execution_count": 95,
     "metadata": {},
     "output_type": "execute_result"
    }
   ],
   "source": [
    "txt.lstrip('....')\n"
   ]
  },
  {
   "cell_type": "code",
   "execution_count": 96,
   "id": "d6509448",
   "metadata": {},
   "outputs": [
    {
     "name": "stdout",
     "output_type": "stream",
     "text": [
      "of all fruits orange      is my favorite\n"
     ]
    }
   ],
   "source": [
    "txt = \"     orange     \"\n",
    "x = txt.lstrip()\n",
    "print(\"of all fruits\", x, \"is my favorite\")\n"
   ]
  },
  {
   "cell_type": "markdown",
   "id": "3a803a6a",
   "metadata": {},
   "source": [
    "# partition()\n",
    "* The partition() method searches for a specified string, and splits the string into a tuple containing three elements.\n",
    "\n",
    "* The first element contains the part before the specified string.\n",
    "\n",
    "* The second element contains the specified string.\n",
    "\n",
    "* The third element contains the part after the string.\n",
    "\n",
    "( Note: This method searches for the first occurrence of the specified string.)\n",
    "\n",
    "* Syntax string.partition(value)\n",
    "\n"
   ]
  },
  {
   "cell_type": "markdown",
   "id": "7e65c34a",
   "metadata": {},
   "source": [
    "# Parameter Values\n",
    "* value----->Required. The string to search for\n"
   ]
  },
  {
   "cell_type": "code",
   "execution_count": 97,
   "id": "5b7825a7",
   "metadata": {},
   "outputs": [
    {
     "name": "stdout",
     "output_type": "stream",
     "text": [
      "('I could eat orange all day', '', '')\n"
     ]
    }
   ],
   "source": [
    "txt = \"I could eat orange all day\"\n",
    "x = txt.partition(\"apples\")\n",
    "print(x)\n"
   ]
  },
  {
   "cell_type": "code",
   "execution_count": 100,
   "id": "e000b9bb",
   "metadata": {},
   "outputs": [
    {
     "data": {
      "text/plain": [
       "('', 'bha', 'nu')"
      ]
     },
     "execution_count": 100,
     "metadata": {},
     "output_type": "execute_result"
    }
   ],
   "source": [
    "txt = \"bhanu\"\n",
    "txt.partition('bha')\n"
   ]
  },
  {
   "cell_type": "code",
   "execution_count": 103,
   "id": "97d29fd2",
   "metadata": {},
   "outputs": [
    {
     "data": {
      "text/plain": [
       "('', 'pra', 'sad')"
      ]
     },
     "execution_count": 103,
     "metadata": {},
     "output_type": "execute_result"
    }
   ],
   "source": [
    "txt = \"prasad\"\n",
    "txt.partition('pra')"
   ]
  },
  {
   "cell_type": "markdown",
   "id": "b09ec2c5",
   "metadata": {},
   "source": [
    "# replace()\n",
    "* The replace() method replaces a specified phrase with another specified phrase.\n",
    "(Note: All occurrences of the specified phrase will be replaced, if nothing else is specified.)\n",
    "\n",
    "* Syntax string.replace(oldvalue, newvalue, count)\n",
    "\n"
   ]
  },
  {
   "cell_type": "markdown",
   "id": "3bb8e3e9",
   "metadata": {},
   "source": [
    "# Parameter Values\n",
    "* oldvalue--->Required. The string to search for\n",
    "* newvalue---->Required. The string to replace the old value with\n",
    "* count---->Optional. A number specifying how many occurrences of the old value you want to replace. Default is all occurrences\n"
   ]
  },
  {
   "cell_type": "code",
   "execution_count": 104,
   "id": "151310fd",
   "metadata": {},
   "outputs": [
    {
     "name": "stdout",
     "output_type": "stream",
     "text": [
      "three three was a race horse, two two was three too.\n"
     ]
    }
   ],
   "source": [
    "txt = \"one one was a race horse, two two was one too.\"\n",
    "x = txt.replace(\"one\", \"three\")\n",
    "print(x)"
   ]
  },
  {
   "cell_type": "code",
   "execution_count": 106,
   "id": "f063699b",
   "metadata": {},
   "outputs": [
    {
     "data": {
      "text/plain": [
       "'three three was a race horse, two two was three too.'"
      ]
     },
     "execution_count": 106,
     "metadata": {},
     "output_type": "execute_result"
    }
   ],
   "source": [
    "txt = \"one one was a race horse, two two was one too.\"\n",
    "x = txt.replace(\"one\", \"three\", 4)\n",
    "x\n"
   ]
  },
  {
   "cell_type": "markdown",
   "id": "64b5c7e3",
   "metadata": {},
   "source": [
    "# rfind()\n",
    "* The rfind() method finds the last occurrence of the specified value.\n",
    "\n",
    "* The rfind() method returns -1 if the value is not found.\n",
    "\n",
    "* The rfind() method is almost the same as the rindex() method. See example below.\n",
    "\n",
    "* Syntax string.rfind(value, start, end)\n",
    "\n"
   ]
  },
  {
   "cell_type": "markdown",
   "id": "94f7aaa1",
   "metadata": {},
   "source": [
    "# Parameter Values\n",
    "* value----->Required. The value to search for\n",
    "* start------>Optional. Where to start the search. Default is 0\n",
    "* end----->Optional. Where to end the search. Default is to the end of the string\n"
   ]
  },
  {
   "cell_type": "code",
   "execution_count": 108,
   "id": "dfdac1b1",
   "metadata": {},
   "outputs": [
    {
     "name": "stdout",
     "output_type": "stream",
     "text": [
      "22\n"
     ]
    }
   ],
   "source": [
    "txt = \"Hello, welcome to my world.\"\n",
    "x = txt.rfind(\"o\")\n",
    "print(x)\n"
   ]
  },
  {
   "cell_type": "code",
   "execution_count": 110,
   "id": "32c9955a",
   "metadata": {},
   "outputs": [
    {
     "data": {
      "text/plain": [
       "15"
      ]
     },
     "execution_count": 110,
     "metadata": {},
     "output_type": "execute_result"
    }
   ],
   "source": [
    "txt.rfind(\"t\")\n"
   ]
  },
  {
   "cell_type": "code",
   "execution_count": 111,
   "id": "11cd117e",
   "metadata": {},
   "outputs": [
    {
     "data": {
      "text/plain": [
       "12"
      ]
     },
     "execution_count": 111,
     "metadata": {},
     "output_type": "execute_result"
    }
   ],
   "source": [
    "txt = \"Mi casa, su casa.\"\n",
    "x = txt.rfind(\"casa\")\n",
    "x\n"
   ]
  },
  {
   "cell_type": "markdown",
   "id": "9fa8a7be",
   "metadata": {},
   "source": [
    "# rindex()\n",
    "* The rindex() method finds the last occurrence of the specified value.\n",
    "\n",
    "* The rindex() method raises an exception if the value is not found.\n",
    "\n",
    "* The rindex() method is almost the same as the rfind() method. See example below.\n",
    "\n",
    "Syntax string.rindex(value, start, end)\n",
    "\n"
   ]
  },
  {
   "cell_type": "markdown",
   "id": "f55b40d6",
   "metadata": {},
   "source": [
    "# Parameter Values\n",
    "* value---->Required. The value to search for\n",
    "* start---->Optional. Where to start the search. Default is 0\n",
    "* end--->Optional. Where to end the search. Default is to the end of the string\n"
   ]
  },
  {
   "cell_type": "code",
   "execution_count": 112,
   "id": "7266566d",
   "metadata": {},
   "outputs": [
    {
     "name": "stdout",
     "output_type": "stream",
     "text": [
      "8\n"
     ]
    }
   ],
   "source": [
    "txt = \"Hello, welcome to my world.\"\n",
    "x = txt.rindex(\"e\", 5, 10)\n",
    "print(x)\n"
   ]
  },
  {
   "cell_type": "code",
   "execution_count": 113,
   "id": "ee5c43ea",
   "metadata": {},
   "outputs": [
    {
     "name": "stdout",
     "output_type": "stream",
     "text": [
      "-1\n"
     ]
    },
    {
     "ename": "ValueError",
     "evalue": "substring not found",
     "output_type": "error",
     "traceback": [
      "\u001b[1;31m---------------------------------------------------------------------------\u001b[0m",
      "\u001b[1;31mValueError\u001b[0m                                Traceback (most recent call last)",
      "Cell \u001b[1;32mIn[113], line 4\u001b[0m\n\u001b[0;32m      1\u001b[0m txt \u001b[38;5;241m=\u001b[39m \u001b[38;5;124m\"\u001b[39m\u001b[38;5;124mHello, welcome to my world.\u001b[39m\u001b[38;5;124m\"\u001b[39m\n\u001b[0;32m      3\u001b[0m \u001b[38;5;28mprint\u001b[39m(txt\u001b[38;5;241m.\u001b[39mrfind(\u001b[38;5;124m\"\u001b[39m\u001b[38;5;124mq\u001b[39m\u001b[38;5;124m\"\u001b[39m))\n\u001b[1;32m----> 4\u001b[0m \u001b[38;5;28mprint\u001b[39m(txt\u001b[38;5;241m.\u001b[39mrindex(\u001b[38;5;124m\"\u001b[39m\u001b[38;5;124mq\u001b[39m\u001b[38;5;124m\"\u001b[39m))\n",
      "\u001b[1;31mValueError\u001b[0m: substring not found"
     ]
    }
   ],
   "source": [
    "txt = \"Hello, welcome to my world.\"\n",
    "\n",
    "print(txt.rfind(\"q\"))\n",
    "print(txt.rindex(\"q\"))\n"
   ]
  },
  {
   "cell_type": "markdown",
   "id": "4da65e2a",
   "metadata": {},
   "source": [
    "# rjust()\n",
    "* The rjust() method will right align the string, using a specified character (space is default) as the fill character.\n",
    "\n",
    "Syntax string.rjust(length, character)\n",
    "\n"
   ]
  },
  {
   "cell_type": "markdown",
   "id": "3beb1ae4",
   "metadata": {},
   "source": [
    "# Parameter Values\n",
    "* length---=>Required. The length of the returned string\n",
    "* character---->Optional. A character to fill the missing space (to the left of the string). Default is \" \" (space).\n"
   ]
  },
  {
   "cell_type": "code",
   "execution_count": 115,
   "id": "c2e16acc",
   "metadata": {},
   "outputs": [
    {
     "name": "stdout",
     "output_type": "stream",
     "text": [
      "OOOOOOOOOOOOOOOOOOOorange\n"
     ]
    }
   ],
   "source": [
    "txt = \"orange\"\n",
    "x = txt.rjust(25, \"O\")\n",
    "print(x)\n"
   ]
  },
  {
   "cell_type": "markdown",
   "id": "5d94aa37",
   "metadata": {},
   "source": [
    "# rpartition()\n",
    "* The rpartition() method searches for the last occurrence of a specified string, and splits the string into a tuple containing three elements.\n",
    "\n",
    "* The first element contains the part before the specified string.\n",
    "\n",
    "* The second element contains the specified string.\n",
    "\n",
    "* The third element contains the part after the string.\n",
    "\n",
    "Syntax string.rpartition(value)\n",
    "\n"
   ]
  },
  {
   "cell_type": "markdown",
   "id": "8115be11",
   "metadata": {},
   "source": [
    "# Parameter Values\n",
    "* value---->Required. The string to search for\n"
   ]
  },
  {
   "cell_type": "code",
   "execution_count": 116,
   "id": "bc049cb4",
   "metadata": {},
   "outputs": [
    {
     "name": "stdout",
     "output_type": "stream",
     "text": [
      "('', '', 'I could eat oranges all day, bananas are my favorite fruit')\n"
     ]
    }
   ],
   "source": [
    "txt = \"I could eat oranges all day, bananas are my favorite fruit\"\n",
    "x = txt.rpartition(\"apples\")\n",
    "print(x)\n"
   ]
  },
  {
   "cell_type": "markdown",
   "id": "38f7ae34",
   "metadata": {},
   "source": [
    "# rsplit()\n",
    "* The rsplit() method splits a string into a list, starting from the right.\n",
    "\n",
    "* If no \"max\" is specified, this method will return the same as the split() method.\n",
    "\n",
    "* (Note: When maxsplit is specified, the list will contain the specified number of elements plus one.)\n",
    "\n",
    "* Syntax string.rsplit(separator, maxsplit)\n",
    "\n"
   ]
  },
  {
   "cell_type": "markdown",
   "id": "6f4f3853",
   "metadata": {},
   "source": [
    "# Parameter Values\n",
    "* separator----->Optional. Specifies the separator to use when splitting the string. By default any whitespace is a separator*\n",
    "* maxsplit------>Optional. Specifies how many splits to do. Default value is -1, which is \"all occurrences\"\n"
   ]
  },
  {
   "cell_type": "code",
   "execution_count": 118,
   "id": "2999a784",
   "metadata": {},
   "outputs": [
    {
     "name": "stdout",
     "output_type": "stream",
     "text": [
      "['apple, banana', 'orange']\n"
     ]
    }
   ],
   "source": [
    "txt = \"apple, banana, orange\"\n",
    "# setting the maxsplit parameter to 1, will return a list with 2 elements!\n",
    "x = txt.rsplit(\", \", 1)\n",
    "print(x)\n"
   ]
  },
  {
   "cell_type": "markdown",
   "id": "1c367e91",
   "metadata": {},
   "source": [
    "# rstrip()\n",
    "* The rstrip() method removes any trailing characters (characters at the end a string), space is the default trailing character to remove.\n",
    "* Syntax string.rstrip(characters)\n",
    "\n"
   ]
  },
  {
   "cell_type": "markdown",
   "id": "56a4e324",
   "metadata": {},
   "source": [
    "# Parameter Values\n",
    "* characters------>Optional. A set of characters to remove as trailing characters\n"
   ]
  },
  {
   "cell_type": "code",
   "execution_count": 119,
   "id": "1f97f6e9",
   "metadata": {},
   "outputs": [
    {
     "name": "stdout",
     "output_type": "stream",
     "text": [
      "orange\n"
     ]
    }
   ],
   "source": [
    "txt = \"orange,,,,,ssqqqww.....\"\n",
    "x = txt.rstrip(\",.qsw\")\n",
    "print(x)\n"
   ]
  },
  {
   "cell_type": "code",
   "execution_count": 120,
   "id": "ace94bcb",
   "metadata": {},
   "outputs": [
    {
     "data": {
      "text/plain": [
       "'orange,,,,,ssqqq'"
      ]
     },
     "execution_count": 120,
     "metadata": {},
     "output_type": "execute_result"
    }
   ],
   "source": [
    " txt.rstrip(\".....w\")\n"
   ]
  },
  {
   "cell_type": "markdown",
   "id": "e6f102c8",
   "metadata": {},
   "source": [
    "# split()\n",
    "* The split() method splits a string into a list.\n",
    "\n",
    "* You can specify the separator, default separator is any whitespace.\n",
    "\n",
    "* (Note: When maxsplit is specified, the list will contain the specified number of elements plus one.)\n",
    "\n",
    "* Syntax string.split(separator, maxsplit)\n",
    "\n"
   ]
  },
  {
   "cell_type": "markdown",
   "id": "0d7f54d3",
   "metadata": {},
   "source": [
    "# Parameter Values\n",
    "* separator------->Optional. Specifies the separator to use when splitting the string. By default any whitespace is a separator\n",
    "* maxsplit------->Optional. Specifies how many splits to do. Default value is -1, which is \"all occurrences\"\n"
   ]
  },
  {
   "cell_type": "code",
   "execution_count": 121,
   "id": "5661d9f1",
   "metadata": {},
   "outputs": [
    {
     "name": "stdout",
     "output_type": "stream",
     "text": [
      "['hello', 'my name is prasad', 'I am 26 years old']\n"
     ]
    }
   ],
   "source": [
    "txt = \"hello, my name is prasad, I am 26 years old\"\n",
    "x = txt.split(\", \")\n",
    "print(x)\n"
   ]
  },
  {
   "cell_type": "code",
   "execution_count": 122,
   "id": "a05f6c73",
   "metadata": {},
   "outputs": [
    {
     "data": {
      "text/plain": [
       "['apple', 'banana', 'cherry', 'orange']"
      ]
     },
     "execution_count": 122,
     "metadata": {},
     "output_type": "execute_result"
    }
   ],
   "source": [
    "txt = \"apple#banana#cherry#orange\"\n",
    "x = txt.split(\"#\")\n",
    "x\n"
   ]
  },
  {
   "cell_type": "code",
   "execution_count": 123,
   "id": "f936d93e",
   "metadata": {},
   "outputs": [
    {
     "data": {
      "text/plain": [
       "['apple', 'banana#cherry#orange']"
      ]
     },
     "execution_count": 123,
     "metadata": {},
     "output_type": "execute_result"
    }
   ],
   "source": [
    "txt.split(\"#\", 1) # setting the maxsplit parameter to 1, will return a list with 2 elements!\n"
   ]
  },
  {
   "cell_type": "markdown",
   "id": "c966ce0d",
   "metadata": {},
   "source": [
    "# splitlines()\n",
    "* The splitlines() method splits a string into a list. The splitting is done at line breaks.\n",
    "* Syntax string.splitlines(keeplinebreaks)\n",
    "\n",
    "##Parameter Values\n",
    "* keeplinebreaks------->Optional. Specifies if the line breaks should be included (True), or not (False). Default value is False\n"
   ]
  },
  {
   "cell_type": "code",
   "execution_count": 124,
   "id": "dda05d1e",
   "metadata": {},
   "outputs": [
    {
     "name": "stdout",
     "output_type": "stream",
     "text": [
      "['Thank you for the music\\n', 'Welcome to the jungle']\n"
     ]
    }
   ],
   "source": [
    "txt = \"Thank you for the music\\nWelcome to the jungle\"\n",
    "x = txt.splitlines(True)\n",
    "print(x)\n"
   ]
  },
  {
   "cell_type": "markdown",
   "id": "4aecb3ac",
   "metadata": {},
   "source": [
    "# startswith()\n",
    "* The startswith() method returns True if the string starts with the specified value, otherwise False.\n",
    "* Syntax string.startswith(value, start, end)\n",
    "\n"
   ]
  },
  {
   "cell_type": "markdown",
   "id": "f5a7ec5a",
   "metadata": {},
   "source": [
    "# startswith()\n",
    "* The startswith() method returns True if the string starts with the specified value, otherwise False.\n",
    "* Syntax string.startswith(value, start, end)\n",
    "\n"
   ]
  },
  {
   "cell_type": "code",
   "execution_count": 125,
   "id": "47f3183f",
   "metadata": {},
   "outputs": [
    {
     "name": "stdout",
     "output_type": "stream",
     "text": [
      "True\n"
     ]
    }
   ],
   "source": [
    "txt = \"Hello, welcome to my world.\"\n",
    "x = txt.startswith(\"wel\", 7, 20)\n",
    "print(x)\n"
   ]
  },
  {
   "cell_type": "code",
   "execution_count": 126,
   "id": "88f070aa",
   "metadata": {},
   "outputs": [
    {
     "data": {
      "text/plain": [
       "False"
      ]
     },
     "execution_count": 126,
     "metadata": {},
     "output_type": "execute_result"
    }
   ],
   "source": [
    "txt.startswith(\"wel\",)"
   ]
  },
  {
   "cell_type": "markdown",
   "id": "253f0eb9",
   "metadata": {},
   "source": [
    "# strip()\n",
    "* The strip() method removes any leading, and trailing whitespaces.\n",
    "\n",
    "* Leading means at the beginning of the string, trailing means at the end.\n",
    "\n",
    "* You can specify which character(s) to remove, if not, any whitespaces will be removed.\n",
    "\n",
    "Syntax string.strip(characters)\n",
    "\n"
   ]
  },
  {
   "cell_type": "markdown",
   "id": "327c6dda",
   "metadata": {},
   "source": [
    "# Parameter Values\n",
    "* characters------>Optional. A set of characters to remove as leading/trailing characters\n"
   ]
  },
  {
   "cell_type": "code",
   "execution_count": 127,
   "id": "dc31b01d",
   "metadata": {},
   "outputs": [
    {
     "name": "stdout",
     "output_type": "stream",
     "text": [
      "bbrrll.....orange\n"
     ]
    }
   ],
   "source": [
    "txt = \",,,,,bbrrll.....orange....rrr\"\n",
    "x = txt.strip(\",.grt\")\n",
    "print(x)\n"
   ]
  },
  {
   "cell_type": "code",
   "execution_count": 128,
   "id": "4aae9940",
   "metadata": {},
   "outputs": [
    {
     "data": {
      "text/plain": [
       "',,,,,bbrrll.....orange....'"
      ]
     },
     "execution_count": 128,
     "metadata": {},
     "output_type": "execute_result"
    }
   ],
   "source": [
    "txt.strip(\"rr\")\n"
   ]
  },
  {
   "cell_type": "markdown",
   "id": "6d44b12a",
   "metadata": {},
   "source": [
    "# swapcase()\n",
    "* The swapcase() method returns a string where all the upper case letters are lower case and vice versa.\n",
    "\n",
    "Syntax string.swapcase()\n",
    "\n"
   ]
  },
  {
   "cell_type": "code",
   "execution_count": 129,
   "id": "b20d6d6e",
   "metadata": {},
   "outputs": [
    {
     "name": "stdout",
     "output_type": "stream",
     "text": [
      "hELLO mY nAME iS prasad\n"
     ]
    }
   ],
   "source": [
    "txt = \"Hello My Name Is PRASAD\"\n",
    "x = txt.swapcase()\n",
    "print(x)\n"
   ]
  },
  {
   "cell_type": "markdown",
   "id": "a61f7b8c",
   "metadata": {},
   "source": [
    "# title()\n",
    "* The title() method returns a string where the first character in every word is upper case. Like a header, or a title.\n",
    "\n",
    "* If the word contains a number or a symbol, the first letter after that will be converted to upper case.\n",
    "\n",
    "* Syntax string.title()\n",
    "\n"
   ]
  },
  {
   "cell_type": "code",
   "execution_count": 130,
   "id": "6c78910e",
   "metadata": {},
   "outputs": [
    {
     "name": "stdout",
     "output_type": "stream",
     "text": [
      "Welcome To My 2Nd World\n"
     ]
    }
   ],
   "source": [
    "txt = \"Welcome to my 2nd world\"\n",
    "x = txt.title()\n",
    "print(x)\n"
   ]
  },
  {
   "cell_type": "code",
   "execution_count": 131,
   "id": "f200b5d8",
   "metadata": {},
   "outputs": [
    {
     "name": "stdout",
     "output_type": "stream",
     "text": [
      "Hello B2B2B2 And 3G3G3G\n"
     ]
    }
   ],
   "source": [
    "txt = \"hello b2b2b2 and 3g3g3g\"\n",
    "x = txt.title()\n",
    "print(x)\n"
   ]
  },
  {
   "cell_type": "markdown",
   "id": "2e586d15",
   "metadata": {},
   "source": [
    "# upper()\n",
    "* The upper() method returns a string where all characters are in upper case.\n",
    "\n",
    "* Symbols and Numbers are ignored.\n",
    "\n",
    "Syntax string.upper()\n",
    "\n"
   ]
  },
  {
   "cell_type": "code",
   "execution_count": 132,
   "id": "55d867b2",
   "metadata": {},
   "outputs": [
    {
     "name": "stdout",
     "output_type": "stream",
     "text": [
      "HELLO MY FRIENDS\n"
     ]
    }
   ],
   "source": [
    "txt = \"Hello my friends\"\n",
    "x = txt.upper()\n",
    "print(x)\n"
   ]
  },
  {
   "cell_type": "markdown",
   "id": "60df35ab",
   "metadata": {},
   "source": [
    "# zfill()\n",
    "* The zfill() method adds zeros (0) at the beginning of the string, until it reaches the specified length.\n",
    "\n",
    "* If the value of the len parameter is less than the length of the string, no filling is done.\n",
    "\n",
    "Syntax string.zfill(len)\n",
    "\n"
   ]
  },
  {
   "cell_type": "markdown",
   "id": "68a87c08",
   "metadata": {},
   "source": [
    "# Parameter Values\n",
    "* len----->Required. A number specifying the desired length of the string\n"
   ]
  },
  {
   "cell_type": "code",
   "execution_count": 134,
   "id": "71ecc698",
   "metadata": {},
   "outputs": [
    {
     "name": "stdout",
     "output_type": "stream",
     "text": [
      "00000hello\n",
      "welcome to the jungle\n",
      "000010.000\n"
     ]
    }
   ],
   "source": [
    "a= \"hello\"\n",
    "b = \"welcome to the jungle\"\n",
    "c = \"10.000\"\n",
    "\n",
    "print(a.zfill(10))\n",
    "print(b.zfill(10))\n",
    "print(c.zfill(10))\n"
   ]
  },
  {
   "cell_type": "code",
   "execution_count": null,
   "id": "7d80be1c",
   "metadata": {},
   "outputs": [],
   "source": []
  },
  {
   "cell_type": "code",
   "execution_count": null,
   "id": "42551edb",
   "metadata": {},
   "outputs": [],
   "source": []
  },
  {
   "cell_type": "code",
   "execution_count": null,
   "id": "6930e0af",
   "metadata": {},
   "outputs": [],
   "source": []
  },
  {
   "cell_type": "code",
   "execution_count": null,
   "id": "e8ebec44",
   "metadata": {},
   "outputs": [],
   "source": []
  },
  {
   "cell_type": "code",
   "execution_count": null,
   "id": "924b37c8",
   "metadata": {},
   "outputs": [],
   "source": []
  },
  {
   "cell_type": "code",
   "execution_count": null,
   "id": "1670135e",
   "metadata": {},
   "outputs": [],
   "source": []
  },
  {
   "cell_type": "code",
   "execution_count": null,
   "id": "6f19a12a",
   "metadata": {},
   "outputs": [],
   "source": []
  },
  {
   "cell_type": "code",
   "execution_count": null,
   "id": "150637b3",
   "metadata": {},
   "outputs": [],
   "source": []
  },
  {
   "cell_type": "code",
   "execution_count": null,
   "id": "65744a40",
   "metadata": {},
   "outputs": [],
   "source": []
  },
  {
   "cell_type": "code",
   "execution_count": null,
   "id": "41847536",
   "metadata": {},
   "outputs": [],
   "source": []
  },
  {
   "cell_type": "code",
   "execution_count": null,
   "id": "53c7bc5a",
   "metadata": {},
   "outputs": [],
   "source": []
  },
  {
   "cell_type": "code",
   "execution_count": null,
   "id": "60f9d729",
   "metadata": {},
   "outputs": [],
   "source": []
  },
  {
   "cell_type": "code",
   "execution_count": null,
   "id": "426f41e2",
   "metadata": {},
   "outputs": [],
   "source": []
  },
  {
   "cell_type": "code",
   "execution_count": null,
   "id": "f53f093a",
   "metadata": {},
   "outputs": [],
   "source": []
  },
  {
   "cell_type": "code",
   "execution_count": null,
   "id": "52a7ee46",
   "metadata": {},
   "outputs": [],
   "source": []
  },
  {
   "cell_type": "code",
   "execution_count": null,
   "id": "a920bc7f",
   "metadata": {},
   "outputs": [],
   "source": []
  },
  {
   "cell_type": "code",
   "execution_count": null,
   "id": "0dab0f60",
   "metadata": {},
   "outputs": [],
   "source": []
  },
  {
   "cell_type": "code",
   "execution_count": null,
   "id": "fb609273",
   "metadata": {},
   "outputs": [],
   "source": []
  },
  {
   "cell_type": "code",
   "execution_count": null,
   "id": "66effb8a",
   "metadata": {},
   "outputs": [],
   "source": []
  },
  {
   "cell_type": "code",
   "execution_count": null,
   "id": "da15e419",
   "metadata": {},
   "outputs": [],
   "source": []
  },
  {
   "cell_type": "code",
   "execution_count": null,
   "id": "d08eb1e4",
   "metadata": {},
   "outputs": [],
   "source": []
  },
  {
   "cell_type": "code",
   "execution_count": null,
   "id": "be621492",
   "metadata": {},
   "outputs": [],
   "source": []
  },
  {
   "cell_type": "code",
   "execution_count": null,
   "id": "3b7d99ca",
   "metadata": {},
   "outputs": [],
   "source": []
  },
  {
   "cell_type": "code",
   "execution_count": null,
   "id": "e4beb7a5",
   "metadata": {},
   "outputs": [],
   "source": []
  },
  {
   "cell_type": "code",
   "execution_count": null,
   "id": "d045e6dc",
   "metadata": {},
   "outputs": [],
   "source": []
  },
  {
   "cell_type": "code",
   "execution_count": null,
   "id": "369ca2df",
   "metadata": {},
   "outputs": [],
   "source": []
  },
  {
   "cell_type": "code",
   "execution_count": null,
   "id": "5b6ce83d",
   "metadata": {},
   "outputs": [],
   "source": []
  },
  {
   "cell_type": "code",
   "execution_count": null,
   "id": "e3b0d0ac",
   "metadata": {},
   "outputs": [],
   "source": []
  },
  {
   "cell_type": "code",
   "execution_count": null,
   "id": "3b49da36",
   "metadata": {},
   "outputs": [],
   "source": []
  },
  {
   "cell_type": "code",
   "execution_count": null,
   "id": "263376fc",
   "metadata": {},
   "outputs": [],
   "source": []
  },
  {
   "cell_type": "code",
   "execution_count": null,
   "id": "09fe4d9a",
   "metadata": {},
   "outputs": [],
   "source": []
  },
  {
   "cell_type": "code",
   "execution_count": null,
   "id": "b6938e88",
   "metadata": {},
   "outputs": [],
   "source": []
  },
  {
   "cell_type": "code",
   "execution_count": null,
   "id": "ca7eec02",
   "metadata": {},
   "outputs": [],
   "source": []
  },
  {
   "cell_type": "code",
   "execution_count": null,
   "id": "d076708f",
   "metadata": {},
   "outputs": [],
   "source": []
  },
  {
   "cell_type": "code",
   "execution_count": null,
   "id": "f6c5ddba",
   "metadata": {},
   "outputs": [],
   "source": []
  },
  {
   "cell_type": "code",
   "execution_count": null,
   "id": "5dc460b2",
   "metadata": {},
   "outputs": [],
   "source": []
  },
  {
   "cell_type": "code",
   "execution_count": null,
   "id": "367174d1",
   "metadata": {},
   "outputs": [],
   "source": []
  },
  {
   "cell_type": "code",
   "execution_count": null,
   "id": "2abed016",
   "metadata": {},
   "outputs": [],
   "source": []
  },
  {
   "cell_type": "code",
   "execution_count": null,
   "id": "cc1942af",
   "metadata": {},
   "outputs": [],
   "source": []
  },
  {
   "cell_type": "code",
   "execution_count": null,
   "id": "c8c1ff53",
   "metadata": {},
   "outputs": [],
   "source": []
  },
  {
   "cell_type": "code",
   "execution_count": null,
   "id": "b869e7ba",
   "metadata": {},
   "outputs": [],
   "source": []
  },
  {
   "cell_type": "code",
   "execution_count": null,
   "id": "f0929a1a",
   "metadata": {},
   "outputs": [],
   "source": []
  },
  {
   "cell_type": "code",
   "execution_count": null,
   "id": "36338f3b",
   "metadata": {},
   "outputs": [],
   "source": []
  },
  {
   "cell_type": "code",
   "execution_count": null,
   "id": "7a4a7335",
   "metadata": {},
   "outputs": [],
   "source": []
  },
  {
   "cell_type": "code",
   "execution_count": null,
   "id": "53d443a3",
   "metadata": {},
   "outputs": [],
   "source": []
  },
  {
   "cell_type": "code",
   "execution_count": null,
   "id": "5e3b3800",
   "metadata": {},
   "outputs": [],
   "source": []
  },
  {
   "cell_type": "code",
   "execution_count": null,
   "id": "92463a81",
   "metadata": {},
   "outputs": [],
   "source": []
  },
  {
   "cell_type": "code",
   "execution_count": null,
   "id": "fe68d92f",
   "metadata": {},
   "outputs": [],
   "source": []
  },
  {
   "cell_type": "code",
   "execution_count": null,
   "id": "bb0b48d0",
   "metadata": {},
   "outputs": [],
   "source": []
  },
  {
   "cell_type": "code",
   "execution_count": null,
   "id": "408bdb26",
   "metadata": {},
   "outputs": [],
   "source": []
  },
  {
   "cell_type": "code",
   "execution_count": null,
   "id": "17a40e59",
   "metadata": {},
   "outputs": [],
   "source": []
  },
  {
   "cell_type": "code",
   "execution_count": null,
   "id": "5a513a46",
   "metadata": {},
   "outputs": [],
   "source": []
  },
  {
   "cell_type": "code",
   "execution_count": null,
   "id": "dd6b81a5",
   "metadata": {},
   "outputs": [],
   "source": []
  },
  {
   "cell_type": "code",
   "execution_count": null,
   "id": "4a22bc06",
   "metadata": {},
   "outputs": [],
   "source": []
  },
  {
   "cell_type": "code",
   "execution_count": null,
   "id": "7e6d49d1",
   "metadata": {},
   "outputs": [],
   "source": []
  },
  {
   "cell_type": "code",
   "execution_count": null,
   "id": "8b71468a",
   "metadata": {},
   "outputs": [],
   "source": []
  },
  {
   "cell_type": "code",
   "execution_count": null,
   "id": "282e478b",
   "metadata": {},
   "outputs": [],
   "source": []
  },
  {
   "cell_type": "code",
   "execution_count": null,
   "id": "2e59a8b7",
   "metadata": {},
   "outputs": [],
   "source": []
  },
  {
   "cell_type": "code",
   "execution_count": null,
   "id": "3117a0b2",
   "metadata": {},
   "outputs": [],
   "source": []
  },
  {
   "cell_type": "code",
   "execution_count": null,
   "id": "7be8fcbf",
   "metadata": {},
   "outputs": [],
   "source": []
  },
  {
   "cell_type": "code",
   "execution_count": null,
   "id": "41882b4d",
   "metadata": {},
   "outputs": [],
   "source": []
  },
  {
   "cell_type": "code",
   "execution_count": null,
   "id": "337948ee",
   "metadata": {},
   "outputs": [],
   "source": []
  },
  {
   "cell_type": "code",
   "execution_count": null,
   "id": "58fc2494",
   "metadata": {},
   "outputs": [],
   "source": []
  },
  {
   "cell_type": "code",
   "execution_count": null,
   "id": "62d7f818",
   "metadata": {},
   "outputs": [],
   "source": []
  },
  {
   "cell_type": "code",
   "execution_count": null,
   "id": "a5223c39",
   "metadata": {},
   "outputs": [],
   "source": []
  },
  {
   "cell_type": "code",
   "execution_count": null,
   "id": "65dd48c7",
   "metadata": {},
   "outputs": [],
   "source": []
  },
  {
   "cell_type": "code",
   "execution_count": null,
   "id": "7bd5bf8e",
   "metadata": {},
   "outputs": [],
   "source": []
  },
  {
   "cell_type": "code",
   "execution_count": null,
   "id": "17d82b5c",
   "metadata": {},
   "outputs": [],
   "source": []
  },
  {
   "cell_type": "code",
   "execution_count": null,
   "id": "aa1358cb",
   "metadata": {},
   "outputs": [],
   "source": []
  },
  {
   "cell_type": "code",
   "execution_count": null,
   "id": "24e25bbd",
   "metadata": {},
   "outputs": [],
   "source": []
  },
  {
   "cell_type": "code",
   "execution_count": null,
   "id": "b105c7a6",
   "metadata": {},
   "outputs": [],
   "source": []
  }
 ],
 "metadata": {
  "kernelspec": {
   "display_name": "Python 3 (ipykernel)",
   "language": "python",
   "name": "python3"
  },
  "language_info": {
   "codemirror_mode": {
    "name": "ipython",
    "version": 3
   },
   "file_extension": ".py",
   "mimetype": "text/x-python",
   "name": "python",
   "nbconvert_exporter": "python",
   "pygments_lexer": "ipython3",
   "version": "3.11.4"
  }
 },
 "nbformat": 4,
 "nbformat_minor": 5
}
