{
 "cells": [
  {
   "cell_type": "code",
   "execution_count": 27,
   "id": "e5f704de",
   "metadata": {},
   "outputs": [],
   "source": [
    "import pandas as pd\n",
    "import numpy as np"
   ]
  },
  {
   "cell_type": "code",
   "execution_count": 28,
   "id": "10f792ec",
   "metadata": {},
   "outputs": [
    {
     "name": "stdout",
     "output_type": "stream",
     "text": [
      "    ProductA  ProductB\n",
      "0         25        40\n",
      "1         30        35\n",
      "2         28        38\n",
      "3         32        41\n",
      "4         26        37\n",
      "5         29        36\n",
      "6         27        39\n",
      "7         33        42\n",
      "8         31        38\n",
      "9         28        37\n",
      "10        30        40\n",
      "11        29        36\n"
     ]
    }
   ],
   "source": [
    "Data = {'ProductA': [25,30,28,32,26,29,27,33,31,28,30,29], 'ProductB': [40,35,38,41,37,36,39,42,38,37,40,36]}\n",
    "\n",
    "df = pd.DataFrame(Data)\n",
    "print(df)"
   ]
  },
  {
   "cell_type": "markdown",
   "id": "1b010db8",
   "metadata": {},
   "source": [
    "# Measures of Central Tendency"
   ]
  },
  {
   "cell_type": "markdown",
   "id": "61085e2a",
   "metadata": {},
   "source": [
    "1.Calculate the mean sales for Product A and Product B. Compare the average monthly sales for the two products and discuss any observed trends.\n"
   ]
  },
  {
   "cell_type": "code",
   "execution_count": 29,
   "id": "2606d4c1",
   "metadata": {},
   "outputs": [
    {
     "data": {
      "text/plain": [
       "ProductA    29.00\n",
       "ProductB    38.25\n",
       "dtype: float64"
      ]
     },
     "execution_count": 29,
     "metadata": {},
     "output_type": "execute_result"
    }
   ],
   "source": [
    "df.mean()  ##ProductB has a higher average monthly sales."
   ]
  },
  {
   "cell_type": "markdown",
   "id": "c0b51589",
   "metadata": {},
   "source": [
    "2.Find the median sales for each product and discuss how it reflects the central tendency of the sales distribution.\n"
   ]
  },
  {
   "cell_type": "code",
   "execution_count": 30,
   "id": "7f7301b2",
   "metadata": {},
   "outputs": [
    {
     "data": {
      "text/plain": [
       "ProductA    29.0\n",
       "ProductB    38.0\n",
       "dtype: float64"
      ]
     },
     "execution_count": 30,
     "metadata": {},
     "output_type": "execute_result"
    }
   ],
   "source": [
    "df.median() ###ProductB has a higher median, indicating that the sales distribution tends to be higher on average."
   ]
  },
  {
   "cell_type": "markdown",
   "id": "a6c4b835",
   "metadata": {},
   "source": [
    "3.Identify the mode of the sales data for both Product A and Product B. Discuss the significance of the mode in the context of these products."
   ]
  },
  {
   "cell_type": "code",
   "execution_count": 31,
   "id": "21e93a17",
   "metadata": {},
   "outputs": [
    {
     "data": {
      "text/html": [
       "<div>\n",
       "<style scoped>\n",
       "    .dataframe tbody tr th:only-of-type {\n",
       "        vertical-align: middle;\n",
       "    }\n",
       "\n",
       "    .dataframe tbody tr th {\n",
       "        vertical-align: top;\n",
       "    }\n",
       "\n",
       "    .dataframe thead th {\n",
       "        text-align: right;\n",
       "    }\n",
       "</style>\n",
       "<table border=\"1\" class=\"dataframe\">\n",
       "  <thead>\n",
       "    <tr style=\"text-align: right;\">\n",
       "      <th></th>\n",
       "      <th>ProductA</th>\n",
       "      <th>ProductB</th>\n",
       "    </tr>\n",
       "  </thead>\n",
       "  <tbody>\n",
       "    <tr>\n",
       "      <th>0</th>\n",
       "      <td>28.0</td>\n",
       "      <td>36</td>\n",
       "    </tr>\n",
       "    <tr>\n",
       "      <th>1</th>\n",
       "      <td>29.0</td>\n",
       "      <td>37</td>\n",
       "    </tr>\n",
       "    <tr>\n",
       "      <th>2</th>\n",
       "      <td>30.0</td>\n",
       "      <td>38</td>\n",
       "    </tr>\n",
       "    <tr>\n",
       "      <th>3</th>\n",
       "      <td>NaN</td>\n",
       "      <td>40</td>\n",
       "    </tr>\n",
       "  </tbody>\n",
       "</table>\n",
       "</div>"
      ],
      "text/plain": [
       "   ProductA  ProductB\n",
       "0      28.0        36\n",
       "1      29.0        37\n",
       "2      30.0        38\n",
       "3       NaN        40"
      ]
     },
     "execution_count": 31,
     "metadata": {},
     "output_type": "execute_result"
    }
   ],
   "source": [
    "df.mode()\n",
    "##the significance of the mode\n",
    "##product A & B have multiple modes,and multiple values"
   ]
  },
  {
   "cell_type": "markdown",
   "id": "1ad4a794",
   "metadata": {},
   "source": [
    "4.Calculate the weighted mean of the sales data, assuming each month has an equal weight. Discuss any implications of using weighted mean in this context."
   ]
  },
  {
   "cell_type": "code",
   "execution_count": 32,
   "id": "4d247107",
   "metadata": {},
   "outputs": [
    {
     "name": "stdout",
     "output_type": "stream",
     "text": [
      "28.999999999999996\n",
      "38.25\n"
     ]
    }
   ],
   "source": [
    "WA = (df['ProductA'] * (1 / len(df))).sum()  ##Implications of using weighted mean\n",
    "WB = (df['ProductB'] * (1 / len(df))).sum()  ##the weighted mean provides a simple average that does not give more importance to certain months.\n",
    "\n",
    "print(WA)\n",
    "print(WB)"
   ]
  },
  {
   "cell_type": "markdown",
   "id": "20a28e5c",
   "metadata": {},
   "source": [
    "# Measures of Dispersion"
   ]
  },
  {
   "cell_type": "markdown",
   "id": "4c1e3b49",
   "metadata": {},
   "source": [
    "1.Compute the range of monthly sales for both Product A and Product B. Discuss how the range provides insights into the variability of sales."
   ]
  },
  {
   "cell_type": "code",
   "execution_count": 33,
   "id": "5b2ac864",
   "metadata": {},
   "outputs": [
    {
     "name": "stdout",
     "output_type": "stream",
     "text": [
      "8\n",
      "7\n"
     ]
    }
   ],
   "source": [
    "RangeA = df['ProductA'].max() - df['ProductA'].min()\n",
    "RangeB = df['ProductB'].max() - df['ProductB'].min()\n",
    "\n",
    "print(RangeA) ##A larger range suggests greater variability or dispersion in sales, indicating potential fluctuations or outliers\n",
    "print(RangeB)"
   ]
  },
  {
   "cell_type": "markdown",
   "id": "d5a83ff3",
   "metadata": {},
   "source": [
    "2.Calculate the variance of the sales data for both products. Discuss what the variance reveals about the spread of sales for each product."
   ]
  },
  {
   "cell_type": "code",
   "execution_count": 34,
   "id": "61979194",
   "metadata": {},
   "outputs": [
    {
     "data": {
      "text/plain": [
       "ProductA    5.636364\n",
       "ProductB    4.750000\n",
       "dtype: float64"
      ]
     },
     "execution_count": 34,
     "metadata": {},
     "output_type": "execute_result"
    }
   ],
   "source": [
    "df.var()##A higher variance indicates greater dispersion or variability in sales values.\n",
    "        ##A lower variance suggests less spread, indicating more consistency in sales.¶"
   ]
  },
  {
   "cell_type": "markdown",
   "id": "1a5c86f0",
   "metadata": {},
   "source": [
    "3.Determine the standard deviation of the sales for Product A and Product B. Discuss the significance of standard deviation in understanding the variability in sales."
   ]
  },
  {
   "cell_type": "code",
   "execution_count": 35,
   "id": "43e716f2",
   "metadata": {},
   "outputs": [
    {
     "data": {
      "text/plain": [
       "ProductA    2.374103\n",
       "ProductB    2.179449\n",
       "dtype: float64"
      ]
     },
     "execution_count": 35,
     "metadata": {},
     "output_type": "execute_result"
    }
   ],
   "source": [
    "df.std() ## A higher standard deviation indicates greater variability or spread in sales values\n",
    "        ##A lower standard deviation suggests less variability, indicating more consistency in sales."
   ]
  },
  {
   "cell_type": "markdown",
   "id": "c6204e00",
   "metadata": {},
   "source": [
    "# Relative Measures of Dispersion"
   ]
  },
  {
   "cell_type": "markdown",
   "id": "0ed8996a",
   "metadata": {},
   "source": [
    "1.Calculate the coefficient of variation for the sales data of Product A. Discuss how this relative measure of dispersion helps in comparing the variability of products with different average sales."
   ]
  },
  {
   "cell_type": "code",
   "execution_count": 36,
   "id": "67d4c8dd",
   "metadata": {},
   "outputs": [
    {
     "name": "stdout",
     "output_type": "stream",
     "text": [
      "8.186561038997239\n",
      "5.697907115739443\n"
     ]
    }
   ],
   "source": [
    "meanA = df['ProductA'].mean()\n",
    "stdA = df['ProductA'].std()\n",
    "cvA = (stdA / meanA) * 100\n",
    "\n",
    "meanB = df['ProductB'].mean()\n",
    "stdB = df['ProductB'].std()\n",
    "cvB = (stdB / meanB) * 100\n",
    "\n",
    "print(cvA)\n",
    "print(cvB)"
   ]
  },
  {
   "cell_type": "code",
   "execution_count": null,
   "id": "8e16c82f",
   "metadata": {},
   "outputs": [],
   "source": []
  }
 ],
 "metadata": {
  "kernelspec": {
   "display_name": "Python 3 (ipykernel)",
   "language": "python",
   "name": "python3"
  },
  "language_info": {
   "codemirror_mode": {
    "name": "ipython",
    "version": 3
   },
   "file_extension": ".py",
   "mimetype": "text/x-python",
   "name": "python",
   "nbconvert_exporter": "python",
   "pygments_lexer": "ipython3",
   "version": "3.11.4"
  }
 },
 "nbformat": 4,
 "nbformat_minor": 5
}
