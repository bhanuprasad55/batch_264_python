{
 "cells": [
  {
   "cell_type": "markdown",
   "id": "82c83eeb",
   "metadata": {},
   "source": [
    "1. Write a Python program that asks the user for their age and prints \"You are an adult\" if the age is 18 or older, otherwise prints \"You are a minor'.\n"
   ]
  },
  {
   "cell_type": "code",
   "execution_count": 11,
   "id": "ab3c12db",
   "metadata": {},
   "outputs": [
    {
     "name": "stdout",
     "output_type": "stream",
     "text": [
      "enter the age15\n",
      "you are minor\n"
     ]
    }
   ],
   "source": [
    "age = int(input('enter the age'))\n",
    "if age>=18:\n",
    "    print('you are adult')\n",
    "else:\n",
    "    print('you are minor')"
   ]
  },
  {
   "cell_type": "markdown",
   "id": "e31fab1c",
   "metadata": {},
   "source": [
    "2. Write a program that takes a numerical grade (out of 100) as input and prints the corresponding letter grade according to the following scale:\n",
    "*  90-100: A\n",
    "*  80-89: B\n",
    "*  70-79: C\n",
    "*  60-69: D\n",
    "*  Below 60: F\n"
   ]
  },
  {
   "cell_type": "code",
   "execution_count": 16,
   "id": "6fde30bc",
   "metadata": {},
   "outputs": [
    {
     "name": "stdout",
     "output_type": "stream",
     "text": [
      "enter the marks43\n",
      "F\n"
     ]
    }
   ],
   "source": [
    "marks = int(input('enter the marks'))\n",
    "if marks >100:\n",
    "    print('A')\n",
    "elif marks >90:\n",
    "    print('B')\n",
    "elif marks >80:\n",
    "    print('C')\n",
    "elif marks >70:\n",
    "    print('D')\n",
    "elif marks >60:\n",
    "    print('E')\n",
    "else:\n",
    "    print('F')\n",
    "    "
   ]
  },
  {
   "cell_type": "markdown",
   "id": "0230fef8",
   "metadata": {},
   "source": [
    "3. Write a program that calculates the Body Mass Index (BMI) of a person. The user should input their weight in kilograms and height in meters. The program should then print whether the person is underweight, normal weight, overweight, or obese"
   ]
  },
  {
   "cell_type": "code",
   "execution_count": 1,
   "id": "26270ac6",
   "metadata": {},
   "outputs": [
    {
     "name": "stdout",
     "output_type": "stream",
     "text": [
      "enter your weight : 55\n",
      "enter your height : 6.2\n",
      "you are underweight\n"
     ]
    }
   ],
   "source": [
    "weight = (float(input('enter your weight : ')))\n",
    "height = (float(input('enter your height : ')))\n",
    "bmi = weight / (height ** 2)\n",
    "\n",
    "if bmi <= 18.5:\n",
    "    print('you are underweight')\n",
    "elif 18.5 <= bmi < 24.9:\n",
    "    print('you are in the normal weight range')\n",
    "elif 25 <= bmi < 29.9:\n",
    "    print('you are overweight')\n",
    "else:\n",
    "    print('you are obese')\n"
   ]
  },
  {
   "cell_type": "markdown",
   "id": "f426a46e",
   "metadata": {},
   "source": [
    "4. Write a program that asks the user for three numbers and prints the maximum of the three.\n"
   ]
  },
  {
   "cell_type": "code",
   "execution_count": 3,
   "id": "ee786a69",
   "metadata": {},
   "outputs": [
    {
     "name": "stdout",
     "output_type": "stream",
     "text": [
      "enter a value : 5\n",
      "enter b value : 15\n",
      "enter c value : 35\n",
      "a,b,c values are : 5,15,35\n",
      "c is maximum\n"
     ]
    }
   ],
   "source": [
    "a = int(input('enter a value : '))\n",
    "b = int(input('enter b value : '))\n",
    "c = int(input('enter c value : '))\n",
    "print(f'a,b,c values are : {a},{b},{c}')\n",
    "\n",
    "if a>b and a>c:\n",
    "    print('a is maximum')\n",
    "elif b>a and b>c:\n",
    "    print('b is maximum')\n",
    "else:\n",
    "    print('c is maximum')\n",
    "    "
   ]
  },
  {
   "cell_type": "markdown",
   "id": "a31709ef",
   "metadata": {},
   "source": [
    "5) Write a program that asks the user for a temperature (in Celsius) and prints \"It's freezing\" if the temperature is below 0, \"It's cool\" if it's between 0 and 10, \"It's warm\" if it's between 10 and 20, and \"It's hot\" if it's above 20\n"
   ]
  },
  {
   "cell_type": "code",
   "execution_count": 18,
   "id": "b0c3f895",
   "metadata": {},
   "outputs": [
    {
     "name": "stdout",
     "output_type": "stream",
     "text": [
      "enter the temp21\n",
      "it's hot\n"
     ]
    }
   ],
   "source": [
    "temp = int(input('enter the temp'))\n",
    "if temp<=0:\n",
    "  print(\"it's freezing\")\n",
    "elif temp<=10:\n",
    "  print(\"it's cool\")\n",
    "elif temp<=20:\n",
    "  print(\"it's warm\")\n",
    "else:\n",
    "    print(\"it's hot\")"
   ]
  },
  {
   "cell_type": "code",
   "execution_count": null,
   "id": "52568ce4",
   "metadata": {},
   "outputs": [],
   "source": []
  },
  {
   "cell_type": "markdown",
   "id": "0d1655f4",
   "metadata": {},
   "source": [
    "6. Write a program that asks the user for a number (1-7) and prints the corresponding day of the week.\n"
   ]
  },
  {
   "cell_type": "code",
   "execution_count": 3,
   "id": "ad5dda19",
   "metadata": {},
   "outputs": [
    {
     "name": "stdout",
     "output_type": "stream",
     "text": [
      "enter a number : 3\n",
      "tuesday\n"
     ]
    }
   ],
   "source": [
    "d = int(input('enter a number : '))\n",
    "\n",
    "if d==1:\n",
    "    print('sunday')\n",
    "elif d==2:\n",
    "     print('monday')\n",
    "elif d==3:\n",
    "    print('tuesday')\n",
    "elif d==4:\n",
    "    print('wensday')\n",
    "elif d==5:\n",
    "    print('thursday')\n",
    "elif d==6:\n",
    "    print('friday')\n",
    "elif d==7:\n",
    "    print('saturday')\n",
    "else:\n",
    "    print('invalid number')\n",
    "    "
   ]
  },
  {
   "cell_type": "markdown",
   "id": "c6eff4dc",
   "metadata": {},
   "source": [
    "7. Write a program that asks the user for a number and prints \"In range\" if the number is between 10 and 20 (inclusive), and \"Out of range\" otherwise.\n"
   ]
  },
  {
   "cell_type": "code",
   "execution_count": 4,
   "id": "170cc65d",
   "metadata": {},
   "outputs": [
    {
     "name": "stdout",
     "output_type": "stream",
     "text": [
      "enter a number :17\n",
      "in range\n"
     ]
    }
   ],
   "source": [
    "a = int(input('enter a number :'))\n",
    "\n",
    "if a in range(10, 21):\n",
    "    print('in range')\n",
    "else:\n",
    "    print('out of range')\n",
    "    "
   ]
  },
  {
   "cell_type": "markdown",
   "id": "3751718f",
   "metadata": {},
   "source": [
    "8. Write a program that asks the user for an integer and prints whether it's even or odd."
   ]
  },
  {
   "cell_type": "code",
   "execution_count": 18,
   "id": "56e68536",
   "metadata": {},
   "outputs": [
    {
     "name": "stdout",
     "output_type": "stream",
     "text": [
      "enter a number :12\n",
      "even number\n"
     ]
    }
   ],
   "source": [
    "a = int(input('enter a number :'))\n",
    "\n",
    "if a % 2 == 0:\n",
    "    print('even number')\n",
    "else:\n",
    "    print('odd number')"
   ]
  },
  {
   "cell_type": "markdown",
   "id": "7ebedfb5",
   "metadata": {},
   "source": [
    "9.  Write a Python program to add 'ing' at the end of a given string (string length should be equal to or more than 3). If the given string already ends with 'ing' then add 'ly' instead.If the string length of the given string is less than 3, leave it unchanged"
   ]
  },
  {
   "cell_type": "code",
   "execution_count": 24,
   "id": "d332f66c",
   "metadata": {},
   "outputs": [
    {
     "name": "stdout",
     "output_type": "stream",
     "text": [
      "enter a string  dance\n",
      "danceing\n"
     ]
    }
   ],
   "source": [
    "y=input('enter a string  ')\n",
    "\n",
    "if len(y)==2:\n",
    "    print((y))\n",
    "elif y.endswith('ing'):\n",
    "    print((y).replace('ing','ly'))\n",
    "else:\n",
    "    print((y)+('ing'))\n"
   ]
  },
  {
   "cell_type": "code",
   "execution_count": null,
   "id": "c22c0dbe",
   "metadata": {},
   "outputs": [],
   "source": []
  },
  {
   "cell_type": "code",
   "execution_count": null,
   "id": "65c7ea0e",
   "metadata": {},
   "outputs": [],
   "source": []
  },
  {
   "cell_type": "code",
   "execution_count": null,
   "id": "339ff4a1",
   "metadata": {},
   "outputs": [],
   "source": []
  },
  {
   "cell_type": "code",
   "execution_count": null,
   "id": "00a5d27a",
   "metadata": {},
   "outputs": [],
   "source": []
  },
  {
   "cell_type": "code",
   "execution_count": null,
   "id": "7c600a99",
   "metadata": {},
   "outputs": [],
   "source": []
  },
  {
   "cell_type": "code",
   "execution_count": null,
   "id": "0acc5b51",
   "metadata": {},
   "outputs": [],
   "source": []
  },
  {
   "cell_type": "code",
   "execution_count": null,
   "id": "702327de",
   "metadata": {},
   "outputs": [],
   "source": []
  },
  {
   "cell_type": "code",
   "execution_count": null,
   "id": "8db5e5fa",
   "metadata": {},
   "outputs": [],
   "source": []
  },
  {
   "cell_type": "code",
   "execution_count": null,
   "id": "53952110",
   "metadata": {},
   "outputs": [],
   "source": []
  },
  {
   "cell_type": "code",
   "execution_count": null,
   "id": "e7eeb81d",
   "metadata": {},
   "outputs": [],
   "source": []
  },
  {
   "cell_type": "code",
   "execution_count": null,
   "id": "465c3b9a",
   "metadata": {},
   "outputs": [],
   "source": []
  },
  {
   "cell_type": "code",
   "execution_count": null,
   "id": "3c989871",
   "metadata": {},
   "outputs": [],
   "source": []
  },
  {
   "cell_type": "code",
   "execution_count": null,
   "id": "9cc7f33f",
   "metadata": {},
   "outputs": [],
   "source": []
  },
  {
   "cell_type": "code",
   "execution_count": null,
   "id": "4f88c66b",
   "metadata": {},
   "outputs": [],
   "source": []
  },
  {
   "cell_type": "code",
   "execution_count": null,
   "id": "390b5e2b",
   "metadata": {},
   "outputs": [],
   "source": []
  },
  {
   "cell_type": "code",
   "execution_count": null,
   "id": "8ca54b1b",
   "metadata": {},
   "outputs": [],
   "source": []
  },
  {
   "cell_type": "code",
   "execution_count": null,
   "id": "fc340af5",
   "metadata": {},
   "outputs": [],
   "source": []
  },
  {
   "cell_type": "code",
   "execution_count": null,
   "id": "95595980",
   "metadata": {},
   "outputs": [],
   "source": []
  },
  {
   "cell_type": "code",
   "execution_count": null,
   "id": "5becca93",
   "metadata": {},
   "outputs": [],
   "source": []
  },
  {
   "cell_type": "code",
   "execution_count": null,
   "id": "4a1b8949",
   "metadata": {},
   "outputs": [],
   "source": []
  },
  {
   "cell_type": "code",
   "execution_count": null,
   "id": "f4203cc3",
   "metadata": {},
   "outputs": [],
   "source": []
  },
  {
   "cell_type": "code",
   "execution_count": null,
   "id": "56fef7d6",
   "metadata": {},
   "outputs": [],
   "source": []
  },
  {
   "cell_type": "code",
   "execution_count": null,
   "id": "e66e957e",
   "metadata": {},
   "outputs": [],
   "source": []
  },
  {
   "cell_type": "code",
   "execution_count": null,
   "id": "023c4264",
   "metadata": {},
   "outputs": [],
   "source": []
  },
  {
   "cell_type": "code",
   "execution_count": null,
   "id": "684bfeb9",
   "metadata": {},
   "outputs": [],
   "source": []
  },
  {
   "cell_type": "code",
   "execution_count": null,
   "id": "76793061",
   "metadata": {},
   "outputs": [],
   "source": []
  },
  {
   "cell_type": "code",
   "execution_count": null,
   "id": "7505a8ae",
   "metadata": {},
   "outputs": [],
   "source": []
  },
  {
   "cell_type": "code",
   "execution_count": null,
   "id": "62848da2",
   "metadata": {},
   "outputs": [],
   "source": []
  },
  {
   "cell_type": "code",
   "execution_count": null,
   "id": "70b2ad6d",
   "metadata": {},
   "outputs": [],
   "source": []
  },
  {
   "cell_type": "code",
   "execution_count": null,
   "id": "c51963ea",
   "metadata": {},
   "outputs": [],
   "source": []
  },
  {
   "cell_type": "code",
   "execution_count": null,
   "id": "9eb16e6b",
   "metadata": {},
   "outputs": [],
   "source": []
  },
  {
   "cell_type": "code",
   "execution_count": null,
   "id": "cb258309",
   "metadata": {},
   "outputs": [],
   "source": []
  },
  {
   "cell_type": "code",
   "execution_count": null,
   "id": "c740e1d7",
   "metadata": {},
   "outputs": [],
   "source": []
  },
  {
   "cell_type": "code",
   "execution_count": null,
   "id": "c3c6a4f1",
   "metadata": {},
   "outputs": [],
   "source": []
  },
  {
   "cell_type": "code",
   "execution_count": null,
   "id": "ab949707",
   "metadata": {},
   "outputs": [],
   "source": []
  },
  {
   "cell_type": "code",
   "execution_count": null,
   "id": "444e1432",
   "metadata": {},
   "outputs": [],
   "source": []
  },
  {
   "cell_type": "code",
   "execution_count": null,
   "id": "d4ab5fc9",
   "metadata": {},
   "outputs": [],
   "source": []
  },
  {
   "cell_type": "code",
   "execution_count": null,
   "id": "7144e472",
   "metadata": {},
   "outputs": [],
   "source": []
  }
 ],
 "metadata": {
  "kernelspec": {
   "display_name": "Python 3 (ipykernel)",
   "language": "python",
   "name": "python3"
  },
  "language_info": {
   "codemirror_mode": {
    "name": "ipython",
    "version": 3
   },
   "file_extension": ".py",
   "mimetype": "text/x-python",
   "name": "python",
   "nbconvert_exporter": "python",
   "pygments_lexer": "ipython3",
   "version": "3.11.4"
  }
 },
 "nbformat": 4,
 "nbformat_minor": 5
}
