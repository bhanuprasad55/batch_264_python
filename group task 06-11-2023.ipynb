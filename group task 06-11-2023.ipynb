{
 "cells": [
  {
   "cell_type": "markdown",
   "id": "c4bc2029",
   "metadata": {},
   "source": [
    "# 18. Create a function that returns the mean of all digits."
   ]
  },
  {
   "cell_type": "code",
   "execution_count": 3,
   "id": "a36f7777",
   "metadata": {},
   "outputs": [
    {
     "name": "stdout",
     "output_type": "stream",
     "text": [
      "5\n"
     ]
    }
   ],
   "source": [
    "a=[5,4,7,6]\n",
    "x=0\n",
    "sum=0\n",
    "while x<len(a):\n",
    "    sum=sum+a[x]\n",
    "    x+=1\n",
    "print(sum//len(a))"
   ]
  },
  {
   "cell_type": "code",
   "execution_count": 4,
   "id": "ce454929",
   "metadata": {},
   "outputs": [
    {
     "name": "stdout",
     "output_type": "stream",
     "text": [
      "5\n"
     ]
    }
   ],
   "source": [
    "a=[5,4,7,6]\n",
    "sum=0\n",
    "for x in a:\n",
    "    sum=sum+x\n",
    "print(sum//len(a))"
   ]
  },
  {
   "cell_type": "markdown",
   "id": "4ec8c55e",
   "metadata": {},
   "source": [
    "# 19. You're in the midst of creating a typing game.\n",
    "\n",
    "Create a function that takes in two lists: the list of user-typed words, and the list of correctly-typed words and outputs a list containing 1s (correctly-typed words) and -1s (incorrectly-typed words)."
   ]
  },
  {
   "cell_type": "code",
   "execution_count": 7,
   "id": "f52f190b",
   "metadata": {},
   "outputs": [
    {
     "name": "stdout",
     "output_type": "stream",
     "text": [
      "[-1, 1, 1, -1, 1]\n"
     ]
    }
   ],
   "source": [
    "l1 = [\"car\", \"bike\", \"cycle\", \"vitara\", \"maruti\"]\n",
    "l2 = [\"cer\", \"bike\", \"cycle\", \"vetara\", \"maruti\"]\n",
    "z = []\n",
    "x = 0\n",
    "while x < len(l1):\n",
    "    if l1[x]==l2[x]:\n",
    "        z.append(1)\n",
    "    else:\n",
    "        z.append(-1)\n",
    "    x+=1\n",
    "print(z)"
   ]
  },
  {
   "cell_type": "code",
   "execution_count": 9,
   "id": "b89325ac",
   "metadata": {},
   "outputs": [
    {
     "name": "stdout",
     "output_type": "stream",
     "text": [
      "[1, 1, 1, -1, -1]\n"
     ]
    }
   ],
   "source": [
    "a1 = [\"car\", \"bike\", \"motorcycle\", \"vitara\", \"maruti\"]\n",
    "a2 = [\"car\", \"bike\", \"motorcycle\", \"umbrella\", \"paddy\"]\n",
    "z = []\n",
    "x = 0\n",
    "for x in range(0,5):\n",
    "    if a1[x]==a2[x]:\n",
    "        z.append(1)\n",
    "    else:\n",
    "        z.append(-1)\n",
    "    x+=1\n",
    "print(z)"
   ]
  },
  {
   "cell_type": "markdown",
   "id": "b0296c24",
   "metadata": {},
   "source": [
    "# 20. Create a function which returns a list of booleans, from a given number. Iterating through the number one digit at a time, append True if the digit is 1 and False if it is 0."
   ]
  },
  {
   "cell_type": "code",
   "execution_count": 10,
   "id": "697bb413",
   "metadata": {},
   "outputs": [
    {
     "name": "stdout",
     "output_type": "stream",
     "text": [
      "Enter a value either 0 or 1:10010\n",
      "['True', 'False', 'False', 'True', 'False']\n"
     ]
    }
   ],
   "source": [
    "n=int(input(\"Enter a value either 0 or 1:\"))\n",
    "list=[]\n",
    "while n>0:\n",
    "    m=n%10\n",
    "    if m==1:\n",
    "        list.append(\"True\")\n",
    "    else:\n",
    "        list.append(\"False\")\n",
    "    n=n//10\n",
    "list.reverse()\n",
    "print(list)"
   ]
  },
  {
   "cell_type": "code",
   "execution_count": 12,
   "id": "9e63f9a4",
   "metadata": {},
   "outputs": [
    {
     "name": "stdout",
     "output_type": "stream",
     "text": [
      "Enter how many inputs you want to give :1\n",
      "Enter (0) or (1) :0\n",
      "['False']\n"
     ]
    }
   ],
   "source": [
    "n=int(input(\"Enter how many inputs you want to give :\")) \n",
    "list=[]\n",
    "for i in range(n):\n",
    "    bin=int(input(\"Enter (0) or (1) :\"))\n",
    "    m=bin%10\n",
    "    if m==1:\n",
    "        list.append(\"True\")\n",
    "    else:\n",
    "        list.append(\"False\")\n",
    "    n=n//10\n",
    "print(list)"
   ]
  },
  {
   "cell_type": "markdown",
   "id": "eda76d7b",
   "metadata": {},
   "source": [
    "# 21. Create a function that returns True if the first list is a subset of the second. Return False otherwise."
   ]
  },
  {
   "cell_type": "code",
   "execution_count": 3,
   "id": "aa81eb54",
   "metadata": {},
   "outputs": [
    {
     "name": "stdout",
     "output_type": "stream",
     "text": [
      "Enter number of values you want to enter in aset : 4\n",
      "Enter elements : 1\n",
      "Enter elements : 2\n",
      "Enter elements : 3\n",
      "Enter elements : 4\n",
      "{1, 2, 3, 4}\n",
      "Enter number of values you want to enter in aset : 5\n",
      "Enter elements : 5\n",
      "Enter elements : 6\n",
      "Enter elements : 7\n",
      "Enter elements : 8\n",
      "Enter elements : 9\n",
      "{5, 6, 7, 8, 9}\n",
      "False\n"
     ]
    }
   ],
   "source": [
    "num1 = int(input(\"Enter number of values you want to enter in aset : \"))\n",
    "aset=set()\n",
    "bset=set()\n",
    "i=0\n",
    "while (i<num1):\n",
    "    element1=int(input(\"Enter elements : \"))\n",
    "    aset.add(element1)\n",
    "    i+=1\n",
    "print(aset)\n",
    "num2 = int(input(\"Enter number of values you want to enter in aset : \"))\n",
    "j=0\n",
    "while (j<num2):\n",
    "    element2=int(input(\"Enter elements : \"))\n",
    "    bset.add(element2)\n",
    "    j+=1\n",
    "print(bset)\n",
    "if bset.issubset(aset):\n",
    "    print(\"True\")\n",
    "else:\n",
    "    print(\"False\")"
   ]
  },
  {
   "cell_type": "code",
   "execution_count": 2,
   "id": "a69aba31",
   "metadata": {},
   "outputs": [
    {
     "name": "stdout",
     "output_type": "stream",
     "text": [
      "Enter number of values you want to enter in aset : 2\n",
      "Enter elements : 1\n",
      "Enter elements : 2\n",
      "Enter number of values you want to enter in bset : 3\n",
      "Enter elements : 4\n",
      "Enter elements : 5\n",
      "Enter elements : 6\n",
      "False\n",
      "[1, 2]\n",
      "[4, 5, 6]\n"
     ]
    }
   ],
   "source": [
    "num1 = int(input(\"Enter number of values you want to enter in aset : \"))\n",
    "aset=set()\n",
    "bset=set()\n",
    "for i in range(num1):\n",
    "    element1=int(input(\"Enter elements : \"))\n",
    "    aset.add(element1)\n",
    "num2 = int(input(\"Enter number of values you want to enter in bset : \"))\n",
    "for j in range(num2):\n",
    "    element2=int(input(\"Enter elements : \"))\n",
    "    bset.add(element2)\n",
    "if bset.issubset(aset):\n",
    "    print(\"True\")\n",
    "else:\n",
    "    print(\"False\")\n",
    "print(list(aset))\n",
    "print(list(bset))"
   ]
  },
  {
   "cell_type": "markdown",
   "id": "7b4fcf92",
   "metadata": {},
   "source": [
    "# 22. Given a list of scrabble tiles (as dictionaries), create a function that outputs the maximum possible score a player can achieve by summing up the total number of points for all the tiles in their hand. Each hand contains 7 scrabble tiles."
   ]
  },
  {
   "cell_type": "code",
   "execution_count": null,
   "id": "c27ea534",
   "metadata": {},
   "outputs": [],
   "source": []
  },
  {
   "cell_type": "markdown",
   "id": "baa08969",
   "metadata": {},
   "source": [
    "# 23. Create a function that takes an integer and returns a list from 1 to the given number, where:\n",
    "\n",
    "If the number can be divided evenly by 4, amplify it by 10 (i.e. return 10 times the number).\n",
    "If the number cannot be divided evenly by 4, simply return the number."
   ]
  },
  {
   "cell_type": "code",
   "execution_count": 113,
   "id": "3435e573",
   "metadata": {},
   "outputs": [
    {
     "name": "stdout",
     "output_type": "stream",
     "text": [
      "[1, 2, 3, 40, 5, 6, 7, 80, 9, 10]\n"
     ]
    }
   ],
   "source": [
    "n = 10\n",
    "x = []\n",
    "\n",
    "for i in range(1,n+1):\n",
    "    if i%4==0:\n",
    "        x.append(i*10)\n",
    "    else:\n",
    "        x.append(i)\n",
    "    i+=1\n",
    "print(x)\n",
    "        \n",
    "        "
   ]
  },
  {
   "cell_type": "code",
   "execution_count": 105,
   "id": "b46c25de",
   "metadata": {},
   "outputs": [
    {
     "name": "stdout",
     "output_type": "stream",
     "text": [
      "[1, 2, 3, 40, 5, 6, 7, 80, 9, 10]\n"
     ]
    }
   ],
   "source": [
    "n = 10\n",
    "x = []\n",
    "i =1\n",
    "while i<=n:\n",
    "    if i % 4==0:\n",
    "        x.append(i*10)\n",
    "    else:\n",
    "        x.append(i)\n",
    "    i+=1\n",
    "print(x)\n",
    "        \n",
    "        "
   ]
  },
  {
   "cell_type": "markdown",
   "id": "dfe28d55",
   "metadata": {},
   "source": [
    "# 24. Return the smallest number of steps it takes to convert a string entirely into uppercase or entirely into lower case, whichever takes the fewest number of steps. A step consists of changing one character from lower to upper case, or vice versa."
   ]
  },
  {
   "cell_type": "code",
   "execution_count": 5,
   "id": "3987dd24",
   "metadata": {},
   "outputs": [
    {
     "name": "stdout",
     "output_type": "stream",
     "text": [
      "Enter combination of upper&lower case string : bhanu\n",
      "0\n"
     ]
    }
   ],
   "source": [
    "string1=input(\"Enter combination of upper&lower case string : \") #aABC\n",
    "lowercase=0\n",
    "uppercase=0\n",
    "for i in string1:\n",
    "    if i.islower():\n",
    "        lowercase+=1\n",
    "    else:\n",
    "        uppercase+=1\n",
    "if lowercase<=uppercase:\n",
    "    print(lowercase)\n",
    "else:\n",
    "    print(uppercase)"
   ]
  },
  {
   "cell_type": "code",
   "execution_count": 7,
   "id": "908fc379",
   "metadata": {},
   "outputs": [
    {
     "name": "stdout",
     "output_type": "stream",
     "text": [
      "Enter combination of upper&lower case string : BHANU\n",
      "0\n"
     ]
    }
   ],
   "source": [
    "string1=input(\"Enter combination of upper&lower case string : \") #aABC\n",
    "lowercase=0\n",
    "uppercase=0\n",
    "while i< string1:\n",
    "    if i.islower():\n",
    "        lowercase+=1\n",
    "    else:\n",
    "        uppercase+=1\n",
    "if lowercase<=uppercase:\n",
    "    print(lowercase)\n",
    "else:\n",
    "    print(uppercase)"
   ]
  },
  {
   "cell_type": "markdown",
   "id": "f24ebedb",
   "metadata": {},
   "source": [
    "# 25. Imagine a messaging device with only one button. For the letter A, you press the button one time, for E, you press it five times, for G, it's pressed seven times, etc, etc.\n",
    " Write a function that takes a string (the message) and returns the total number of times the button is pressed.\n",
    "\n"
   ]
  },
  {
   "cell_type": "code",
   "execution_count": 1,
   "id": "4693bd17",
   "metadata": {},
   "outputs": [
    {
     "name": "stdout",
     "output_type": "stream",
     "text": [
      "13\n"
     ]
    }
   ],
   "source": [
    "button = {'a': 1, 't': 5, 'f': 7}\n",
    "x = 0\n",
    "for i in button:\n",
    "    x+=button[i]\n",
    "print(x)"
   ]
  },
  {
   "cell_type": "markdown",
   "id": "21659fdc",
   "metadata": {},
   "source": [
    "# 27. using while You are given a list of dates in the format Dec 11 and a month in the format Dec as arguments. Each date represents a video that was uploaded on that day. Return the number of uploads for a given month.\n",
    "Examples upload_count([\"Sept 22\", \"Sept 21\", \"Oct 15\"], \"Sept\") ➞ 2"
   ]
  },
  {
   "cell_type": "code",
   "execution_count": 2,
   "id": "e7e68e79",
   "metadata": {},
   "outputs": [
    {
     "name": "stdout",
     "output_type": "stream",
     "text": [
      "2\n"
     ]
    }
   ],
   "source": [
    "dates = [\"Sept 22\", \"Sept 21\", \"Oct 15\"]\n",
    "t_month = \"Sept\"\n",
    "x = 0\n",
    "i = 0\n",
    "while i<len(dates):\n",
    "    z = dates[i].split()\n",
    "    if len(z) == 2:\n",
    "        month = z[0]\n",
    "        if month == t_month:\n",
    "            x+=1\n",
    "    i+=1\n",
    "\n",
    "print(x)"
   ]
  },
  {
   "cell_type": "code",
   "execution_count": 3,
   "id": "bce664fe",
   "metadata": {},
   "outputs": [
    {
     "name": "stdout",
     "output_type": "stream",
     "text": [
      "2\n"
     ]
    }
   ],
   "source": [
    "dates = [\"Sept 22\", \"Sept 21\", \"Oct 15\"]\n",
    "t_month = \"Sept\"\n",
    "x = 0\n",
    "for i in dates:\n",
    "    z = dates[x].split()\n",
    "    if len(z) == 2:\n",
    "        month = z[0]\n",
    "    if month == t_month:\n",
    "            x+=1\n",
    "\n",
    "print(x)"
   ]
  },
  {
   "cell_type": "code",
   "execution_count": null,
   "id": "1f03fbf8",
   "metadata": {},
   "outputs": [],
   "source": []
  },
  {
   "cell_type": "code",
   "execution_count": null,
   "id": "b82d0a74",
   "metadata": {},
   "outputs": [],
   "source": []
  },
  {
   "cell_type": "code",
   "execution_count": null,
   "id": "1bb46de3",
   "metadata": {},
   "outputs": [],
   "source": []
  },
  {
   "cell_type": "code",
   "execution_count": null,
   "id": "bf27ba6d",
   "metadata": {},
   "outputs": [],
   "source": []
  },
  {
   "cell_type": "code",
   "execution_count": null,
   "id": "2ab5ec74",
   "metadata": {},
   "outputs": [],
   "source": []
  }
 ],
 "metadata": {
  "kernelspec": {
   "display_name": "Python 3 (ipykernel)",
   "language": "python",
   "name": "python3"
  },
  "language_info": {
   "codemirror_mode": {
    "name": "ipython",
    "version": 3
   },
   "file_extension": ".py",
   "mimetype": "text/x-python",
   "name": "python",
   "nbconvert_exporter": "python",
   "pygments_lexer": "ipython3",
   "version": "3.11.4"
  }
 },
 "nbformat": 4,
 "nbformat_minor": 5
}
