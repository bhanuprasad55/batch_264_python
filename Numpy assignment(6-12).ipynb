{
 "cells": [
  {
   "cell_type": "code",
   "execution_count": 4,
   "id": "8152d919",
   "metadata": {},
   "outputs": [],
   "source": [
    "import numpy as np"
   ]
  },
  {
   "cell_type": "code",
   "execution_count": 5,
   "id": "783ece83",
   "metadata": {},
   "outputs": [],
   "source": [
    "file=r'C:\\Users\\gali bhanu prasad\\Downloads\\tipsf - tipsf.csv'"
   ]
  },
  {
   "cell_type": "code",
   "execution_count": 6,
   "id": "6bf72fcc",
   "metadata": {},
   "outputs": [],
   "source": [
    "values=np.genfromtxt(file,delimiter=',',skip_header=True)"
   ]
  },
  {
   "cell_type": "code",
   "execution_count": 7,
   "id": "d6778564",
   "metadata": {},
   "outputs": [
    {
     "data": {
      "text/plain": [
       "array([[  0.  ,  16.99,   1.01, ...,   1.  ,   0.  ,   2.  ],\n",
       "       [  1.  ,  10.34,   1.66, ...,   1.  ,   0.  ,   3.  ],\n",
       "       [  2.  ,  21.01,   3.5 , ...,   1.  ,   0.  ,   3.  ],\n",
       "       ...,\n",
       "       [241.  ,  22.67,   2.  , ...,   0.  ,   0.  ,   2.  ],\n",
       "       [242.  ,  17.82,   1.75, ...,   0.  ,   0.  ,   2.  ],\n",
       "       [243.  ,  18.78,   3.  , ...,   2.  ,   0.  ,   2.  ]])"
      ]
     },
     "execution_count": 7,
     "metadata": {},
     "output_type": "execute_result"
    }
   ],
   "source": [
    "values"
   ]
  },
  {
   "cell_type": "code",
   "execution_count": 8,
   "id": "526538c8",
   "metadata": {},
   "outputs": [
    {
     "data": {
      "text/plain": [
       "18.0"
      ]
     },
     "execution_count": 8,
     "metadata": {},
     "output_type": "execute_result"
    }
   ],
   "source": [
    "sum_values = np. sum(values[1]) ##row \n",
    "sum_values"
   ]
  },
  {
   "cell_type": "code",
   "execution_count": 9,
   "id": "0aca9680",
   "metadata": {},
   "outputs": [
    {
     "data": {
      "text/plain": [
       "4827.77"
      ]
     },
     "execution_count": 9,
     "metadata": {},
     "output_type": "execute_result"
    }
   ],
   "source": [
    "## Q1:\n",
    "sum_total_bill = np.sum(values[:,1]) ###column\n",
    "sum_total_bill"
   ]
  },
  {
   "cell_type": "code",
   "execution_count": 10,
   "id": "f86d09a5",
   "metadata": {},
   "outputs": [
    {
     "data": {
      "text/plain": [
       "731.5799999999999"
      ]
     },
     "execution_count": 10,
     "metadata": {},
     "output_type": "execute_result"
    }
   ],
   "source": [
    "## Q2:\n",
    "sum_tip = np.sum(values[:,2])\n",
    "sum_tip"
   ]
  },
  {
   "cell_type": "code",
   "execution_count": 11,
   "id": "b6b7fcdf",
   "metadata": {},
   "outputs": [
    {
     "data": {
      "text/plain": [
       "257.0"
      ]
     },
     "execution_count": 11,
     "metadata": {},
     "output_type": "execute_result"
    }
   ],
   "source": [
    "## Q3:\n",
    "sum_days = np.sum(values[:,5])\n",
    "sum_days"
   ]
  },
  {
   "cell_type": "code",
   "execution_count": 12,
   "id": "64aeba32",
   "metadata": {},
   "outputs": [],
   "source": [
    "fifth_column = values[:,5]\n",
    "unique_values, counts = np.unique(fifth_column, return_counts= True)"
   ]
  },
  {
   "cell_type": "code",
   "execution_count": 13,
   "id": "0249f8ad",
   "metadata": {},
   "outputs": [
    {
     "data": {
      "text/plain": [
       "(array([0., 1., 2., 3.]), array([87, 76, 62, 19], dtype=int64))"
      ]
     },
     "execution_count": 13,
     "metadata": {},
     "output_type": "execute_result"
    }
   ],
   "source": [
    "(unique_values, counts)"
   ]
  },
  {
   "cell_type": "code",
   "execution_count": 14,
   "id": "297d7907",
   "metadata": {},
   "outputs": [
    {
     "name": "stdout",
     "output_type": "stream",
     "text": [
      "0,87\n",
      "1,76\n",
      "2,62\n",
      "3,19\n"
     ]
    }
   ],
   "source": [
    "for x, y in zip(unique_values, counts):\n",
    "    print(f\"{int(x)},{y}\")"
   ]
  },
  {
   "cell_type": "code",
   "execution_count": 15,
   "id": "e54a103b",
   "metadata": {},
   "outputs": [
    {
     "data": {
      "text/plain": [
       "93.0"
      ]
     },
     "execution_count": 15,
     "metadata": {},
     "output_type": "execute_result"
    }
   ],
   "source": [
    "## Q4:\n",
    "smokers = np.sum(values[:,4])\n",
    "smokers"
   ]
  },
  {
   "cell_type": "code",
   "execution_count": 16,
   "id": "7e802291",
   "metadata": {},
   "outputs": [],
   "source": [
    "fourth_column = values[:,4]\n",
    "unique_values, counts = np.unique(fourth_column, return_counts= True)"
   ]
  },
  {
   "cell_type": "code",
   "execution_count": 17,
   "id": "23628707",
   "metadata": {},
   "outputs": [
    {
     "name": "stdout",
     "output_type": "stream",
     "text": [
      "0,151\n",
      "1,93\n"
     ]
    }
   ],
   "source": [
    "for x, y in zip(unique_values, counts):\n",
    "    print(f\"{int(x)},{y}\")"
   ]
  },
  {
   "cell_type": "code",
   "execution_count": 18,
   "id": "9707725c",
   "metadata": {},
   "outputs": [],
   "source": [
    "## Q5:\n",
    "third_column = values[:,3]\n",
    "unique_values, counts = np.unique(third_column, return_counts= True)"
   ]
  },
  {
   "cell_type": "code",
   "execution_count": 19,
   "id": "a5e7b924",
   "metadata": {},
   "outputs": [
    {
     "name": "stdout",
     "output_type": "stream",
     "text": [
      "0,87\n",
      "1,157\n"
     ]
    }
   ],
   "source": [
    "for x, y in zip(unique_values, counts):\n",
    "    print(f\"{int(x)},{y}\")"
   ]
  },
  {
   "cell_type": "code",
   "execution_count": 20,
   "id": "a7ba068a",
   "metadata": {},
   "outputs": [
    {
     "name": "stdout",
     "output_type": "stream",
     "text": [
      "avg tip females is :3.0896178343949043\n",
      "avg tip male is :2.8334482758620685\n"
     ]
    }
   ],
   "source": [
    "tip_column = values[:,2]\n",
    "gender_column = values[:,3]\n",
    "\n",
    "males = np.mean(tip_column[gender_column == 0])\n",
    "females = np.mean(tip_column[gender_column == 1])\n",
    "print(f'avg tip females is :{females}')\n",
    "print(f'avg tip male is :{males}')"
   ]
  },
  {
   "cell_type": "code",
   "execution_count": 23,
   "id": "1c179d1e",
   "metadata": {},
   "outputs": [
    {
     "name": "stdout",
     "output_type": "stream",
     "text": [
      "Total bill spent by males: 1570.9499999999996\n",
      "Total bill spent by females: 3256.8199999999997\n"
     ]
    }
   ],
   "source": [
    "##Q6:\n",
    "total_bill_column = values[:,1]\n",
    "gender_column = values[:, 3]\n",
    "\n",
    "total_bill_male = np.sum(total_bill_column[gender_column == 0])\n",
    "total_bill_female = np.sum(total_bill_column[gender_column == 1])\n",
    "\n",
    "print(f\"Total bill spent by males:\", total_bill_male)\n",
    "print(f\"Total bill spent by females:\", total_bill_female)"
   ]
  },
  {
   "cell_type": "code",
   "execution_count": 24,
   "id": "6151547b",
   "metadata": {},
   "outputs": [
    {
     "name": "stdout",
     "output_type": "stream",
     "text": [
      "The min tip given is : 1.0\n",
      "The max tip given is : 10.0\n"
     ]
    }
   ],
   "source": [
    "##Q7\n",
    "tip_column = values[:, 2]\n",
    "\n",
    "min_tip = np.min(tip_column)\n",
    "max_tip = np.max(tip_column)\n",
    "\n",
    "print(f\"The min tip given is : {min_tip}\")\n",
    "print(f\"The max tip given is : {max_tip}\")"
   ]
  },
  {
   "cell_type": "code",
   "execution_count": 25,
   "id": "575e554e",
   "metadata": {},
   "outputs": [
    {
     "name": "stdout",
     "output_type": "stream",
     "text": [
      "Number of males going for lunch: 35\n",
      "Number of females going for lunch: 33\n",
      "Number of males going for dinner: 52\n",
      "Number of females going for dinner: 124\n"
     ]
    }
   ],
   "source": [
    "##Q8:\n",
    "gender_column = values[:, 3]\n",
    "time_column = values[:, 6]\n",
    "\n",
    "male_lunch_count = np.sum((gender_column == 0) & (time_column == 1))\n",
    "female_lunch_count = np.sum((gender_column == 1) & (time_column == 1))\n",
    "\n",
    "male_dinner_count = np.sum((gender_column == 0) & (time_column == 0))\n",
    "female_dinner_count = np.sum((gender_column == 1) & (time_column == 0))\n",
    "\n",
    "print(\"Number of males going for lunch:\", male_lunch_count)\n",
    "print(\"Number of females going for lunch:\", female_lunch_count)\n",
    "print(\"Number of males going for dinner:\", male_dinner_count)\n",
    "print(\"Number of females going for dinner:\", female_dinner_count)\n"
   ]
  },
  {
   "cell_type": "code",
   "execution_count": 26,
   "id": "17ad805d",
   "metadata": {},
   "outputs": [
    {
     "name": "stdout",
     "output_type": "stream",
     "text": [
      "The Avg size is : 2.569672131147541\n"
     ]
    }
   ],
   "source": [
    "##Q9:\n",
    "size_column = values[:, 7]\n",
    "\n",
    "avg_size = np.mean(size_column)\n",
    "\n",
    "print(f\"The Avg size is : {avg_size}\")"
   ]
  },
  {
   "cell_type": "code",
   "execution_count": 27,
   "id": "4cddf215",
   "metadata": {},
   "outputs": [
    {
     "name": "stdout",
     "output_type": "stream",
     "text": [
      "Number of male smokers: 33\n",
      "Number of female smokers: 60\n"
     ]
    }
   ],
   "source": [
    "##Q10:\n",
    "gender_column = values[:, 3]\n",
    "smokers = values[:, 4]\n",
    "\n",
    "male_smokers_count = np.sum((gender_column == 0) & (smokers == 1))\n",
    "female_smokers_count = np.sum((gender_column == 1) & (smokers == 1))\n",
    "\n",
    "print(\"Number of male smokers:\", male_smokers_count)\n",
    "print(\"Number of female smokers:\", female_smokers_count)"
   ]
  },
  {
   "cell_type": "code",
   "execution_count": null,
   "id": "5511ac9c",
   "metadata": {},
   "outputs": [],
   "source": []
  }
 ],
 "metadata": {
  "kernelspec": {
   "display_name": "Python 3 (ipykernel)",
   "language": "python",
   "name": "python3"
  },
  "language_info": {
   "codemirror_mode": {
    "name": "ipython",
    "version": 3
   },
   "file_extension": ".py",
   "mimetype": "text/x-python",
   "name": "python",
   "nbconvert_exporter": "python",
   "pygments_lexer": "ipython3",
   "version": "3.11.4"
  }
 },
 "nbformat": 4,
 "nbformat_minor": 5
}
