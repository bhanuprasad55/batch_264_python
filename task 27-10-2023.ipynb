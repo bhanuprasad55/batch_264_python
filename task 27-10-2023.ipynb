{
 "cells": [
  {
   "cell_type": "markdown",
   "id": "1fe0cc4c",
   "metadata": {},
   "source": [
    "# List\n"
   ]
  },
  {
   "cell_type": "markdown",
   "id": "07c8427b",
   "metadata": {},
   "source": [
    "# Creating a List\n"
   ]
  },
  {
   "cell_type": "markdown",
   "id": "53b03f84",
   "metadata": {},
   "source": [
    "You can create a list by enclosing items in square brackets [ ].\n",
    "\n"
   ]
  },
  {
   "cell_type": "markdown",
   "id": "086492cb",
   "metadata": {},
   "source": [
    "# Accessing Elements:\n"
   ]
  },
  {
   "cell_type": "markdown",
   "id": "9fbf87c5",
   "metadata": {},
   "source": [
    "You can access elements in a list using indexing. Python uses zero-based indexing, so the first element is at index 0. Negative indexing is also possible, where -1 refers to the last element, -2 to the second-to-last, and so on.\n",
    "\n"
   ]
  },
  {
   "cell_type": "markdown",
   "id": "bfb16380",
   "metadata": {},
   "source": [
    "# Slicing:\n"
   ]
  },
  {
   "cell_type": "markdown",
   "id": "b787b92a",
   "metadata": {},
   "source": [
    "You can extract a portion of the list using slicing.\n",
    "\n"
   ]
  },
  {
   "cell_type": "markdown",
   "id": "28f430de",
   "metadata": {},
   "source": [
    "# Modifying Lists:\n"
   ]
  },
  {
   "cell_type": "markdown",
   "id": "a044b438",
   "metadata": {},
   "source": [
    "You can change the value of a specific element by assigning a new value.\n",
    "\n"
   ]
  },
  {
   "cell_type": "markdown",
   "id": "87c56ee0",
   "metadata": {},
   "source": [
    "# Adding and Removing Elements:\n"
   ]
  },
  {
   "cell_type": "markdown",
   "id": "76f7f0a2",
   "metadata": {},
   "source": [
    "* Appending: Add an element to the end of the list using append(). \n",
    "* Inserting: Insert an element at a specific position using insert(). \n",
    "* Removing: Remove an element by value using remove().\n",
    "* Popping: Remove and return an element by index using pop()."
   ]
  },
  {
   "cell_type": "markdown",
   "id": "9b1cf5c9",
   "metadata": {},
   "source": [
    "# List Length:\n",
    "You can find the length of a list using len().\n",
    "\n"
   ]
  },
  {
   "cell_type": "code",
   "execution_count": 1,
   "id": "105a30f0",
   "metadata": {},
   "outputs": [
    {
     "name": "stdout",
     "output_type": "stream",
     "text": [
      "[]\n",
      "<class 'list'>\n",
      "0\n",
      "2382908148224\n",
      "0x22ad064ca00\n"
     ]
    }
   ],
   "source": [
    "g = [ ]\n",
    "print(g, type(g), len(g), id(g), hex(id(g)), sep='\\n') #length of empty string is zero"
   ]
  },
  {
   "cell_type": "code",
   "execution_count": 5,
   "id": "6c5c6145",
   "metadata": {},
   "outputs": [
    {
     "name": "stdout",
     "output_type": "stream",
     "text": [
      "[]\n",
      "<class 'list'>\n",
      "0\n",
      "0x22ad05638c0\n"
     ]
    }
   ],
   "source": [
    "r = list()\n",
    "print(r, type(r), len(r), hex(id(r)), sep='\\n')"
   ]
  },
  {
   "cell_type": "code",
   "execution_count": 2,
   "id": "68b6b43e",
   "metadata": {},
   "outputs": [
    {
     "name": "stdout",
     "output_type": "stream",
     "text": [
      "[]\n",
      "<class 'list'>\n",
      "0\n",
      "0x22ad05c8180\n"
     ]
    }
   ],
   "source": [
    "l = list()\n",
    "print(l, type(l), len(l), hex(id(l)), sep = '\\n')\n"
   ]
  },
  {
   "cell_type": "code",
   "execution_count": 6,
   "id": "07eb47ce",
   "metadata": {},
   "outputs": [
    {
     "name": "stdout",
     "output_type": "stream",
     "text": [
      "['bhanu']\n",
      "<class 'list'>\n",
      "1\n",
      "0x22ad064cdc0\n"
     ]
    }
   ],
   "source": [
    "l = ['bhanu'] # if we use sqaure braces it will directly take the string\n",
    "print(l, type(l), len(l), hex(id(l)), sep = '\\n')\n"
   ]
  },
  {
   "cell_type": "code",
   "execution_count": 8,
   "id": "8194107e",
   "metadata": {},
   "outputs": [
    {
     "name": "stdout",
     "output_type": "stream",
     "text": [
      "['b', 'h', 'a', 'n', 'u']\n",
      "<class 'list'>\n",
      "5\n",
      "0x22ad0563300\n"
     ]
    }
   ],
   "source": [
    "l = list('bhanu') # it will take the string into the sub-strings if we use the list \"keyword\" and add to the new string.\n",
    "print(l, type(l), len(l), hex(id(l)), sep = '\\n')\n"
   ]
  },
  {
   "cell_type": "code",
   "execution_count": 10,
   "id": "41ce84a8",
   "metadata": {},
   "outputs": [
    {
     "data": {
      "text/plain": [
       "['bhanu',\n",
       " 7,\n",
       " 7.2,\n",
       " (5-3j),\n",
       " 'Seven',\n",
       " True,\n",
       " <function print(*args, sep=' ', end='\\n', file=None, flush=False)>,\n",
       " range]"
      ]
     },
     "execution_count": 10,
     "metadata": {},
     "output_type": "execute_result"
    }
   ],
   "source": [
    "b = ['bhanu', 7, 7.2, 5-3j, 'Seven', True, print, range]\n",
    "b\n"
   ]
  },
  {
   "cell_type": "markdown",
   "id": "00d841e6",
   "metadata": {},
   "source": [
    "# Indexing and Slicing in Lists\n"
   ]
  },
  {
   "cell_type": "code",
   "execution_count": 11,
   "id": "d3fb4436",
   "metadata": {},
   "outputs": [
    {
     "name": "stdout",
     "output_type": "stream",
     "text": [
      "ram Male\n",
      "['ram', 77, True, 4.0, 'Male']\n",
      "['Male', 4.0, True, 77, 'ram']\n",
      "['bhanu', 'vinnu', 'mahesh']\n",
      "<class 'list'>\n",
      "2382908152256\n",
      "['ram', 77, True, 4.0, 'Male']\n",
      "<class 'list'>\n",
      "2382908152512\n"
     ]
    }
   ],
   "source": [
    "#Example\n",
    "list1 = [\"bhanu\", \"vinnu\", \"mahesh\"] \n",
    "list2 = [\"ram\", 77, True, 4.0, \"Male\"]\n",
    "print(list2[0], list2[-1]) #indexing\n",
    "print(list2[::], list2[::-1], sep ='\\n') #slicing\n",
    "\n",
    "print(list1, type(list1), id(list1), sep ='\\n')\n",
    "print(list2, type(list2), id(list2), sep ='\\n')\n"
   ]
  },
  {
   "cell_type": "code",
   "execution_count": 20,
   "id": "bbadfe48",
   "metadata": {},
   "outputs": [
    {
     "data": {
      "text/plain": [
       "('b', 'bhanu', 'unahb')"
      ]
     },
     "execution_count": 20,
     "metadata": {},
     "output_type": "execute_result"
    }
   ],
   "source": [
    "y='bhanu'\n",
    "y[0],y[::],y[::-1]"
   ]
  },
  {
   "cell_type": "code",
   "execution_count": 15,
   "id": "e7e3606a",
   "metadata": {},
   "outputs": [
    {
     "data": {
      "text/plain": [
       "('m', 'mammu', 'ummam')"
      ]
     },
     "execution_count": 15,
     "metadata": {},
     "output_type": "execute_result"
    }
   ],
   "source": [
    "y='mammu'\n",
    "y[0],y[::],y[::-1]"
   ]
  },
  {
   "cell_type": "code",
   "execution_count": 23,
   "id": "473300f4",
   "metadata": {},
   "outputs": [
    {
     "data": {
      "text/plain": [
       "['r', 'a', 'm', 'y', 'a', ' ', 'm', 'a', 'm', 'm', 'u']"
      ]
     },
     "execution_count": 23,
     "metadata": {},
     "output_type": "execute_result"
    }
   ],
   "source": [
    "x ='ramya mammu'\n",
    "list(x) # takes each individually"
   ]
  },
  {
   "cell_type": "code",
   "execution_count": 24,
   "id": "fb8acc3a",
   "metadata": {},
   "outputs": [
    {
     "data": {
      "text/plain": [
       "['b', 'h', 'a', 'n', 'u', ' ', 'P', 'r', 'a', 's', 'a', 'd']"
      ]
     },
     "execution_count": 24,
     "metadata": {},
     "output_type": "execute_result"
    }
   ],
   "source": [
    "x = 'bhanu Prasad'\n",
    "list(x) # takes each individually\n"
   ]
  },
  {
   "cell_type": "code",
   "execution_count": 25,
   "id": "0203450e",
   "metadata": {},
   "outputs": [
    {
     "data": {
      "text/plain": [
       "{' ', 'P', 'a', 'b', 'd', 'h', 'n', 'r', 's', 'u'}"
      ]
     },
     "execution_count": 25,
     "metadata": {},
     "output_type": "execute_result"
    }
   ],
   "source": [
    "set(list(x)) #takes unique elements only\n"
   ]
  },
  {
   "cell_type": "code",
   "execution_count": 26,
   "id": "009269b5",
   "metadata": {},
   "outputs": [
    {
     "data": {
      "text/plain": [
       "10"
      ]
     },
     "execution_count": 26,
     "metadata": {},
     "output_type": "execute_result"
    }
   ],
   "source": [
    "len(set(list(x)))\n"
   ]
  },
  {
   "cell_type": "markdown",
   "id": "409685f8",
   "metadata": {},
   "source": [
    "# Nested list\n",
    "* A list within another list is referred to as a nested list in Python.\n",
    "* We can also say that a list that has other lists as its elements is a nested list.\n"
   ]
  },
  {
   "cell_type": "code",
   "execution_count": 27,
   "id": "3bc6b827",
   "metadata": {},
   "outputs": [
    {
     "name": "stdout",
     "output_type": "stream",
     "text": [
      "[11, 22, 33, [44, 55, 66]]\n",
      "<class 'list'>\n",
      "4\n",
      "0x22ad063d380\n"
     ]
    }
   ],
   "source": [
    "l=[11,22,33,[44,55,66]]\n",
    "\n",
    "print(l, type(l), len(l), hex(id(l)), sep ='\\n')\n"
   ]
  },
  {
   "cell_type": "code",
   "execution_count": 36,
   "id": "9f490f60",
   "metadata": {},
   "outputs": [
    {
     "data": {
      "text/plain": [
       "(list, [44, 55, 66], 44, [66, 55, 44], [66, 44], 66)"
      ]
     },
     "execution_count": 36,
     "metadata": {},
     "output_type": "execute_result"
    }
   ],
   "source": [
    "type(l[3]), l[3], l[3][0], l[3][::-1], l[3][::-2], l[3][2]\n"
   ]
  },
  {
   "cell_type": "markdown",
   "id": "1bffe10c",
   "metadata": {},
   "source": [
    "# Range\n"
   ]
  },
  {
   "cell_type": "code",
   "execution_count": 37,
   "id": "47b33522",
   "metadata": {},
   "outputs": [
    {
     "name": "stdout",
     "output_type": "stream",
     "text": [
      "range(5, 11)\n",
      "<class 'range'>\n",
      "6\n",
      "0x22ad0655770\n"
     ]
    }
   ],
   "source": [
    "r = range(5, 11)\n",
    "print(r, type(r), len(r), hex(id(r)), sep='\\n')\n"
   ]
  },
  {
   "cell_type": "code",
   "execution_count": 38,
   "id": "176c1f54",
   "metadata": {},
   "outputs": [
    {
     "data": {
      "text/plain": [
       "[5, 6, 7, 8, 9, 10]"
      ]
     },
     "execution_count": 38,
     "metadata": {},
     "output_type": "execute_result"
    }
   ],
   "source": [
    "list(r)\n"
   ]
  },
  {
   "cell_type": "code",
   "execution_count": 51,
   "id": "f885d780",
   "metadata": {},
   "outputs": [
    {
     "name": "stdout",
     "output_type": "stream",
     "text": [
      "[17, 12, 7]\n",
      "<class 'range'>\n",
      "3\n",
      "0x22ad0654ed0\n"
     ]
    }
   ],
   "source": [
    "r = range(17,2,-5)\n",
    "print(list(r), type(r), len(r), hex(id(r)), sep='\\n')\n",
    "# included numbers from 20 to 1 backwards , didnt include 0 , step was -1 so it is in decreasing order.\n"
   ]
  },
  {
   "cell_type": "code",
   "execution_count": 54,
   "id": "e4b5fc0d",
   "metadata": {},
   "outputs": [
    {
     "name": "stdout",
     "output_type": "stream",
     "text": [
      "[]\n",
      "<class 'range'>\n",
      "0\n",
      "0x22ad053aa30\n"
     ]
    }
   ],
   "source": [
    "r = range(22,-17,55)\n",
    "print(list(r), type(r), len(r), hex(id(r)), sep='\\n')"
   ]
  },
  {
   "cell_type": "code",
   "execution_count": 55,
   "id": "ee0ffd45",
   "metadata": {},
   "outputs": [
    {
     "name": "stdout",
     "output_type": "stream",
     "text": [
      "range(115, 55, -22)\n",
      "<class 'range'>\n",
      "3\n",
      "0x22ad0539fe0\n"
     ]
    }
   ],
   "source": [
    "r = range(115, 55, -22)\n",
    "print(r, type(r), len(r), hex(id(r)), sep = '\\n')\n"
   ]
  },
  {
   "cell_type": "code",
   "execution_count": 56,
   "id": "0714ba1b",
   "metadata": {},
   "outputs": [
    {
     "data": {
      "text/plain": [
       "[115, 93, 71]"
      ]
     },
     "execution_count": 56,
     "metadata": {},
     "output_type": "execute_result"
    }
   ],
   "source": [
    "list(r)\n"
   ]
  },
  {
   "cell_type": "code",
   "execution_count": 57,
   "id": "c02758b3",
   "metadata": {},
   "outputs": [
    {
     "data": {
      "text/plain": [
       "range(0, 5)"
      ]
     },
     "execution_count": 57,
     "metadata": {},
     "output_type": "execute_result"
    }
   ],
   "source": [
    "range(5) #if we mention only 1 number so range takes it as end point and starts it from 0.\n"
   ]
  },
  {
   "cell_type": "code",
   "execution_count": 58,
   "id": "1b60a556",
   "metadata": {},
   "outputs": [
    {
     "data": {
      "text/plain": [
       "([0, 1, 2, 3, 4, 5, 6, 7, 8, 9, 10], [0, 1, 2, 3, 4, 5, 6, 7, 8, 9, 10])"
      ]
     },
     "execution_count": 58,
     "metadata": {},
     "output_type": "execute_result"
    }
   ],
   "source": [
    "list(range(0,11,1)), list(range(0,11))\n"
   ]
  },
  {
   "cell_type": "code",
   "execution_count": 59,
   "id": "121ed21d",
   "metadata": {},
   "outputs": [
    {
     "data": {
      "text/plain": [
       "['__add__',\n",
       " '__class__',\n",
       " '__class_getitem__',\n",
       " '__contains__',\n",
       " '__delattr__',\n",
       " '__delitem__',\n",
       " '__dir__',\n",
       " '__doc__',\n",
       " '__eq__',\n",
       " '__format__',\n",
       " '__ge__',\n",
       " '__getattribute__',\n",
       " '__getitem__',\n",
       " '__getstate__',\n",
       " '__gt__',\n",
       " '__hash__',\n",
       " '__iadd__',\n",
       " '__imul__',\n",
       " '__init__',\n",
       " '__init_subclass__',\n",
       " '__iter__',\n",
       " '__le__',\n",
       " '__len__',\n",
       " '__lt__',\n",
       " '__mul__',\n",
       " '__ne__',\n",
       " '__new__',\n",
       " '__reduce__',\n",
       " '__reduce_ex__',\n",
       " '__repr__',\n",
       " '__reversed__',\n",
       " '__rmul__',\n",
       " '__setattr__',\n",
       " '__setitem__',\n",
       " '__sizeof__',\n",
       " '__str__',\n",
       " '__subclasshook__',\n",
       " 'append',\n",
       " 'clear',\n",
       " 'copy',\n",
       " 'count',\n",
       " 'extend',\n",
       " 'index',\n",
       " 'insert',\n",
       " 'pop',\n",
       " 'remove',\n",
       " 'reverse',\n",
       " 'sort']"
      ]
     },
     "execution_count": 59,
     "metadata": {},
     "output_type": "execute_result"
    }
   ],
   "source": [
    "dir(list)"
   ]
  },
  {
   "cell_type": "markdown",
   "id": "203d13bb",
   "metadata": {},
   "source": [
    "# append()\n",
    "\n",
    "* the append() method is used to add an element to the end of a list. \n",
    "* Lists are a built-in data type in Python that can hold multiple values.\n",
    "* The append() method is a list method that modifies the list in place by adding the specified element to the end of the list.\n"
   ]
  },
  {
   "cell_type": "markdown",
   "id": "70751b4e",
   "metadata": {},
   "source": [
    "Here's the basic syntax for the append() method:\n",
    "\n",
    "list_name.append(element) list_name: The name of the list to which you want to add an element. element: The value you want to add to the end of the list.\n",
    "\n"
   ]
  },
  {
   "cell_type": "markdown",
   "id": "729facef",
   "metadata": {},
   "source": [
    "Example:\n",
    "\n"
   ]
  },
  {
   "cell_type": "code",
   "execution_count": 61,
   "id": "237325d4",
   "metadata": {},
   "outputs": [
    {
     "name": "stdout",
     "output_type": "stream",
     "text": [
      "[1, 2, 3, 4]\n"
     ]
    }
   ],
   "source": [
    "my_list = [1, 2, 3]\n",
    "my_list.append(4)\n",
    "print(my_list)\n"
   ]
  },
  {
   "cell_type": "code",
   "execution_count": 62,
   "id": "5f1a24e2",
   "metadata": {},
   "outputs": [
    {
     "name": "stdout",
     "output_type": "stream",
     "text": [
      "[27, 45, 77, 95]\n"
     ]
    }
   ],
   "source": [
    "my_list = [27,45,77]\n",
    "my_list.append(95)\n",
    "print(my_list)"
   ]
  },
  {
   "cell_type": "code",
   "execution_count": 63,
   "id": "951c5790",
   "metadata": {},
   "outputs": [
    {
     "name": "stdout",
     "output_type": "stream",
     "text": [
      "[1, 2, 3, [4, 5]]\n"
     ]
    }
   ],
   "source": [
    "my_list = [1, 2, 3]\n",
    "my_list.append([4, 5])  # Appends the entire list as a single element\n",
    "print(my_list)\n"
   ]
  },
  {
   "cell_type": "code",
   "execution_count": 64,
   "id": "b885c51f",
   "metadata": {},
   "outputs": [
    {
     "name": "stdout",
     "output_type": "stream",
     "text": [
      "[[27, 34, 67, [72, 89]]]\n"
     ]
    }
   ],
   "source": [
    "my_list = [27,34,67]\n",
    "my_list.append([72, 89])\n",
    "print([my_list])"
   ]
  },
  {
   "cell_type": "markdown",
   "id": "c64945a0",
   "metadata": {},
   "source": [
    "# Extend()\n"
   ]
  },
  {
   "cell_type": "code",
   "execution_count": 65,
   "id": "0c48956b",
   "metadata": {},
   "outputs": [
    {
     "name": "stdout",
     "output_type": "stream",
     "text": [
      "[1, 2, 3, 4, 5]\n"
     ]
    }
   ],
   "source": [
    "my_list = [1, 2, 3]\n",
    "my_list.extend([4, 5])  # Extends the list with individual elements\n",
    "print(my_list)"
   ]
  },
  {
   "cell_type": "markdown",
   "id": "331ac339",
   "metadata": {},
   "source": [
    "# Insert()\n",
    "It allows you to insert an element at a specific index in a list.\n"
   ]
  },
  {
   "cell_type": "code",
   "execution_count": 71,
   "id": "61ec5d05",
   "metadata": {},
   "outputs": [
    {
     "name": "stdout",
     "output_type": "stream",
     "text": [
      "[1, 2, 6, 3, 4, 5]\n"
     ]
    }
   ],
   "source": [
    "my_list = [1, 2, 3, 4, 5]\n",
    "my_list.insert(2, 6)  # Inserts 6 at index 2\n",
    "print(my_list)\n"
   ]
  },
  {
   "cell_type": "markdown",
   "id": "dfb2830a",
   "metadata": {},
   "source": [
    "# Count()\n"
   ]
  },
  {
   "cell_type": "code",
   "execution_count": 72,
   "id": "f4493f53",
   "metadata": {},
   "outputs": [
    {
     "data": {
      "text/plain": [
       "3"
      ]
     },
     "execution_count": 72,
     "metadata": {},
     "output_type": "execute_result"
    }
   ],
   "source": [
    "[1,2,3,4,1,2,3,5,6,1,2,7,5].count(2)\n"
   ]
  },
  {
   "cell_type": "markdown",
   "id": "be97977f",
   "metadata": {},
   "source": [
    "# Remove()\n",
    "* Removes given element's first occurance from left to right.\n",
    "\n",
    "* syntax: list.remove('a')\n",
    "\n"
   ]
  },
  {
   "cell_type": "code",
   "execution_count": 73,
   "id": "d5474c2b",
   "metadata": {},
   "outputs": [
    {
     "data": {
      "text/plain": [
       "['m', 'a', 'l', 'a', 'y', 'a', 'l', 'a', 'm']"
      ]
     },
     "execution_count": 73,
     "metadata": {},
     "output_type": "execute_result"
    }
   ],
   "source": [
    "x  = list('malayalam')\n",
    "x\n"
   ]
  },
  {
   "cell_type": "code",
   "execution_count": 74,
   "id": "d85122f8",
   "metadata": {},
   "outputs": [
    {
     "data": {
      "text/plain": [
       "['m', 'l', 'a', 'y', 'a', 'l', 'a', 'm']"
      ]
     },
     "execution_count": 74,
     "metadata": {},
     "output_type": "execute_result"
    }
   ],
   "source": [
    "x.remove('a')\n",
    "x\n"
   ]
  },
  {
   "cell_type": "code",
   "execution_count": 76,
   "id": "b12d610d",
   "metadata": {},
   "outputs": [
    {
     "data": {
      "text/plain": [
       "['m', 'a', 'y', 'a', 'l', 'a', 'm']"
      ]
     },
     "execution_count": 76,
     "metadata": {},
     "output_type": "execute_result"
    }
   ],
   "source": [
    "x.remove('l')\n",
    "x"
   ]
  },
  {
   "cell_type": "code",
   "execution_count": 77,
   "id": "f53aa544",
   "metadata": {},
   "outputs": [
    {
     "data": {
      "text/plain": [
       "['a', 'y', 'a', 'l', 'a', 'm']"
      ]
     },
     "execution_count": 77,
     "metadata": {},
     "output_type": "execute_result"
    }
   ],
   "source": [
    "x.remove('m')\n",
    "x"
   ]
  },
  {
   "cell_type": "markdown",
   "id": "6f06eb3e",
   "metadata": {},
   "source": [
    "# Pop()\n",
    "* pop gives back the last value from the list by default and removes that value from the list if you print it after that.\n",
    "* If you mention the index number so it will give it back and remove kit from the list.\n"
   ]
  },
  {
   "cell_type": "code",
   "execution_count": 78,
   "id": "d83b2e77",
   "metadata": {},
   "outputs": [
    {
     "data": {
      "text/plain": [
       "5"
      ]
     },
     "execution_count": 78,
     "metadata": {},
     "output_type": "execute_result"
    }
   ],
   "source": [
    "l = [0,1,2,3,4,5] # 5 will be taken out and return to user.\n",
    "l.pop()\n"
   ]
  },
  {
   "cell_type": "code",
   "execution_count": 79,
   "id": "2ee6e4f0",
   "metadata": {},
   "outputs": [
    {
     "data": {
      "text/plain": [
       "12"
      ]
     },
     "execution_count": 79,
     "metadata": {},
     "output_type": "execute_result"
    }
   ],
   "source": [
    "l = [0,2,3,7,9,12]\n",
    "l.pop()"
   ]
  },
  {
   "cell_type": "code",
   "execution_count": 80,
   "id": "6e55af1d",
   "metadata": {},
   "outputs": [
    {
     "data": {
      "text/plain": [
       "(9, [0, 2, 3, 7])"
      ]
     },
     "execution_count": 80,
     "metadata": {},
     "output_type": "execute_result"
    }
   ],
   "source": [
    "a = l.pop()\n",
    "a,l\n"
   ]
  },
  {
   "cell_type": "code",
   "execution_count": 81,
   "id": "32d836f2",
   "metadata": {},
   "outputs": [
    {
     "data": {
      "text/plain": [
       "(7, [0, 2, 3])"
      ]
     },
     "execution_count": 81,
     "metadata": {},
     "output_type": "execute_result"
    }
   ],
   "source": [
    "a = l.pop()\n",
    "a,l"
   ]
  },
  {
   "cell_type": "code",
   "execution_count": 82,
   "id": "a499b27c",
   "metadata": {},
   "outputs": [
    {
     "data": {
      "text/plain": [
       "2"
      ]
     },
     "execution_count": 82,
     "metadata": {},
     "output_type": "execute_result"
    }
   ],
   "source": [
    "l.pop(1)"
   ]
  },
  {
   "cell_type": "code",
   "execution_count": null,
   "id": "04d3f1b8",
   "metadata": {},
   "outputs": [],
   "source": []
  },
  {
   "cell_type": "code",
   "execution_count": null,
   "id": "40a6da54",
   "metadata": {},
   "outputs": [],
   "source": []
  },
  {
   "cell_type": "code",
   "execution_count": null,
   "id": "55ce5d03",
   "metadata": {},
   "outputs": [],
   "source": []
  }
 ],
 "metadata": {
  "kernelspec": {
   "display_name": "Python 3 (ipykernel)",
   "language": "python",
   "name": "python3"
  },
  "language_info": {
   "codemirror_mode": {
    "name": "ipython",
    "version": 3
   },
   "file_extension": ".py",
   "mimetype": "text/x-python",
   "name": "python",
   "nbconvert_exporter": "python",
   "pygments_lexer": "ipython3",
   "version": "3.11.4"
  }
 },
 "nbformat": 4,
 "nbformat_minor": 5
}
