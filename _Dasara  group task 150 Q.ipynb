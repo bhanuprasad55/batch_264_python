{
 "cells": [
  {
   "cell_type": "markdown",
   "id": "a5170bef",
   "metadata": {},
   "source": [
    "# easy questions"
   ]
  },
  {
   "cell_type": "markdown",
   "id": "a9e32bcb",
   "metadata": {},
   "source": [
    "# 18. Create a function that returns the mean of all digits."
   ]
  },
  {
   "cell_type": "code",
   "execution_count": 3,
   "id": "a36f7777",
   "metadata": {},
   "outputs": [
    {
     "name": "stdout",
     "output_type": "stream",
     "text": [
      "5\n"
     ]
    }
   ],
   "source": [
    "a=[5,4,7,6]\n",
    "x=0\n",
    "sum=0\n",
    "while x<len(a):\n",
    "    sum=sum+a[x]\n",
    "    x+=1\n",
    "print(sum//len(a))"
   ]
  },
  {
   "cell_type": "code",
   "execution_count": 4,
   "id": "ce454929",
   "metadata": {},
   "outputs": [
    {
     "name": "stdout",
     "output_type": "stream",
     "text": [
      "5\n"
     ]
    }
   ],
   "source": [
    "a=[5,4,7,6]\n",
    "sum=0\n",
    "for x in a:\n",
    "    sum=sum+x\n",
    "print(sum//len(a))"
   ]
  },
  {
   "cell_type": "markdown",
   "id": "4ec8c55e",
   "metadata": {},
   "source": [
    "# 19. You're in the midst of creating a typing game.\n",
    "\n",
    "Create a function that takes in two lists: the list of user-typed words, and the list of correctly-typed words and outputs a list containing 1s (correctly-typed words) and -1s (incorrectly-typed words)."
   ]
  },
  {
   "cell_type": "code",
   "execution_count": 7,
   "id": "f52f190b",
   "metadata": {},
   "outputs": [
    {
     "name": "stdout",
     "output_type": "stream",
     "text": [
      "[-1, 1, 1, -1, 1]\n"
     ]
    }
   ],
   "source": [
    "l1 = [\"car\", \"bike\", \"cycle\", \"vitara\", \"maruti\"]\n",
    "l2 = [\"cer\", \"bike\", \"cycle\", \"vetara\", \"maruti\"]\n",
    "z = []\n",
    "x = 0\n",
    "while x < len(l1):\n",
    "    if l1[x]==l2[x]:\n",
    "        z.append(1)\n",
    "    else:\n",
    "        z.append(-1)\n",
    "    x+=1\n",
    "print(z)"
   ]
  },
  {
   "cell_type": "code",
   "execution_count": 9,
   "id": "b89325ac",
   "metadata": {},
   "outputs": [
    {
     "name": "stdout",
     "output_type": "stream",
     "text": [
      "[1, 1, 1, -1, -1]\n"
     ]
    }
   ],
   "source": [
    "a1 = [\"car\", \"bike\", \"motorcycle\", \"vitara\", \"maruti\"]\n",
    "a2 = [\"car\", \"bike\", \"motorcycle\", \"umbrella\", \"paddy\"]\n",
    "z = []\n",
    "x = 0\n",
    "for x in range(0,5):\n",
    "    if a1[x]==a2[x]:\n",
    "        z.append(1)\n",
    "    else:\n",
    "        z.append(-1)\n",
    "    x+=1\n",
    "print(z)"
   ]
  },
  {
   "cell_type": "markdown",
   "id": "b0296c24",
   "metadata": {},
   "source": [
    "# 20. Create a function which returns a list of booleans, from a given number. Iterating through the number one digit at a time, append True if the digit is 1 and False if it is 0."
   ]
  },
  {
   "cell_type": "code",
   "execution_count": 10,
   "id": "697bb413",
   "metadata": {},
   "outputs": [
    {
     "name": "stdout",
     "output_type": "stream",
     "text": [
      "Enter a value either 0 or 1:10010\n",
      "['True', 'False', 'False', 'True', 'False']\n"
     ]
    }
   ],
   "source": [
    "n=int(input(\"Enter a value either 0 or 1:\"))\n",
    "list=[]\n",
    "while n>0:\n",
    "    m=n%10\n",
    "    if m==1:\n",
    "        list.append(\"True\")\n",
    "    else:\n",
    "        list.append(\"False\")\n",
    "    n=n//10\n",
    "list.reverse()\n",
    "print(list)"
   ]
  },
  {
   "cell_type": "code",
   "execution_count": 12,
   "id": "9e63f9a4",
   "metadata": {},
   "outputs": [
    {
     "name": "stdout",
     "output_type": "stream",
     "text": [
      "Enter how many inputs you want to give :1\n",
      "Enter (0) or (1) :0\n",
      "['False']\n"
     ]
    }
   ],
   "source": [
    "n=int(input(\"Enter how many inputs you want to give :\")) \n",
    "list=[]\n",
    "for i in range(n):\n",
    "    bin=int(input(\"Enter (0) or (1) :\"))\n",
    "    m=bin%10\n",
    "    if m==1:\n",
    "        list.append(\"True\")\n",
    "    else:\n",
    "        list.append(\"False\")\n",
    "    n=n//10\n",
    "print(list)"
   ]
  },
  {
   "cell_type": "markdown",
   "id": "eda76d7b",
   "metadata": {},
   "source": [
    "# 21. Create a function that returns True if the first list is a subset of the second. Return False otherwise."
   ]
  },
  {
   "cell_type": "code",
   "execution_count": 3,
   "id": "aa81eb54",
   "metadata": {},
   "outputs": [
    {
     "name": "stdout",
     "output_type": "stream",
     "text": [
      "Enter number of values you want to enter in aset : 4\n",
      "Enter elements : 1\n",
      "Enter elements : 2\n",
      "Enter elements : 3\n",
      "Enter elements : 4\n",
      "{1, 2, 3, 4}\n",
      "Enter number of values you want to enter in aset : 5\n",
      "Enter elements : 5\n",
      "Enter elements : 6\n",
      "Enter elements : 7\n",
      "Enter elements : 8\n",
      "Enter elements : 9\n",
      "{5, 6, 7, 8, 9}\n",
      "False\n"
     ]
    }
   ],
   "source": [
    "num1 = int(input(\"Enter number of values you want to enter in aset : \"))\n",
    "aset=set()\n",
    "bset=set()\n",
    "i=0\n",
    "while (i<num1):\n",
    "    element1=int(input(\"Enter elements : \"))\n",
    "    aset.add(element1)\n",
    "    i+=1\n",
    "print(aset)\n",
    "num2 = int(input(\"Enter number of values you want to enter in aset : \"))\n",
    "j=0\n",
    "while (j<num2):\n",
    "    element2=int(input(\"Enter elements : \"))\n",
    "    bset.add(element2)\n",
    "    j+=1\n",
    "print(bset)\n",
    "if bset.issubset(aset):\n",
    "    print(\"True\")\n",
    "else:\n",
    "    print(\"False\")"
   ]
  },
  {
   "cell_type": "code",
   "execution_count": 2,
   "id": "a69aba31",
   "metadata": {},
   "outputs": [
    {
     "name": "stdout",
     "output_type": "stream",
     "text": [
      "Enter number of values you want to enter in aset : 2\n",
      "Enter elements : 1\n",
      "Enter elements : 2\n",
      "Enter number of values you want to enter in bset : 3\n",
      "Enter elements : 4\n",
      "Enter elements : 5\n",
      "Enter elements : 6\n",
      "False\n",
      "[1, 2]\n",
      "[4, 5, 6]\n"
     ]
    }
   ],
   "source": [
    "num1 = int(input(\"Enter number of values you want to enter in aset : \"))\n",
    "aset=set()\n",
    "bset=set()\n",
    "for i in range(num1):\n",
    "    element1=int(input(\"Enter elements : \"))\n",
    "    aset.add(element1)\n",
    "num2 = int(input(\"Enter number of values you want to enter in bset : \"))\n",
    "for j in range(num2):\n",
    "    element2=int(input(\"Enter elements : \"))\n",
    "    bset.add(element2)\n",
    "if bset.issubset(aset):\n",
    "    print(\"True\")\n",
    "else:\n",
    "    print(\"False\")\n",
    "print(list(aset))\n",
    "print(list(bset))"
   ]
  },
  {
   "cell_type": "markdown",
   "id": "7b4fcf92",
   "metadata": {},
   "source": [
    "# 22. Given a list of scrabble tiles (as dictionaries), create a function that outputs the maximum possible score a player can achieve by summing up the total number of points for all the tiles in their hand. Each hand contains 7 scrabble tiles."
   ]
  },
  {
   "cell_type": "code",
   "execution_count": 3,
   "id": "c27ea534",
   "metadata": {},
   "outputs": [
    {
     "name": "stdout",
     "output_type": "stream",
     "text": [
      "Enter a tile (or 'exit' to finish): h\n",
      "Enter the score for tile h: 5\n",
      "Enter a tile (or 'exit' to finish): u\n",
      "Enter the score for tile u: 6\n",
      "Enter a tile (or 'exit' to finish): exit\n",
      "11\n"
     ]
    }
   ],
   "source": [
    "tile_hand = []\n",
    "while True:\n",
    "    tile = input(\"Enter a tile (or 'exit' to finish): \")\n",
    "    \n",
    "    if tile == 'exit':\n",
    "        break                   \n",
    "    \n",
    "    score = int(input(f\"Enter the score for tile {tile}: \"))\n",
    "    tile_hand.append({'tile': tile, 'score': score})\n",
    "\n",
    "max_score = 0\n",
    "index = 0\n",
    "\n",
    "while index < len(tile_hand):\n",
    "    max_score += tile_hand[index]['score']\n",
    "    index += 1\n",
    "\n",
    "print(max_score)"
   ]
  },
  {
   "cell_type": "code",
   "execution_count": 4,
   "id": "309add1d",
   "metadata": {},
   "outputs": [
    {
     "ename": "SyntaxError",
     "evalue": "invalid syntax (1765088456.py, line 9)",
     "output_type": "error",
     "traceback": [
      "\u001b[1;36m  Cell \u001b[1;32mIn[4], line 9\u001b[1;36m\u001b[0m\n\u001b[1;33m    max_score = 0     maximum score and set it to 0.\u001b[0m\n\u001b[1;37m                      ^\u001b[0m\n\u001b[1;31mSyntaxError\u001b[0m\u001b[1;31m:\u001b[0m invalid syntax\n"
     ]
    }
   ],
   "source": [
    "tile_hand = []\n",
    "limit = 3             \n",
    "\n",
    "for _ in range(limit):                  \n",
    "    tile = input(\"Enter a tile: \")      \n",
    "    score = int(input(f\"Enter the score for tile {tile}: \"))  \n",
    "    tile_hand.append({'tile': tile, 'score': score})      \n",
    "\n",
    "max_score = 0     maximum score and set it to 0.\n",
    "\n",
    "for tile in tile_hand:                     \n",
    "    max_score += tile['score']                   \n",
    "\n",
    "print(f\"The maximum score of the tiles is: {max_score}\")"
   ]
  },
  {
   "cell_type": "code",
   "execution_count": null,
   "id": "ffd74d0f",
   "metadata": {},
   "outputs": [],
   "source": []
  },
  {
   "cell_type": "markdown",
   "id": "baa08969",
   "metadata": {},
   "source": [
    "# 23. Create a function that takes an integer and returns a list from 1 to the given number, where:\n",
    "\n",
    "If the number can be divided evenly by 4, amplify it by 10 (i.e. return 10 times the number).\n",
    "If the number cannot be divided evenly by 4, simply return the number."
   ]
  },
  {
   "cell_type": "code",
   "execution_count": 113,
   "id": "3435e573",
   "metadata": {},
   "outputs": [
    {
     "name": "stdout",
     "output_type": "stream",
     "text": [
      "[1, 2, 3, 40, 5, 6, 7, 80, 9, 10]\n"
     ]
    }
   ],
   "source": [
    "n = 10\n",
    "x = []\n",
    "\n",
    "for i in range(1,n+1):\n",
    "    if i%4==0:\n",
    "        x.append(i*10)\n",
    "    else:\n",
    "        x.append(i)\n",
    "    i+=1\n",
    "print(x)\n",
    "        \n",
    "        "
   ]
  },
  {
   "cell_type": "code",
   "execution_count": 105,
   "id": "b46c25de",
   "metadata": {},
   "outputs": [
    {
     "name": "stdout",
     "output_type": "stream",
     "text": [
      "[1, 2, 3, 40, 5, 6, 7, 80, 9, 10]\n"
     ]
    }
   ],
   "source": [
    "n = 10\n",
    "x = []\n",
    "i =1\n",
    "while i<=n:\n",
    "    if i % 4==0:\n",
    "        x.append(i*10)\n",
    "    else:\n",
    "        x.append(i)\n",
    "    i+=1\n",
    "print(x)\n",
    "        \n",
    "        "
   ]
  },
  {
   "cell_type": "markdown",
   "id": "dfe28d55",
   "metadata": {},
   "source": [
    "# 24. Return the smallest number of steps it takes to convert a string entirely into uppercase or entirely into lower case, whichever takes the fewest number of steps. A step consists of changing one character from lower to upper case, or vice versa."
   ]
  },
  {
   "cell_type": "code",
   "execution_count": 5,
   "id": "3987dd24",
   "metadata": {},
   "outputs": [
    {
     "name": "stdout",
     "output_type": "stream",
     "text": [
      "Enter combination of upper&lower case string : bhanu\n",
      "0\n"
     ]
    }
   ],
   "source": [
    "string1=input(\"Enter combination of upper&lower case string : \") #aABC\n",
    "lowercase=0\n",
    "uppercase=0\n",
    "for i in string1:\n",
    "    if i.islower():\n",
    "        lowercase+=1\n",
    "    else:\n",
    "        uppercase+=1\n",
    "if lowercase<=uppercase:\n",
    "    print(lowercase)\n",
    "else:\n",
    "    print(uppercase)"
   ]
  },
  {
   "cell_type": "code",
   "execution_count": 7,
   "id": "908fc379",
   "metadata": {},
   "outputs": [
    {
     "name": "stdout",
     "output_type": "stream",
     "text": [
      "Enter combination of upper&lower case string : BHANU\n",
      "0\n"
     ]
    }
   ],
   "source": [
    "string1=input(\"Enter combination of upper&lower case string : \") #aABC\n",
    "lowercase=0\n",
    "uppercase=0\n",
    "while i< string1:\n",
    "    if i.islower():\n",
    "        lowercase+=1\n",
    "    else:\n",
    "        uppercase+=1\n",
    "if lowercase<=uppercase:\n",
    "    print(lowercase)\n",
    "else:\n",
    "    print(uppercase)"
   ]
  },
  {
   "cell_type": "markdown",
   "id": "f24ebedb",
   "metadata": {},
   "source": [
    "# 25. Imagine a messaging device with only one button. For the letter A, you press the button one time, for E, you press it five times, for G, it's pressed seven times, etc, etc.\n",
    " Write a function that takes a string (the message) and returns the total number of times the button is pressed.\n",
    "\n"
   ]
  },
  {
   "cell_type": "code",
   "execution_count": 1,
   "id": "4693bd17",
   "metadata": {},
   "outputs": [
    {
     "name": "stdout",
     "output_type": "stream",
     "text": [
      "13\n"
     ]
    }
   ],
   "source": [
    "button = {'a': 1, 't': 5, 'f': 7}\n",
    "x = 0\n",
    "for i in button:\n",
    "    x+=button[i]\n",
    "print(x)"
   ]
  },
  {
   "cell_type": "markdown",
   "id": "1e4dc5d4",
   "metadata": {},
   "source": [
    "# 26) Imagine a messaging device with only one button. For the letter A, you press the button one time, for E, you press it five times, for G, it's pressed seven times, etc, etc.\n",
    "\n",
    "* write a function that takes a string (the message) and returns the total number of times the button is pressed."
   ]
  },
  {
   "cell_type": "code",
   "execution_count": 5,
   "id": "38647b47",
   "metadata": {},
   "outputs": [
    {
     "name": "stdout",
     "output_type": "stream",
     "text": [
      "Enter the message: jhbwstq\n",
      "Total button presses: 99\n"
     ]
    }
   ],
   "source": [
    "message = input(\"Enter the message: \")\n",
    "\n",
    "letters = 'abcdefghijklmnopqrstuvwxyz'             # Define the alphabet\n",
    "\n",
    "total = 0                                                   # Initialize the total button presses counter\n",
    "\n",
    "i = 0                                                # Create an index variable for the while loop\n",
    "\n",
    "while i < len(message):                      #  Iterate through the characters in the message\n",
    "    char = message[i]     \n",
    "    index = letters.find(char)\n",
    "    if index >= 0:\n",
    "        total += index + 1\n",
    "    i += 1\n",
    "\n",
    "\n",
    "print(f\"Total button presses: {total}\")    "
   ]
  },
  {
   "cell_type": "code",
   "execution_count": 6,
   "id": "107c7682",
   "metadata": {},
   "outputs": [
    {
     "name": "stdout",
     "output_type": "stream",
     "text": [
      "Enter the message: bhanu\n",
      "Total button presses: 46\n"
     ]
    }
   ],
   "source": [
    "message = input(\"Enter the message: \")\n",
    "\n",
    "letters = 'abcdefghijklmnopqrstuvwxyz'         # Define the alphabet\n",
    "\n",
    "total = 0                       # Initialize the total button presses counter\n",
    "\n",
    "\n",
    "for char in message:                        # Iterate through the characters in the message using a for loop\n",
    "    index = letters.find(char)\n",
    "    if index >= 0:\n",
    "        total += index + 1\n",
    "\n",
    "\n",
    "print(f\"Total button presses: {total}\")     "
   ]
  },
  {
   "cell_type": "code",
   "execution_count": null,
   "id": "76481d2e",
   "metadata": {},
   "outputs": [],
   "source": []
  },
  {
   "cell_type": "markdown",
   "id": "21659fdc",
   "metadata": {},
   "source": [
    "# 27. using while You are given a list of dates in the format Dec 11 and a month in the format Dec as arguments. Each date represents a video that was uploaded on that day. Return the number of uploads for a given month.\n",
    "Examples upload_count([\"Sept 22\", \"Sept 21\", \"Oct 15\"], \"Sept\") ➞ 2"
   ]
  },
  {
   "cell_type": "code",
   "execution_count": 2,
   "id": "e7e68e79",
   "metadata": {},
   "outputs": [
    {
     "name": "stdout",
     "output_type": "stream",
     "text": [
      "2\n"
     ]
    }
   ],
   "source": [
    "dates = [\"Sept 22\", \"Sept 21\", \"Oct 15\"]\n",
    "t_month = \"Sept\"\n",
    "x = 0\n",
    "i = 0\n",
    "while i<len(dates):\n",
    "    z = dates[i].split()\n",
    "    if len(z) == 2:\n",
    "        month = z[0]\n",
    "        if month == t_month:\n",
    "            x+=1\n",
    "    i+=1\n",
    "\n",
    "print(x)"
   ]
  },
  {
   "cell_type": "code",
   "execution_count": 3,
   "id": "bce664fe",
   "metadata": {},
   "outputs": [
    {
     "name": "stdout",
     "output_type": "stream",
     "text": [
      "2\n"
     ]
    }
   ],
   "source": [
    "dates = [\"Sept 22\", \"Sept 21\", \"Oct 15\"]\n",
    "t_month = \"Sept\"\n",
    "x = 0\n",
    "for i in dates:\n",
    "    z = dates[x].split()\n",
    "    if len(z) == 2:\n",
    "        month = z[0]\n",
    "    if month == t_month:\n",
    "            x+=1\n",
    "\n",
    "print(x)"
   ]
  },
  {
   "cell_type": "markdown",
   "id": "0ad5bb28",
   "metadata": {},
   "source": [
    "# 29.Create a function that returns the sum of all even elements in a 2D matrix."
   ]
  },
  {
   "cell_type": "code",
   "execution_count": 7,
   "id": "bf27ba6d",
   "metadata": {},
   "outputs": [
    {
     "name": "stdout",
     "output_type": "stream",
     "text": [
      "Enter the number of rows: 2\n",
      "Enter the number of columns: 2\n",
      "Enter the element at row 1, column 1: 0\n",
      "Enter the element at row 1, column 2: 1\n",
      "Enter the element at row 2, column 1: 4\n",
      "Enter the element at row 2, column 2: 0\n",
      "The sum of even elements in the matrix is: 4\n"
     ]
    }
   ],
   "source": [
    "rows = int(input(\"Enter the number of rows: \"))   \n",
    "cols = int(input(\"Enter the number of columns: \"))\n",
    "\n",
    "matrix = []        \n",
    "row = 0\n",
    "\n",
    "while row < rows:       \n",
    "    col = 0\n",
    "    matrix_row = []\n",
    "    while col < cols:\n",
    "        element = int(input(f\"Enter the element at row {row + 1}, column {col + 1}: \"))\n",
    "        matrix_row.append(element)\n",
    "        col += 1\n",
    "    matrix.append(matrix_row)\n",
    "    row += 1\n",
    "\n",
    "even_sum = 0                \n",
    "\n",
    "row = 0\n",
    "while row < rows:       \n",
    "    col = 0\n",
    "    while col < cols:\n",
    "        if matrix[row][col] % 2 == 0:\n",
    "            even_sum += matrix[row][col]\n",
    "        col += 1\n",
    "    row += 1\n",
    "\n",
    "\n",
    "print(f\"The sum of even elements in the matrix is: {even_sum}\")"
   ]
  },
  {
   "cell_type": "code",
   "execution_count": 9,
   "id": "50e77916",
   "metadata": {},
   "outputs": [
    {
     "name": "stdout",
     "output_type": "stream",
     "text": [
      "Enter the number of rows: 2\n",
      "Enter the number of columns: 2\n",
      "Enter the element at row 1, column 1: 2\n",
      "Enter the element at row 1, column 2: 2\n",
      "Enter the element at row 2, column 1: 1\n",
      "Enter the element at row 2, column 2: 1\n",
      "The sum of even elements in the matrix is: 4\n"
     ]
    }
   ],
   "source": [
    "rows = int(input(\"Enter the number of rows: \"))    \n",
    "cols = int(input(\"Enter the number of columns: \"))\n",
    "\n",
    "matrix = []\n",
    "for row in range(rows):  \n",
    "    matrix_row = []\n",
    "    for col in range(cols):\n",
    "        element = int(input(f\"Enter the element at row {row + 1}, column {col + 1}: \"))\n",
    "        matrix_row.append(element)\n",
    "    matrix.append(matrix_row)\n",
    "\n",
    "even_sum = 0         \n",
    "\n",
    "for row in range(rows):   \n",
    "    for col in range(cols):\n",
    "        if matrix[row][col] % 2 == 0:\n",
    "            even_sum += matrix[row][col]\n",
    "\n",
    "\n",
    "print(f\"The sum of even elements in the matrix is: {even_sum}\")"
   ]
  },
  {
   "cell_type": "markdown",
   "id": "6246d26c",
   "metadata": {},
   "source": [
    "# 30) A factor chain is a list where each previous element is a factor of the next consecutive element. The following is a factor chain:¶"
   ]
  },
  {
   "cell_type": "code",
   "execution_count": 10,
   "id": "466c1e7b",
   "metadata": {},
   "outputs": [
    {
     "name": "stdout",
     "output_type": "stream",
     "text": [
      "Enter a list of numbers separated by spaces: 3 5 6 7 8\n",
      "False\n"
     ]
    }
   ],
   "source": [
    "numbers = input(\"Enter a list of numbers separated by spaces: \").split()\n",
    "\n",
    "\n",
    "numbers = [int(num) for num in numbers] \n",
    "\n",
    "is_factor_chain = True           \n",
    "\n",
    "i = 1          \n",
    "\n",
    "while i < len(numbers):\n",
    "    if numbers[i] % numbers[i - 1] != 0:          \n",
    "        is_factor_chain = False\n",
    "        break\n",
    "    i += 1\n",
    "\n",
    "if is_factor_chain:\n",
    "    print(\"True\")            \n",
    "    \n",
    "else:\n",
    "    print(\"False\")"
   ]
  },
  {
   "cell_type": "code",
   "execution_count": 11,
   "id": "a6a64d31",
   "metadata": {},
   "outputs": [
    {
     "name": "stdout",
     "output_type": "stream",
     "text": [
      "Enter a list of numbers separated by spaces: 3 7 22 35\n",
      "False\n"
     ]
    }
   ],
   "source": [
    "numbers = input(\"Enter a list of numbers separated by spaces: \").split()\n",
    "\n",
    "numbers = [int(num) for num in numbers]  \n",
    "\n",
    "is_factor_chain = True\n",
    "\n",
    "\n",
    "for i in range(1, len(numbers)):  \n",
    "    if numbers[i] % numbers[i - 1] != 0:\n",
    "        is_factor_chain = False\n",
    "        break\n",
    "\n",
    "\n",
    "if is_factor_chain: \n",
    "    print(\"True\")\n",
    "else:\n",
    "    print(\"False\")"
   ]
  },
  {
   "cell_type": "markdown",
   "id": "4b84bc1f",
   "metadata": {},
   "source": [
    "# 31) Create a function, that will for a given a, b, c, do the following:\n",
    "* Add a to itself b times.\n",
    "* Check if the result is divisible by c"
   ]
  },
  {
   "cell_type": "code",
   "execution_count": 12,
   "id": "8f2f8d48",
   "metadata": {},
   "outputs": [
    {
     "name": "stdout",
     "output_type": "stream",
     "text": [
      "Enter a value for 'a': 3\n",
      "Enter a value for 'b': 2\n",
      "Enter a value for 'c': 1\n",
      "Is 12 + (12 * 2) divisible by 1 True\n"
     ]
    }
   ],
   "source": [
    "a = int(input(\"Enter a value for 'a': \"))\n",
    "b = int(input(\"Enter a value for 'b': \"))\n",
    "c = int(input(\"Enter a value for 'c': \"))\n",
    "\n",
    "\n",
    "i = 0 \n",
    "\n",
    "\n",
    "while i < b: \n",
    "    a += a\n",
    "    i += 1  \n",
    "\n",
    "\n",
    "is_divisible = a % c == 0  \n",
    "                                \n",
    "\n",
    "print(f\"Is {a} + ({a} * {b}) divisible by {c} {is_divisible}\")"
   ]
  },
  {
   "cell_type": "code",
   "execution_count": 8,
   "id": "34957a20",
   "metadata": {},
   "outputs": [
    {
     "name": "stdout",
     "output_type": "stream",
     "text": [
      "Enter a value for 'a': 5\n",
      "Enter a value for 'b': 6\n",
      "Enter a value for 'c': 8\n",
      "Is 320 + (320 * 6) divisible by 8 True\n"
     ]
    }
   ],
   "source": [
    "a = int(input(\"Enter a value for 'a': \"))\n",
    "b = int(input(\"Enter a value for 'b': \"))\n",
    "c = int(input(\"Enter a value for 'c': \"))\n",
    "\n",
    "for i in range(b):                         \n",
    "    a += a\n",
    "\n",
    "is_divisible = a % c == 0                     \n",
    "                                            \n",
    "print(f\"Is {a} + ({a} * {b}) divisible by {c} {  is_divisible  }\") "
   ]
  },
  {
   "cell_type": "markdown",
   "id": "a6e97ead",
   "metadata": {},
   "source": [
    "# 32) Write a function that takes three arguments (x, y, z) and returns a list containing x sublists (e.g. [[], [], []]), each containing y number of item z.\n",
    "* x Number of sublists contained within the main list.\n",
    "* y Number of items contained within each sublist.\n",
    "* z Item contained within each sublist."
   ]
  },
  {
   "cell_type": "code",
   "execution_count": 14,
   "id": "56f7c83e",
   "metadata": {},
   "outputs": [
    {
     "name": "stdout",
     "output_type": "stream",
     "text": [
      "Enter the number of sublists: 3\n",
      "Enter the number of items in each sublist: 2\n",
      "Enter the item value: 0\n",
      "[[0, 0], [0, 0], [0, 0]]\n"
     ]
    }
   ],
   "source": [
    "x = int(input(\"Enter the number of sublists: \")) \n",
    "y = int(input(\"Enter the number of items in each sublist: \"))\n",
    "z = int(input(\"Enter the item value: \"))\n",
    "\n",
    "matrix = []       \n",
    "row = 0             \n",
    "\n",
    "while row < x:           \n",
    "    column = 0             \n",
    "    row_data = []\n",
    "    while column < y:           \n",
    "        row_data.append(z)    \n",
    "        column += 1               \n",
    "    matrix.append(row_data)\n",
    "    row += 1                   \n",
    "\n",
    "print(matrix)"
   ]
  },
  {
   "cell_type": "code",
   "execution_count": 16,
   "id": "83842039",
   "metadata": {},
   "outputs": [
    {
     "name": "stdout",
     "output_type": "stream",
     "text": [
      "Enter the number of sublists: 5\n",
      "Enter the number of items in each sublist: 5\n",
      "Enter the item value: 5\n",
      "[[5, 5, 5, 5, 5], [5, 5, 5, 5, 5], [5, 5, 5, 5, 5], [5, 5, 5, 5, 5], [5, 5, 5, 5, 5]]\n"
     ]
    }
   ],
   "source": [
    "x = int(input(\"Enter the number of sublists: \"))\n",
    "y = int(input(\"Enter the number of items in each sublist: \"))\n",
    "z = int(input(\"Enter the item value: \"))\n",
    "\n",
    "matrix = [] \n",
    "\n",
    "for _ in range(x): \n",
    "    \n",
    "    row_data = [z] * y\n",
    "    \n",
    "    \n",
    "    matrix.append(row_data)\n",
    "\n",
    "\n",
    "print(matrix)"
   ]
  },
  {
   "cell_type": "markdown",
   "id": "8080583c",
   "metadata": {},
   "source": [
    "# 33) The insurance guy calls again and apologizes. They found another policy made by your spouse, but this one is limited to cover a particular maximum in losses (for example, 50,000€). You send a bill to your spouse for the difference you lost.\n",
    "\n",
    "* Given a dict of the stolen items and a limit, return the difference between the total value of those items and the limit of the policy."
   ]
  },
  {
   "cell_type": "code",
   "execution_count": 1,
   "id": "c4a06728",
   "metadata": {},
   "outputs": [
    {
     "name": "stdout",
     "output_type": "stream",
     "text": [
      "Enter a key (or 'done' to finish): baseball bat\n",
      "Enter the value for baseball bat: 20\n",
      "Enter a key (or 'done' to finish): done\n",
      "Enter the limit: 5\n",
      "The difference between the sum of values and the limit is: 15\n"
     ]
    }
   ],
   "source": [
    "obj = {}\n",
    "\n",
    "while True:\n",
    "    key = input(\"Enter a key (or 'done' to finish): \")  \n",
    "    \n",
    "    if key == 'done':\n",
    "        break  \n",
    "    \n",
    "    value = int(input(f\"Enter the value for {key}: \"))\n",
    "    obj[key] = value\n",
    "\n",
    "limit = int(input(\"Enter the limit: \"))\n",
    "\n",
    "total = sum(obj.values())   \n",
    "difference = total - limit\n",
    "\n",
    "print(f\"The difference between the sum of values and the limit is: {difference}\")"
   ]
  },
  {
   "cell_type": "code",
   "execution_count": 2,
   "id": "3a2e83fa",
   "metadata": {},
   "outputs": [
    {
     "name": "stdout",
     "output_type": "stream",
     "text": [
      "Enter a key (or 'done' to finish): painting\n",
      "Enter the value for painting: 20\n",
      "Enter a key (or 'done' to finish): done\n",
      "Enter the limit: 5\n",
      "The difference between the sum of values and the limit is: 15\n"
     ]
    }
   ],
   "source": [
    "obj = {}\n",
    "\n",
    "for i in range(0,20):             \n",
    "    key = input(\"Enter a key (or 'done' to finish): \")\n",
    "\n",
    "    if key == 'done':\n",
    "        break                                \n",
    "\n",
    "    value = int(input(f\"Enter the value for {key}: \"))\n",
    "    obj[key] = value\n",
    "\n",
    "limit = int(input(\"Enter the limit: \"))\n",
    "\n",
    "total = sum(obj.values())\n",
    "difference = total - limit\n",
    "\n",
    "print(f\"The difference between the sum of values and the limit is: {difference}\")"
   ]
  },
  {
   "cell_type": "markdown",
   "id": "61374190",
   "metadata": {},
   "source": [
    "# 34) Create a function that takes a list of integers, sums the even and odd numbers separately, then returns the difference between the sums of the even and odd numbers."
   ]
  },
  {
   "cell_type": "code",
   "execution_count": 3,
   "id": "27d6eef0",
   "metadata": {},
   "outputs": [
    {
     "name": "stdout",
     "output_type": "stream",
     "text": [
      "Enter a list of numbers separated by spaces: 3 5 55 26 07 07 70\n",
      "19\n"
     ]
    }
   ],
   "source": [
    "input_numbers = input(\"Enter a list of numbers separated by spaces: \") \n",
    "lst = [int(num) for num in input_numbers.split()]\n",
    "                \n",
    "even_sum = 0\n",
    "odd_sum = 0                   \n",
    "index = 0                     \n",
    "                              \n",
    "while index < len(lst):          \n",
    "    if lst[index] % 2 == 0:\n",
    "        even_sum += lst[index]    \n",
    "    else:\n",
    "        odd_sum += lst[index]   \n",
    "    index += 1\n",
    "\n",
    "result = abs(even_sum - odd_sum)  \n",
    "\n",
    "print(result)"
   ]
  },
  {
   "cell_type": "code",
   "execution_count": 4,
   "id": "b5b34901",
   "metadata": {},
   "outputs": [
    {
     "name": "stdout",
     "output_type": "stream",
     "text": [
      "Enter a list of numbers separated by spaces: 2 6 5 3\n",
      "0\n"
     ]
    }
   ],
   "source": [
    "\n",
    "input_numbers = input(\"Enter a list of numbers separated by spaces: \")\n",
    "lst = [int(num) for num in input_numbers.split()]\n",
    "\n",
    "even_sum = 0\n",
    "odd_sum = 0\n",
    "\n",
    "for num in lst:                     \n",
    "    if num % 2 == 0:\n",
    "        even_sum += num         \n",
    "    else:\n",
    "        odd_sum += num          \n",
    "                                \n",
    "result = abs(even_sum - odd_sum)  \n",
    "\n",
    "print(result)"
   ]
  },
  {
   "cell_type": "markdown",
   "id": "a8198a61",
   "metadata": {},
   "source": [
    "# medium questions"
   ]
  },
  {
   "cell_type": "markdown",
   "id": "d44eb2b0",
   "metadata": {},
   "source": [
    "# 19. Create a function that performs an even-odd transform to a list, n times. Each even-odd transformation:"
   ]
  },
  {
   "cell_type": "code",
   "execution_count": 6,
   "id": "2c6a725e",
   "metadata": {},
   "outputs": [
    {
     "name": "stdout",
     "output_type": "stream",
     "text": [
      "engter the even number : 10\n",
      "enter the odd number : 20\n",
      "[10, 12, 14, 16, 18, 20] [11, 13, 15, 17, 19]\n"
     ]
    }
   ],
   "source": [
    "x = int(input('engter the even number : '))\n",
    "y = int(input('enter the odd number : '))\n",
    "a,b=[],[]\n",
    "s, e = min(x,y), max(x,y)+1\n",
    "for num in range(s, e): \n",
    "    if num%2 == 0:\n",
    "        a.append(num)\n",
    "    else:\n",
    "        b.append(num)\n",
    "print(a,b)\n",
    "    "
   ]
  },
  {
   "cell_type": "code",
   "execution_count": null,
   "id": "d36794a5",
   "metadata": {},
   "outputs": [],
   "source": []
  }
 ],
 "metadata": {
  "kernelspec": {
   "display_name": "Python 3 (ipykernel)",
   "language": "python",
   "name": "python3"
  },
  "language_info": {
   "codemirror_mode": {
    "name": "ipython",
    "version": 3
   },
   "file_extension": ".py",
   "mimetype": "text/x-python",
   "name": "python",
   "nbconvert_exporter": "python",
   "pygments_lexer": "ipython3",
   "version": "3.11.5"
  }
 },
 "nbformat": 4,
 "nbformat_minor": 5
}
