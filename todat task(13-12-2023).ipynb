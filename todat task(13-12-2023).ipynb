{
 "cells": [
  {
   "cell_type": "markdown",
   "id": "7cbd3fed",
   "metadata": {},
   "source": [
    "# DESCRIPTIVE STATISTICS"
   ]
  },
  {
   "cell_type": "markdown",
   "id": "2eeceb06",
   "metadata": {},
   "source": [
    "IMPORTANCE:\n",
    "* Descriptive statistics help you identify potential issues in your dataset.\n",
    "* Descriptive statistics helps you choose the correct inferential test for your data"
   ]
  },
  {
   "cell_type": "markdown",
   "id": "9eb2df1f",
   "metadata": {},
   "source": [
    "* Measures of central Tendency\n",
    "* Measures of central Variability\n",
    "* Frequency distribution.\n"
   ]
  },
  {
   "cell_type": "markdown",
   "id": "2119846c",
   "metadata": {},
   "source": [
    "# Measures of central Tendency\n",
    "\n",
    "* It represents the single value of the entire data set\n",
    "* It provides the accurate description of the entire data in the distribution"
   ]
  },
  {
   "cell_type": "markdown",
   "id": "a298f988",
   "metadata": {},
   "source": [
    "* If you have skewed distribution, the best measure of finding the central tendency is the median.\n",
    "* If you have the original data, then both the median and mode are the best choice of measuring the central tendency.\n",
    "* If you have categorical data, the mode is the best choice to find the central tendency."
   ]
  },
  {
   "attachments": {
    "image.png": {
     "image/png": "[encoded data removed]"
    }
   },
   "cell_type": "markdown",
   "id": "5c676bf0",
   "metadata": {},
   "source": [
    "![image.png](attachment:image.png)"
   ]
  },
  {
   "cell_type": "markdown",
   "id": "174ed7eb",
   "metadata": {},
   "source": [
    "# Mean\n",
    "* The mean represents the average value of the dataset.\n",
    "* It can be calculated by the sum of all values to the total number of values.It is also known as the arithmatic mean\n",
    "* Some other measures of mean used to find the central tendency are as follows:"
   ]
  },
  {
   "cell_type": "markdown",
   "id": "be14c46e",
   "metadata": {},
   "source": [
    "#  Geometric Mean\n"
   ]
  },
  {
   "cell_type": "markdown",
   "id": "6fedeb07",
   "metadata": {},
   "source": [
    "# Harmonic Mean\n"
   ]
  },
  {
   "cell_type": "markdown",
   "id": "a40ad8dd",
   "metadata": {},
   "source": [
    "# Weighted Mean"
   ]
  },
  {
   "cell_type": "markdown",
   "id": "9d5d7108",
   "metadata": {},
   "source": [
    "# Mode\n",
    "most frequently occuring value. it is the value that has the highest frequency in the given data.\n"
   ]
  },
  {
   "cell_type": "markdown",
   "id": "047afafa",
   "metadata": {},
   "source": [
    "# Measure of variablity\n",
    "* Range\n",
    "* variance\n",
    "* standard deviation"
   ]
  },
  {
   "cell_type": "markdown",
   "id": "49b9778d",
   "metadata": {},
   "source": [
    "# Range\n",
    "The range describes the difference between the largest and smallest data point in our data set.\n",
    "\n",
    "range = largest data value - smallest data value\n"
   ]
  },
  {
   "cell_type": "markdown",
   "id": "1511160a",
   "metadata": {},
   "source": [
    "# Variance\n",
    "It is defined of an average deviation from the mean. the difference between every data and the average which is also know as the mean squarring them adding of then diving the number of data .\n"
   ]
  },
  {
   "cell_type": "markdown",
   "id": "0538a778",
   "metadata": {},
   "source": [
    "# Standard deviation\n",
    "The standard deviation of a data set is the positive square root of the variance. It is measured in the same units as the data, making it more easily comparable, than the variance, to the mean. If the data set is a sample, the standard deviation is denoted s. If the data set is a population, the standard deviation is denoted s (sigma).\n"
   ]
  },
  {
   "cell_type": "markdown",
   "id": "c416683b",
   "metadata": {},
   "source": [
    "# 2.) measures of variability or dispersion.\n",
    "Measures of Dispersion is the numbers that are used to represent the scattering of the data. These are the numbers that show the various aspects of the data spread across various parameters Measures of Dispersion is a non-negative real number that gives various parameters of the data. The measure of dispersion will be zero when the dispersion of the data set will be zero. If we have dispersion in the given data then, these numbers which give the attributes of the data set are the measure of dispersion.\n"
   ]
  },
  {
   "cell_type": "markdown",
   "id": "725c44d2",
   "metadata": {},
   "source": [
    "# Types of measure despersion\n",
    "Measures of dispersion can be classified into two categories shown below:\n",
    "\n",
    "Absolute Measures of Dispersion Relative Measures of Dispersion These measures of dispersion can be further divided into various categories. The measures of dispersion have various parameters and these parameters have the same unit.\n",
    "\n",
    "Absolute Measure of dispersion\n",
    "i) Range\n",
    "\n",
    "(ii) Mean deviation\n",
    "\n",
    "(iii) Standard Deviation\n",
    "\n",
    "(iv) Variance\n",
    "\n",
    "(v) Quratile Deviation"
   ]
  },
  {
   "cell_type": "markdown",
   "id": "8c6cb374",
   "metadata": {},
   "source": [
    "# Range\n",
    "The range of a data set is the difference between the largest and smallest data values. It is the simplest measure of variability. It is very sensitive to the smallest and largest data values. Range = X max – X min\n",
    "\n"
   ]
  },
  {
   "cell_type": "markdown",
   "id": "5d23986c",
   "metadata": {},
   "source": [
    "# mean deviation\n",
    "Mean Deviation is the arithmetic mean of the difference between the values and their mean.\n"
   ]
  },
  {
   "cell_type": "markdown",
   "id": "09e11c32",
   "metadata": {},
   "source": [
    "The mean deviation of a given standard distribution is the average of the deviation from the central tendency. Central Tendency can be computed using the Arithmetic Mean, Median, or Mode of the data. It is used to show how far the observations are situated from the central point of the data (the central point can be either mean, median or mode).\n"
   ]
  },
  {
   "cell_type": "markdown",
   "id": "2ede9424",
   "metadata": {},
   "source": [
    "# standard Deviation\n",
    "The standard deviation of a data set is the positive square root of the variance. It is measured in the same units as the data, making it more easily comparable, than the variance, to the mean. If the data set is a sample, the standard deviation is denoted s. If the data set is a population, the standard deviation is denoted s (sigma).\n"
   ]
  },
  {
   "cell_type": "markdown",
   "id": "bcb2e62c",
   "metadata": {},
   "source": [
    "# variance\n",
    "The variance is a measure of variability that utilizes all the data. It is based on the difference between the value of each observation (xi) and the mean (x for a sample, m for a population).\n",
    "\n",
    "The are two types of variance used in statistics, Sample Variance Population Variance Sample Mean Sample Data: 12,18,25,69,45 Sample Mean: [(12+18+25+69+45)/5] = 33.80\n"
   ]
  },
  {
   "cell_type": "markdown",
   "id": "3a2acb69",
   "metadata": {},
   "source": [
    "Population Mean Population Data: 45,46,78,12,18,33,28,55,25,69,66 Population Mean: [(45+46+78+12+18+33+28+55+25+69+66)/11)] = 43.18\n"
   ]
  },
  {
   "cell_type": "markdown",
   "id": "8e249b37",
   "metadata": {},
   "source": [
    "# quartile deviation\n",
    "quartile deviation is defined as half the difference between third quartile and the first quartile in the given data.\n",
    "Skewness\n",
    "Skewness characterizes the degree of asymmetry of a distribution around its mean.\n"
   ]
  },
  {
   "cell_type": "code",
   "execution_count": null,
   "id": "e8566f5d",
   "metadata": {},
   "outputs": [],
   "source": []
  }
 ],
 "metadata": {
  "kernelspec": {
   "display_name": "Python 3 (ipykernel)",
   "language": "python",
   "name": "python3"
  },
  "language_info": {
   "codemirror_mode": {
    "name": "ipython",
    "version": 3
   },
   "file_extension": ".py",
   "mimetype": "text/x-python",
   "name": "python",
   "nbconvert_exporter": "python",
   "pygments_lexer": "ipython3",
   "version": "3.11.5"
  }
 },
 "nbformat": 4,
 "nbformat_minor": 5
}
