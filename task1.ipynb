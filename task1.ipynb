{
 "cells": [
  {
   "cell_type": "markdown",
   "id": "6442f3e4",
   "metadata": {},
   "source": [
    "Class : a class is a user-defined data type that contains both the data itself and the methods that may be used to manipulate it.Classes serve as a template to create objects. A class describes the contents of the objects that belong to it: it describes an aggregate of data fields (called instance variables), and defines the operations (called methods).\n",
    "\n",
    "object: an object is an element (or instance) of a class; objects have the behaviors of their class.\n",
    "\n",
    "method() : methods are functions that are associated with an object and can manipulate its data or perform actions on it.\n",
    "\n",
    "ASCII : ASCII stands for American Standard Code for Information Interchange. It is a numeric value given to different characters and symbols, for computers to store and manipulate. For example, the ASCII value of the letter 'A' is 65."
   ]
  },
  {
   "cell_type": "code",
   "execution_count": 1,
   "id": "362a0ba2",
   "metadata": {},
   "outputs": [
    {
     "name": "stdout",
     "output_type": "stream",
     "text": [
      "10 <class 'int'>\n"
     ]
    }
   ],
   "source": [
    "x=10 #integer datatype\n",
    "print(x,type(x))"
   ]
  },
  {
   "cell_type": "markdown",
   "id": "d3b9fafe",
   "metadata": {},
   "source": [
    "# ord():"
   ]
  },
  {
   "cell_type": "markdown",
   "id": "c60cbbd9",
   "metadata": {},
   "source": [
    "1.The ord() function is used to convert a single character (a string of length 1) into its Unicode code point (integer representation). The syntax of the ord()\n"
   ]
  },
  {
   "cell_type": "code",
   "execution_count": 3,
   "id": "5469e59f",
   "metadata": {},
   "outputs": [
    {
     "data": {
      "text/plain": [
       "88"
      ]
     },
     "execution_count": 3,
     "metadata": {},
     "output_type": "execute_result"
    }
   ],
   "source": [
    "ord('G') \n",
    "ord('X')"
   ]
  },
  {
   "cell_type": "code",
   "execution_count": 4,
   "id": "86dad800",
   "metadata": {},
   "outputs": [
    {
     "data": {
      "text/plain": [
       "102"
      ]
     },
     "execution_count": 4,
     "metadata": {},
     "output_type": "execute_result"
    }
   ],
   "source": [
    "ord('e')\n",
    "ord('f')"
   ]
  },
  {
   "cell_type": "code",
   "execution_count": 6,
   "id": "a96af838",
   "metadata": {},
   "outputs": [
    {
     "data": {
      "text/plain": [
       "110"
      ]
     },
     "execution_count": 6,
     "metadata": {},
     "output_type": "execute_result"
    }
   ],
   "source": [
    "ord('i')\n",
    "ord('n')"
   ]
  },
  {
   "cell_type": "code",
   "execution_count": 7,
   "id": "fe610795",
   "metadata": {},
   "outputs": [
    {
     "name": "stdout",
     "output_type": "stream",
     "text": [
      "Help on built-in function ord in module builtins:\n",
      "\n",
      "ord(c, /)\n",
      "    Return the Unicode code point for a one-character string.\n",
      "\n"
     ]
    }
   ],
   "source": [
    "help(ord)\n"
   ]
  },
  {
   "cell_type": "code",
   "execution_count": 9,
   "id": "824d1029",
   "metadata": {},
   "outputs": [
    {
     "data": {
      "text/plain": [
       "['__abs__',\n",
       " '__add__',\n",
       " '__and__',\n",
       " '__bool__',\n",
       " '__ceil__',\n",
       " '__class__',\n",
       " '__delattr__',\n",
       " '__dir__',\n",
       " '__divmod__',\n",
       " '__doc__',\n",
       " '__eq__',\n",
       " '__float__',\n",
       " '__floor__',\n",
       " '__floordiv__',\n",
       " '__format__',\n",
       " '__ge__',\n",
       " '__getattribute__',\n",
       " '__getnewargs__',\n",
       " '__getstate__',\n",
       " '__gt__',\n",
       " '__hash__',\n",
       " '__index__',\n",
       " '__init__',\n",
       " '__init_subclass__',\n",
       " '__int__',\n",
       " '__invert__',\n",
       " '__le__',\n",
       " '__lshift__',\n",
       " '__lt__',\n",
       " '__mod__',\n",
       " '__mul__',\n",
       " '__ne__',\n",
       " '__neg__',\n",
       " '__new__',\n",
       " '__or__',\n",
       " '__pos__',\n",
       " '__pow__',\n",
       " '__radd__',\n",
       " '__rand__',\n",
       " '__rdivmod__',\n",
       " '__reduce__',\n",
       " '__reduce_ex__',\n",
       " '__repr__',\n",
       " '__rfloordiv__',\n",
       " '__rlshift__',\n",
       " '__rmod__',\n",
       " '__rmul__',\n",
       " '__ror__',\n",
       " '__round__',\n",
       " '__rpow__',\n",
       " '__rrshift__',\n",
       " '__rshift__',\n",
       " '__rsub__',\n",
       " '__rtruediv__',\n",
       " '__rxor__',\n",
       " '__setattr__',\n",
       " '__sizeof__',\n",
       " '__str__',\n",
       " '__sub__',\n",
       " '__subclasshook__',\n",
       " '__truediv__',\n",
       " '__trunc__',\n",
       " '__xor__',\n",
       " 'as_integer_ratio',\n",
       " 'bit_count',\n",
       " 'bit_length',\n",
       " 'conjugate',\n",
       " 'denominator',\n",
       " 'from_bytes',\n",
       " 'imag',\n",
       " 'numerator',\n",
       " 'real',\n",
       " 'to_bytes']"
      ]
     },
     "execution_count": 9,
     "metadata": {},
     "output_type": "execute_result"
    }
   ],
   "source": [
    "dir(x)\n"
   ]
  },
  {
   "cell_type": "code",
   "execution_count": 10,
   "id": "94bcbd84",
   "metadata": {},
   "outputs": [
    {
     "name": "stdout",
     "output_type": "stream",
     "text": [
      "smartboy <class 'str'>\n"
     ]
    }
   ],
   "source": [
    "y = \"smartboy\"\n",
    "print(y,type(y))\n"
   ]
  },
  {
   "cell_type": "code",
   "execution_count": 11,
   "id": "9cc4f29a",
   "metadata": {},
   "outputs": [
    {
     "data": {
      "text/plain": [
       "['__add__',\n",
       " '__class__',\n",
       " '__contains__',\n",
       " '__delattr__',\n",
       " '__dir__',\n",
       " '__doc__',\n",
       " '__eq__',\n",
       " '__format__',\n",
       " '__ge__',\n",
       " '__getattribute__',\n",
       " '__getitem__',\n",
       " '__getnewargs__',\n",
       " '__getstate__',\n",
       " '__gt__',\n",
       " '__hash__',\n",
       " '__init__',\n",
       " '__init_subclass__',\n",
       " '__iter__',\n",
       " '__le__',\n",
       " '__len__',\n",
       " '__lt__',\n",
       " '__mod__',\n",
       " '__mul__',\n",
       " '__ne__',\n",
       " '__new__',\n",
       " '__reduce__',\n",
       " '__reduce_ex__',\n",
       " '__repr__',\n",
       " '__rmod__',\n",
       " '__rmul__',\n",
       " '__setattr__',\n",
       " '__sizeof__',\n",
       " '__str__',\n",
       " '__subclasshook__',\n",
       " 'capitalize',\n",
       " 'casefold',\n",
       " 'center',\n",
       " 'count',\n",
       " 'encode',\n",
       " 'endswith',\n",
       " 'expandtabs',\n",
       " 'find',\n",
       " 'format',\n",
       " 'format_map',\n",
       " 'index',\n",
       " 'isalnum',\n",
       " 'isalpha',\n",
       " 'isascii',\n",
       " 'isdecimal',\n",
       " 'isdigit',\n",
       " 'isidentifier',\n",
       " 'islower',\n",
       " 'isnumeric',\n",
       " 'isprintable',\n",
       " 'isspace',\n",
       " 'istitle',\n",
       " 'isupper',\n",
       " 'join',\n",
       " 'ljust',\n",
       " 'lower',\n",
       " 'lstrip',\n",
       " 'maketrans',\n",
       " 'partition',\n",
       " 'removeprefix',\n",
       " 'removesuffix',\n",
       " 'replace',\n",
       " 'rfind',\n",
       " 'rindex',\n",
       " 'rjust',\n",
       " 'rpartition',\n",
       " 'rsplit',\n",
       " 'rstrip',\n",
       " 'split',\n",
       " 'splitlines',\n",
       " 'startswith',\n",
       " 'strip',\n",
       " 'swapcase',\n",
       " 'title',\n",
       " 'translate',\n",
       " 'upper',\n",
       " 'zfill']"
      ]
     },
     "execution_count": 11,
     "metadata": {},
     "output_type": "execute_result"
    }
   ],
   "source": [
    "dir(y)\n"
   ]
  },
  {
   "cell_type": "markdown",
   "id": "a46f69bf",
   "metadata": {},
   "source": [
    "1.strings are immutable the resulting strings from string methods have a new memory location.\n",
    "\n",
    "2.in order to use these strings,we need reassign it to a var.\n"
   ]
  },
  {
   "cell_type": "code",
   "execution_count": 12,
   "id": "f8e9bbbe",
   "metadata": {},
   "outputs": [
    {
     "name": "stdout",
     "output_type": "stream",
     "text": [
      "Can you can a can as a canner can can a can?\n"
     ]
    }
   ],
   "source": [
    "tt ='''Can you can a can as a canner can can a can?'''\n",
    "print(tt)"
   ]
  },
  {
   "cell_type": "markdown",
   "id": "91f71760",
   "metadata": {},
   "source": [
    "# upper():\n"
   ]
  },
  {
   "cell_type": "markdown",
   "id": "e4e4bd81",
   "metadata": {},
   "source": [
    "1.DEFINITION : The upper() method returns the uppercased string from the given string."
   ]
  },
  {
   "cell_type": "code",
   "execution_count": 13,
   "id": "a895df9e",
   "metadata": {},
   "outputs": [
    {
     "name": "stdout",
     "output_type": "stream",
     "text": [
      "Help on built-in function upper:\n",
      "\n",
      "upper() method of builtins.str instance\n",
      "    Return a copy of the string converted to uppercase.\n",
      "\n"
     ]
    }
   ],
   "source": [
    "help(tt.upper)"
   ]
  },
  {
   "cell_type": "code",
   "execution_count": 14,
   "id": "6d07fc18",
   "metadata": {},
   "outputs": [
    {
     "name": "stdout",
     "output_type": "stream",
     "text": [
      "1695468891056\n"
     ]
    }
   ],
   "source": [
    "tt.upper() #converts into capitals\n",
    "print(id(tt))\n"
   ]
  },
  {
   "cell_type": "code",
   "execution_count": 15,
   "id": "6b617142",
   "metadata": {},
   "outputs": [
    {
     "name": "stdout",
     "output_type": "stream",
     "text": [
      "1695410981360\n"
     ]
    },
    {
     "data": {
      "text/plain": [
       "1695410981296"
      ]
     },
     "execution_count": 15,
     "metadata": {},
     "output_type": "execute_result"
    }
   ],
   "source": [
    "p='tap'        # strings are immutable\n",
    "n=\"TAP\"\n",
    "print(id(p))\n",
    "id(n)\n"
   ]
  },
  {
   "cell_type": "code",
   "execution_count": 16,
   "id": "2557f84d",
   "metadata": {},
   "outputs": [
    {
     "name": "stdout",
     "output_type": "stream",
     "text": [
      "1695468783664\n"
     ]
    },
    {
     "data": {
      "text/plain": [
       "1695410981296"
      ]
     },
     "execution_count": 16,
     "metadata": {},
     "output_type": "execute_result"
    }
   ],
   "source": [
    "p= 'bhanu'\n",
    "N= 'BHANU'\n",
    "print(id(p))\n",
    "id(n)"
   ]
  },
  {
   "cell_type": "code",
   "execution_count": 18,
   "id": "0352886e",
   "metadata": {},
   "outputs": [
    {
     "name": "stdout",
     "output_type": "stream",
     "text": [
      "1695469042224\n"
     ]
    },
    {
     "data": {
      "text/plain": [
       "1695455139440"
      ]
     },
     "execution_count": 18,
     "metadata": {},
     "output_type": "execute_result"
    }
   ],
   "source": [
    "g='prasad'\n",
    "b='PRASAD'\n",
    "print(id(g))\n",
    "id(b)"
   ]
  },
  {
   "cell_type": "code",
   "execution_count": 19,
   "id": "ccb28d2c",
   "metadata": {},
   "outputs": [
    {
     "data": {
      "text/plain": [
       "1695468891824"
      ]
     },
     "execution_count": 19,
     "metadata": {},
     "output_type": "execute_result"
    }
   ],
   "source": [
    "T = tt.upper() \n",
    "T\n",
    "id(T)\n"
   ]
  },
  {
   "cell_type": "code",
   "execution_count": 20,
   "id": "ee9ebb08",
   "metadata": {},
   "outputs": [
    {
     "data": {
      "text/plain": [
       "1695455139440"
      ]
     },
     "execution_count": 20,
     "metadata": {},
     "output_type": "execute_result"
    }
   ],
   "source": [
    "B = tt.upper()\n",
    "B\n",
    "id(b)"
   ]
  },
  {
   "cell_type": "code",
   "execution_count": 22,
   "id": "9210dbdc",
   "metadata": {},
   "outputs": [
    {
     "data": {
      "text/plain": [
       "1695455871600"
      ]
     },
     "execution_count": 22,
     "metadata": {},
     "output_type": "execute_result"
    }
   ],
   "source": [
    "g = tt.upper()\n",
    "g \n",
    "id(g)"
   ]
  },
  {
   "cell_type": "code",
   "execution_count": 23,
   "id": "2c120f2f",
   "metadata": {},
   "outputs": [
    {
     "data": {
      "text/plain": [
       "'can you can a can as a canner can can a can?'"
      ]
     },
     "execution_count": 23,
     "metadata": {},
     "output_type": "execute_result"
    }
   ],
   "source": [
    "T.lower() #prints the complete string to lower case letters.\n"
   ]
  },
  {
   "cell_type": "code",
   "execution_count": 24,
   "id": "da6074c4",
   "metadata": {},
   "outputs": [
    {
     "name": "stdout",
     "output_type": "stream",
     "text": [
      "Help on built-in function lower:\n",
      "\n",
      "lower() method of builtins.str instance\n",
      "    Return a copy of the string converted to lowercase.\n",
      "\n"
     ]
    }
   ],
   "source": [
    "help(T.lower)\n"
   ]
  },
  {
   "cell_type": "markdown",
   "id": "5284d4e4",
   "metadata": {},
   "source": [
    "# capitalize:\n"
   ]
  },
  {
   "cell_type": "markdown",
   "id": "0f39ca4a",
   "metadata": {},
   "source": [
    "1.1st alphabet of the string is capital.\n"
   ]
  },
  {
   "cell_type": "code",
   "execution_count": 25,
   "id": "ecbfe121",
   "metadata": {},
   "outputs": [
    {
     "data": {
      "text/plain": [
       "'Can you can a can as a canner can can a can?'"
      ]
     },
     "execution_count": 25,
     "metadata": {},
     "output_type": "execute_result"
    }
   ],
   "source": [
    "T.capitalize() # 1st alphabet of the line is capital.\n"
   ]
  },
  {
   "cell_type": "code",
   "execution_count": 26,
   "id": "c46e0bde",
   "metadata": {},
   "outputs": [
    {
     "name": "stdout",
     "output_type": "stream",
     "text": [
      "Help on built-in function capitalize:\n",
      "\n",
      "capitalize() method of builtins.str instance\n",
      "    Return a capitalized version of the string.\n",
      "    \n",
      "    More specifically, make the first character have upper case and the rest lower\n",
      "    case.\n",
      "\n"
     ]
    }
   ],
   "source": [
    "help(T.capitalize)\n"
   ]
  },
  {
   "cell_type": "code",
   "execution_count": 27,
   "id": "6ddefa6d",
   "metadata": {},
   "outputs": [
    {
     "data": {
      "text/plain": [
       "'Can You Can A Can As A Canner Can Can A Can?'"
      ]
     },
     "execution_count": 27,
     "metadata": {},
     "output_type": "execute_result"
    }
   ],
   "source": [
    "##title : converts 1st alphabet of every word is converted to capital.\n",
    "T.title()\n"
   ]
  },
  {
   "cell_type": "code",
   "execution_count": 28,
   "id": "402afe1a",
   "metadata": {},
   "outputs": [
    {
     "name": "stdout",
     "output_type": "stream",
     "text": [
      "Help on built-in function title:\n",
      "\n",
      "title() method of builtins.str instance\n",
      "    Return a version of the string where each word is titlecased.\n",
      "    \n",
      "    More specifically, words start with uppercased characters and all remaining\n",
      "    cased characters have lower case.\n",
      "\n"
     ]
    }
   ],
   "source": [
    "help(T.title)\n"
   ]
  },
  {
   "cell_type": "code",
   "execution_count": 29,
   "id": "6261aa7a",
   "metadata": {},
   "outputs": [
    {
     "data": {
      "text/plain": [
       "'can you can a can as a canner can can a can?'"
      ]
     },
     "execution_count": 29,
     "metadata": {},
     "output_type": "execute_result"
    }
   ],
   "source": [
    "T.swapcase() #if input is in caps o/p would be in lower case \n"
   ]
  },
  {
   "cell_type": "code",
   "execution_count": 31,
   "id": "876723e4",
   "metadata": {},
   "outputs": [
    {
     "name": "stdout",
     "output_type": "stream",
     "text": [
      "Help on built-in function swapcase:\n",
      "\n",
      "swapcase() method of builtins.str instance\n",
      "    Convert uppercase characters to lowercase and lowercase characters to uppercase.\n",
      "\n"
     ]
    }
   ],
   "source": [
    "help(T.swapcase)\n"
   ]
  },
  {
   "cell_type": "markdown",
   "id": "2b62e915",
   "metadata": {},
   "source": [
    "# casefold() :\n"
   ]
  },
  {
   "cell_type": "markdown",
   "id": "46f54418",
   "metadata": {},
   "source": [
    "This means the casefold() method converts more characters into lower case compared to lower() . For example, the German letter ß is already lowercase so, the lower() method doesn’t make the conversion. But the casefold () method will convert ß to its equivalent character ss .\n",
    "\n"
   ]
  },
  {
   "cell_type": "code",
   "execution_count": 33,
   "id": "7fb1f0b7",
   "metadata": {},
   "outputs": [
    {
     "data": {
      "text/plain": [
       "'the ss character called '"
      ]
     },
     "execution_count": 33,
     "metadata": {},
     "output_type": "execute_result"
    }
   ],
   "source": [
    "x=\"the ß character called \"\n",
    "x.casefold()\n"
   ]
  },
  {
   "cell_type": "code",
   "execution_count": 35,
   "id": "62a9c55f",
   "metadata": {},
   "outputs": [
    {
     "name": "stdout",
     "output_type": "stream",
     "text": [
      "Help on built-in function casefold:\n",
      "\n",
      "casefold() method of builtins.str instance\n",
      "    Return a version of the string suitable for caseless comparisons.\n",
      "\n"
     ]
    }
   ],
   "source": [
    "help(x.casefold)"
   ]
  },
  {
   "cell_type": "markdown",
   "id": "f1ab5e5b",
   "metadata": {},
   "source": [
    "# TASK (B) :"
   ]
  },
  {
   "cell_type": "markdown",
   "id": "bd2d592f",
   "metadata": {},
   "source": [
    "Explain why strings are immutable by taking a string method() as an example.\n",
    "\n",
    "Immutable : Immutable in Python is when you cannot change the object type over time.\n",
    "\n",
    "\n"
   ]
  },
  {
   "cell_type": "code",
   "execution_count": 36,
   "id": "69af8aa2",
   "metadata": {},
   "outputs": [
    {
     "name": "stdout",
     "output_type": "stream",
     "text": [
      "1695468783664\n",
      "1695468783664\n"
     ]
    }
   ],
   "source": [
    "x= \"bhanu\"\n",
    "print(id(x))\n",
    "y = \"bhanu\"\n",
    "print(id(x))\n"
   ]
  },
  {
   "cell_type": "code",
   "execution_count": 37,
   "id": "ced888fa",
   "metadata": {},
   "outputs": [
    {
     "name": "stdout",
     "output_type": "stream",
     "text": [
      "1695468783664\n",
      "1695456983488\n"
     ]
    }
   ],
   "source": [
    "a = \"bhanu\" # \n",
    "print(id(a))# address of a is printed  \n",
    "print(id(a.upper)) #when a method is used new object is created rather than overwriting the previous value\n"
   ]
  },
  {
   "cell_type": "markdown",
   "id": "3350c285",
   "metadata": {},
   "source": [
    "# Reverse one string\n"
   ]
  },
  {
   "cell_type": "code",
   "execution_count": 38,
   "id": "929c7c55",
   "metadata": {},
   "outputs": [
    {
     "name": "stdout",
     "output_type": "stream",
     "text": [
      "nohtyp nrael stel\n"
     ]
    }
   ],
   "source": [
    "str1 = \"lets learn python\"\n",
    "str2 = \"python is very interesting\"\n",
    "str1 = str1[::-1] #start index by default 0 :stop index by default last index \n",
    "print(str1)"
   ]
  },
  {
   "cell_type": "markdown",
   "id": "2d454fbf",
   "metadata": {},
   "source": [
    "# Concatenate two strings"
   ]
  },
  {
   "cell_type": "code",
   "execution_count": 39,
   "id": "b8dfde17",
   "metadata": {},
   "outputs": [
    {
     "name": "stdout",
     "output_type": "stream",
     "text": [
      "lets learn pythonpython is very interesting\n"
     ]
    }
   ],
   "source": [
    "str1 = \"lets learn python\"\n",
    "str2 = \"python is very interesting\"\n",
    "concat = str1 +str2\n",
    "print(concat)"
   ]
  },
  {
   "cell_type": "markdown",
   "id": "898b4de3",
   "metadata": {},
   "source": [
    "# Get the alternate chars of the concatenate string in reverse order."
   ]
  },
  {
   "cell_type": "code",
   "execution_count": 40,
   "id": "250f8487",
   "metadata": {},
   "outputs": [
    {
     "name": "stdout",
     "output_type": "stream",
     "text": [
      "gisrtiye inhynhy re tl\n"
     ]
    }
   ],
   "source": [
    "str1 = \"lets learn python\"\n",
    "str2 = \"python is very interesting\"\n",
    "concat = str1 +str2\n",
    "concat = concat[::-2]\n",
    "print(concat)"
   ]
  },
  {
   "cell_type": "code",
   "execution_count": 41,
   "id": "20ef1fd1",
   "metadata": {},
   "outputs": [
    {
     "name": "stdout",
     "output_type": "stream",
     "text": [
      "gisrtiye inhynhy re tl\n"
     ]
    }
   ],
   "source": [
    "str1 = \"lets learn python\"\n",
    "str2 = \"python is very interesting\"\n",
    "concat = str1 +str2\n",
    "concat = concat[::-2]\n",
    "print(concat)"
   ]
  },
  {
   "cell_type": "markdown",
   "id": "51525d76",
   "metadata": {},
   "source": [
    "# Find():\n",
    "\n",
    "* The find() method finds the first occurrence of the specified value. The find() method returns -1 if the value is not found."
   ]
  },
  {
   "cell_type": "code",
   "execution_count": 42,
   "id": "8b93c8e2",
   "metadata": {},
   "outputs": [
    {
     "name": "stdout",
     "output_type": "stream",
     "text": [
      "Help on built-in function find:\n",
      "\n",
      "find(...) method of builtins.str instance\n",
      "    S.find(sub[, start[, end]]) -> int\n",
      "    \n",
      "    Return the lowest index in S where substring sub is found,\n",
      "    such that sub is contained within S[start:end].  Optional\n",
      "    arguments start and end are interpreted as in slice notation.\n",
      "    \n",
      "    Return -1 on failure.\n",
      "\n"
     ]
    }
   ],
   "source": [
    "str1 = \"love you radha \"\n",
    "help(str1.find)"
   ]
  },
  {
   "cell_type": "markdown",
   "id": "ffa3e8f0",
   "metadata": {},
   "source": [
    "* S: This is the original string in which you want to search for the substring.(#in above example 'S' is str1)\n",
    "* sub: This is the substring you want to find within the original string.\n",
    "* start (optional): This is the starting index for the search. It specifies where in the original string the search should begin. If not provided, it defaults to 0, which means the search starts from the beginning of the string.\n",
    "* end (optional): This is the ending index for the search. It specifies where in the original string the search should end. If not provided, it searches until the end of the string."
   ]
  },
  {
   "cell_type": "code",
   "execution_count": null,
   "id": "cf56654a",
   "metadata": {},
   "outputs": [],
   "source": [
    "str1 = \"lets learn python\"\n",
    "str2 = \"python is very interesting\""
   ]
  },
  {
   "cell_type": "code",
   "execution_count": 43,
   "id": "3949c0c3",
   "metadata": {},
   "outputs": [
    {
     "data": {
      "text/plain": [
       "3"
      ]
     },
     "execution_count": 43,
     "metadata": {},
     "output_type": "execute_result"
    }
   ],
   "source": [
    "str1 .find('e') #1st 'e' index is displayed"
   ]
  },
  {
   "cell_type": "code",
   "execution_count": 44,
   "id": "97519e51",
   "metadata": {},
   "outputs": [
    {
     "data": {
      "text/plain": [
       "3"
      ]
     },
     "execution_count": 44,
     "metadata": {},
     "output_type": "execute_result"
    }
   ],
   "source": [
    "str1 .find('e', 2)"
   ]
  },
  {
   "cell_type": "markdown",
   "id": "fea0f6de",
   "metadata": {},
   "source": [
    "# Help():\n",
    "\n",
    "* If no argument is given, the interactive help system starts on the interpreter console. If you want to get out of help console, type quit.\n",
    "* We can also get the help documentation directly from the python console by passing a parameter to help() function.\n",
    "\n",
    "Syntax : help(object)"
   ]
  },
  {
   "cell_type": "code",
   "execution_count": 45,
   "id": "141037be",
   "metadata": {},
   "outputs": [
    {
     "name": "stdout",
     "output_type": "stream",
     "text": [
      "Help on built-in function find:\n",
      "\n",
      "find(...) method of builtins.str instance\n",
      "    S.find(sub[, start[, end]]) -> int\n",
      "    \n",
      "    Return the lowest index in S where substring sub is found,\n",
      "    such that sub is contained within S[start:end].  Optional\n",
      "    arguments start and end are interpreted as in slice notation.\n",
      "    \n",
      "    Return -1 on failure.\n",
      "\n"
     ]
    }
   ],
   "source": [
    "help(str1.find)"
   ]
  },
  {
   "cell_type": "markdown",
   "id": "fb3b7259",
   "metadata": {},
   "source": [
    "# Count():\n",
    "\n",
    "* Count() is a Python built-in function that returns the number of times an object appears in a list.\n",
    "* It returns the number of times a given value occurs in a string or a list, as the name implies.\n",
    "\n",
    "Syntax : help(object)"
   ]
  },
  {
   "cell_type": "code",
   "execution_count": 46,
   "id": "06d0ceea",
   "metadata": {},
   "outputs": [
    {
     "data": {
      "text/plain": [
       "0"
      ]
     },
     "execution_count": 46,
     "metadata": {},
     "output_type": "execute_result"
    }
   ],
   "source": [
    "str2.count('a') "
   ]
  },
  {
   "cell_type": "code",
   "execution_count": 47,
   "id": "1cabffe3",
   "metadata": {},
   "outputs": [
    {
     "name": "stdout",
     "output_type": "stream",
     "text": [
      "Help on built-in function count:\n",
      "\n",
      "count(...) method of builtins.str instance\n",
      "    S.count(sub[, start[, end]]) -> int\n",
      "    \n",
      "    Return the number of non-overlapping occurrences of substring sub in\n",
      "    string S[start:end].  Optional arguments start and end are\n",
      "    interpreted as in slice notation.\n",
      "\n"
     ]
    }
   ],
   "source": [
    "help(str1.count)"
   ]
  },
  {
   "cell_type": "code",
   "execution_count": 48,
   "id": "c5eaa91a",
   "metadata": {},
   "outputs": [
    {
     "data": {
      "text/plain": [
       "3"
      ]
     },
     "execution_count": 48,
     "metadata": {},
     "output_type": "execute_result"
    }
   ],
   "source": [
    "str2.count('e',10)"
   ]
  },
  {
   "cell_type": "code",
   "execution_count": 49,
   "id": "60d97aa2",
   "metadata": {},
   "outputs": [
    {
     "data": {
      "text/plain": [
       "0"
      ]
     },
     "execution_count": 49,
     "metadata": {},
     "output_type": "execute_result"
    }
   ],
   "source": [
    "str2.count('e',0,10)"
   ]
  },
  {
   "cell_type": "markdown",
   "id": "5096b212",
   "metadata": {},
   "source": [
    "# rfind():\n",
    "\n",
    "* The rfind() method finds the last occurrence of the specified value.\n",
    "\n",
    "* *The rfind() method returns -1 if the value is not found.\n",
    "\n",
    "* The rfind() method is almost the same as the rindex() method."
   ]
  },
  {
   "cell_type": "markdown",
   "id": "2edb1398",
   "metadata": {},
   "source": [
    "# rindex() :\n",
    "\n",
    "* The rindex() method finds the last occurrence of the specified value.\n",
    "* The rindex() method raises an exception if the value is not found.\n",
    "* The rindex() method is almost the same as the rfind() method.\n",
    "\n",
    "syntax : string.rindex(sub[, start[, end]])"
   ]
  },
  {
   "cell_type": "code",
   "execution_count": 57,
   "id": "807b038e",
   "metadata": {},
   "outputs": [
    {
     "name": "stdout",
     "output_type": "stream",
     "text": [
      "Help on built-in function rindex:\n",
      "\n",
      "rindex(...) method of builtins.str instance\n",
      "    S.rindex(sub[, start[, end]]) -> int\n",
      "    \n",
      "    Return the highest index in S where substring sub is found,\n",
      "    such that sub is contained within S[start:end].  Optional\n",
      "    arguments start and end are interpreted as in slice notation.\n",
      "    \n",
      "    Raises ValueError when the substring is not found.\n",
      "\n"
     ]
    }
   ],
   "source": [
    "help(name.rindex)"
   ]
  },
  {
   "cell_type": "markdown",
   "id": "4109c0db",
   "metadata": {},
   "source": [
    "# rindex() method works:\n",
    "\n",
    "* If the substring sub is found within the string, the method returns the index of the last occurrence of sub in the string.\n",
    "* If sub is not found within the specified range (from start to end), or it's not found in the string at all, the method raises a ValueError.\n",
    "\n"
   ]
  },
  {
   "cell_type": "code",
   "execution_count": 59,
   "id": "4fc8188e",
   "metadata": {},
   "outputs": [
    {
     "data": {
      "text/plain": [
       "7"
      ]
     },
     "execution_count": 59,
     "metadata": {},
     "output_type": "execute_result"
    }
   ],
   "source": [
    "name.rindex('a')\n",
    "#name.rindex('z') #(uncomment to see error)"
   ]
  },
  {
   "cell_type": "markdown",
   "id": "92fab231",
   "metadata": {},
   "source": [
    "# replace : ()\n",
    "\n",
    "* The replace() method replaces a specified phrase with another specified phrase.\n",
    "* Note: All occurrences of the specified phrase will be replaced, if nothing else is specified.\n"
   ]
  },
  {
   "cell_type": "code",
   "execution_count": 64,
   "id": "25ef05ea",
   "metadata": {},
   "outputs": [
    {
     "name": "stdout",
     "output_type": "stream",
     "text": [
      "Help on built-in function replace:\n",
      "\n",
      "replace(old, new, count=-1, /) method of builtins.str instance\n",
      "    Return a copy with all occurrences of substring old replaced by new.\n",
      "    \n",
      "      count\n",
      "        Maximum number of occurrences to replace.\n",
      "        -1 (the default value) means replace all occurrences.\n",
      "    \n",
      "    If the optional argument count is given, only the first count occurrences are\n",
      "    replaced.\n",
      "\n"
     ]
    }
   ],
   "source": [
    "help(name.replace)"
   ]
  },
  {
   "cell_type": "code",
   "execution_count": 65,
   "id": "ed197b99",
   "metadata": {},
   "outputs": [
    {
     "data": {
      "text/plain": [
       "'Malayalam'"
      ]
     },
     "execution_count": 65,
     "metadata": {},
     "output_type": "execute_result"
    }
   ],
   "source": [
    "name.replace('m','M',1) #replace(old, new, count) \n"
   ]
  },
  {
   "cell_type": "code",
   "execution_count": 66,
   "id": "7780f0ca",
   "metadata": {},
   "outputs": [
    {
     "data": {
      "text/plain": [
       "['python', 'is very interesting']"
      ]
     },
     "execution_count": 66,
     "metadata": {},
     "output_type": "execute_result"
    }
   ],
   "source": [
    "str2.split(sep=' ',maxsplit=1) #cuts are from left to right.\n"
   ]
  },
  {
   "cell_type": "markdown",
   "id": "e4bbf684",
   "metadata": {},
   "source": [
    "# rsplit() :\n",
    "\n",
    "* The rsplit() method splits a string into a list, starting from the right. If no \"max\" is specified, this method will return the same as the split() method.\n",
    "* Note: When maxsplit is specified, the list will contain the specified number of elements plus one.\n"
   ]
  },
  {
   "cell_type": "code",
   "execution_count": 67,
   "id": "88be522f",
   "metadata": {},
   "outputs": [
    {
     "data": {
      "text/plain": [
       "['python', 'is', 'very', 'interesting']"
      ]
     },
     "execution_count": 67,
     "metadata": {},
     "output_type": "execute_result"
    }
   ],
   "source": [
    "str2.rsplit()# splits from right to left\n"
   ]
  },
  {
   "cell_type": "code",
   "execution_count": 68,
   "id": "4d527de5",
   "metadata": {},
   "outputs": [
    {
     "data": {
      "text/plain": [
       "['python is', 'very', 'interesting']"
      ]
     },
     "execution_count": 68,
     "metadata": {},
     "output_type": "execute_result"
    }
   ],
   "source": [
    "str2.rsplit(maxsplit=2) #cuts are from right to left.\n"
   ]
  },
  {
   "cell_type": "code",
   "execution_count": 69,
   "id": "e79a8af0",
   "metadata": {},
   "outputs": [
    {
     "data": {
      "text/plain": [
       "['m', 'l', 'y', 'l', 'm']"
      ]
     },
     "execution_count": 69,
     "metadata": {},
     "output_type": "execute_result"
    }
   ],
   "source": [
    "name.split('a') # the token will be discarded\n"
   ]
  },
  {
   "cell_type": "markdown",
   "id": "cb80633c",
   "metadata": {},
   "source": [
    "# Partition():\n",
    "\n",
    "* partition(): 3 tokens or 3 sub strings\n",
    "* The partition() method searches for a specified string, and splits the string into a tuple containing three elements.\n",
    "* The first element contains the part before the specified string.\n",
    "* The second element contains the specified string.\n",
    "* The third element contains the part after the string.\n"
   ]
  },
  {
   "cell_type": "code",
   "execution_count": 70,
   "id": "dffecb3f",
   "metadata": {},
   "outputs": [
    {
     "name": "stdout",
     "output_type": "stream",
     "text": [
      "Help on built-in function partition:\n",
      "\n",
      "partition(sep, /) method of builtins.str instance\n",
      "    Partition the string into three parts using the given separator.\n",
      "    \n",
      "    This will search for the separator in the string.  If the separator is found,\n",
      "    returns a 3-tuple containing the part before the separator, the separator\n",
      "    itself, and the part after it.\n",
      "    \n",
      "    If the separator is not found, returns a 3-tuple containing the original string\n",
      "    and two empty strings.\n",
      "\n"
     ]
    }
   ],
   "source": [
    "help(str2.partition)"
   ]
  },
  {
   "cell_type": "markdown",
   "id": "7dc9a6b5",
   "metadata": {},
   "source": [
    "# sep:\n",
    "* This is the separator that is used to split the string. The string is split into three parts:\n",
    "\n",
    "* The part of the string before the first occurrence of \"sep.\"\n",
    "* The \"sep\" itself.\n",
    "* The part of the string after the first occurrence of \"sep.\""
   ]
  },
  {
   "cell_type": "code",
   "execution_count": 71,
   "id": "e022c965",
   "metadata": {},
   "outputs": [
    {
     "data": {
      "text/plain": [
       "('python', ' ', 'is very interesting')"
      ]
     },
     "execution_count": 71,
     "metadata": {},
     "output_type": "execute_result"
    }
   ],
   "source": [
    "str2.partition(' ')#partitioned by space token\n"
   ]
  },
  {
   "cell_type": "code",
   "execution_count": 72,
   "id": "c83300bc",
   "metadata": {},
   "outputs": [
    {
     "data": {
      "text/plain": [
       "('m', 'a', 'layalam')"
      ]
     },
     "execution_count": 72,
     "metadata": {},
     "output_type": "execute_result"
    }
   ],
   "source": [
    "name.partition('a')#'''it actually divides into 3 tokens, the string which is given will be the 2nd token, left one will be different"
   ]
  },
  {
   "cell_type": "code",
   "execution_count": 73,
   "id": "004fe332",
   "metadata": {},
   "outputs": [
    {
     "data": {
      "text/plain": [
       "('malayalam', '', '')"
      ]
     },
     "execution_count": 73,
     "metadata": {},
     "output_type": "execute_result"
    }
   ],
   "source": [
    "name.partition('s') # \"s\" is not present in string so it checks from begining and gives an empty string at last\n"
   ]
  },
  {
   "cell_type": "code",
   "execution_count": 74,
   "id": "904702a1",
   "metadata": {},
   "outputs": [
    {
     "data": {
      "text/plain": [
       "'malayalam'"
      ]
     },
     "execution_count": 74,
     "metadata": {},
     "output_type": "execute_result"
    }
   ],
   "source": [
    "name.partition('s')[0]+name.partition('z')[1]+name.partition('z')[2] #[70] line explanation"
   ]
  },
  {
   "cell_type": "markdown",
   "id": "4d315f73",
   "metadata": {},
   "source": [
    "# rpartition() :\n",
    "\n",
    "* The rpartition() method searches for the last occurrence of a specified string, and splits the string into a tuple containing three elements.\n",
    "* The first element contains the part before the specified string. The second element contains the specified string. The third element contains the part after the string."
   ]
  },
  {
   "cell_type": "code",
   "execution_count": 75,
   "id": "76932ccf",
   "metadata": {},
   "outputs": [
    {
     "data": {
      "text/plain": [
       "('malayal', 'a', 'm')"
      ]
     },
     "execution_count": 75,
     "metadata": {},
     "output_type": "execute_result"
    }
   ],
   "source": [
    "name.rpartition('a') # from right to left the split will be there\n"
   ]
  },
  {
   "cell_type": "code",
   "execution_count": 76,
   "id": "c2607fe8",
   "metadata": {},
   "outputs": [
    {
     "data": {
      "text/plain": [
       "('', '', 'malayalam')"
      ]
     },
     "execution_count": 76,
     "metadata": {},
     "output_type": "execute_result"
    }
   ],
   "source": [
    "name.rpartition('z')# it checks complete string will be displayed and then gives empty space"
   ]
  },
  {
   "cell_type": "markdown",
   "id": "3742a0a6",
   "metadata": {},
   "source": [
    "# splitlines():\n",
    "\n",
    "* The splitlines() method splits a string into a list. The splitting is done at line breaks.\n"
   ]
  },
  {
   "cell_type": "code",
   "execution_count": 83,
   "id": "2e7c4f6e",
   "metadata": {},
   "outputs": [
    {
     "name": "stdout",
     "output_type": "stream",
     "text": [
      "Help on built-in function splitlines:\n",
      "\n",
      "splitlines(keepends=False) method of builtins.str instance\n",
      "    Return a list of the lines in the string, breaking at line boundaries.\n",
      "    \n",
      "    Line breaks are not included in the resulting list unless keepends is given and\n",
      "    true.\n",
      "\n"
     ]
    }
   ],
   "source": [
    "help('tounge_twister'.splitlines)\n"
   ]
  },
  {
   "cell_type": "markdown",
   "id": "66254172",
   "metadata": {},
   "source": [
    "# keepends (optional, default=False):\n",
    "* This is a boolean parameter that determines whether the line endings should be included in the resulting lines.\n",
    "* If keepends is set to True, the line endings (e.g., newline characters, \"\\n\") are retained at the end of each line in the list.\n",
    "* If it's set to False (the default), the line endings are removed from each line.\n"
   ]
  },
  {
   "cell_type": "code",
   "execution_count": null,
   "id": "f8d27d9b",
   "metadata": {},
   "outputs": [],
   "source": [
    "tounge_twister =''' We surely shall see the sun shine soon.'''\n"
   ]
  },
  {
   "cell_type": "code",
   "execution_count": null,
   "id": "145b885a",
   "metadata": {},
   "outputs": [],
   "source": []
  },
  {
   "cell_type": "code",
   "execution_count": null,
   "id": "71ec7655",
   "metadata": {},
   "outputs": [],
   "source": []
  },
  {
   "cell_type": "code",
   "execution_count": null,
   "id": "60776913",
   "metadata": {},
   "outputs": [],
   "source": []
  },
  {
   "cell_type": "code",
   "execution_count": null,
   "id": "9c08e1c9",
   "metadata": {},
   "outputs": [],
   "source": []
  },
  {
   "cell_type": "code",
   "execution_count": null,
   "id": "ed9fae01",
   "metadata": {},
   "outputs": [],
   "source": []
  },
  {
   "cell_type": "code",
   "execution_count": null,
   "id": "d5e65ef1",
   "metadata": {},
   "outputs": [],
   "source": []
  },
  {
   "cell_type": "code",
   "execution_count": null,
   "id": "0e6f55b9",
   "metadata": {},
   "outputs": [],
   "source": []
  },
  {
   "cell_type": "code",
   "execution_count": null,
   "id": "78475bf8",
   "metadata": {},
   "outputs": [],
   "source": []
  },
  {
   "cell_type": "code",
   "execution_count": null,
   "id": "5a2e426a",
   "metadata": {},
   "outputs": [],
   "source": []
  },
  {
   "cell_type": "code",
   "execution_count": null,
   "id": "9bb883a5",
   "metadata": {},
   "outputs": [],
   "source": []
  },
  {
   "cell_type": "code",
   "execution_count": null,
   "id": "728c5791",
   "metadata": {},
   "outputs": [],
   "source": []
  },
  {
   "cell_type": "code",
   "execution_count": null,
   "id": "6458543e",
   "metadata": {},
   "outputs": [],
   "source": []
  },
  {
   "cell_type": "code",
   "execution_count": null,
   "id": "4cbefdf7",
   "metadata": {},
   "outputs": [],
   "source": []
  },
  {
   "cell_type": "code",
   "execution_count": null,
   "id": "b4dfcf39",
   "metadata": {},
   "outputs": [],
   "source": []
  },
  {
   "cell_type": "code",
   "execution_count": null,
   "id": "fbda2559",
   "metadata": {},
   "outputs": [],
   "source": []
  },
  {
   "cell_type": "code",
   "execution_count": null,
   "id": "164660f5",
   "metadata": {},
   "outputs": [],
   "source": []
  },
  {
   "cell_type": "code",
   "execution_count": null,
   "id": "5a4cbfa3",
   "metadata": {},
   "outputs": [],
   "source": []
  },
  {
   "cell_type": "code",
   "execution_count": null,
   "id": "9e0e8ce5",
   "metadata": {},
   "outputs": [],
   "source": []
  },
  {
   "cell_type": "code",
   "execution_count": null,
   "id": "589d4511",
   "metadata": {},
   "outputs": [],
   "source": []
  },
  {
   "cell_type": "code",
   "execution_count": null,
   "id": "df2de8ba",
   "metadata": {},
   "outputs": [],
   "source": []
  },
  {
   "cell_type": "code",
   "execution_count": null,
   "id": "88208516",
   "metadata": {},
   "outputs": [],
   "source": []
  },
  {
   "cell_type": "code",
   "execution_count": null,
   "id": "eef64825",
   "metadata": {},
   "outputs": [],
   "source": []
  },
  {
   "cell_type": "code",
   "execution_count": null,
   "id": "320c9fef",
   "metadata": {},
   "outputs": [],
   "source": []
  },
  {
   "cell_type": "code",
   "execution_count": null,
   "id": "673c3e70",
   "metadata": {},
   "outputs": [],
   "source": []
  },
  {
   "cell_type": "code",
   "execution_count": null,
   "id": "a51592ba",
   "metadata": {},
   "outputs": [],
   "source": []
  },
  {
   "cell_type": "code",
   "execution_count": null,
   "id": "fa29a286",
   "metadata": {},
   "outputs": [],
   "source": []
  },
  {
   "cell_type": "code",
   "execution_count": null,
   "id": "6fb66a6f",
   "metadata": {},
   "outputs": [],
   "source": []
  },
  {
   "cell_type": "code",
   "execution_count": null,
   "id": "60210cbd",
   "metadata": {},
   "outputs": [],
   "source": []
  },
  {
   "cell_type": "code",
   "execution_count": null,
   "id": "f6bdf101",
   "metadata": {},
   "outputs": [],
   "source": []
  },
  {
   "cell_type": "code",
   "execution_count": null,
   "id": "aa6e5e72",
   "metadata": {},
   "outputs": [],
   "source": []
  },
  {
   "cell_type": "code",
   "execution_count": null,
   "id": "7f579e5a",
   "metadata": {},
   "outputs": [],
   "source": []
  },
  {
   "cell_type": "code",
   "execution_count": null,
   "id": "4c6f9e18",
   "metadata": {},
   "outputs": [],
   "source": []
  },
  {
   "cell_type": "code",
   "execution_count": null,
   "id": "18ebbd04",
   "metadata": {},
   "outputs": [],
   "source": []
  },
  {
   "cell_type": "code",
   "execution_count": null,
   "id": "55eafb7a",
   "metadata": {},
   "outputs": [],
   "source": []
  },
  {
   "cell_type": "code",
   "execution_count": null,
   "id": "d7b1b0ce",
   "metadata": {},
   "outputs": [],
   "source": []
  },
  {
   "cell_type": "code",
   "execution_count": null,
   "id": "44725247",
   "metadata": {},
   "outputs": [],
   "source": []
  },
  {
   "cell_type": "code",
   "execution_count": null,
   "id": "f5300e25",
   "metadata": {},
   "outputs": [],
   "source": []
  },
  {
   "cell_type": "code",
   "execution_count": null,
   "id": "75db98bb",
   "metadata": {},
   "outputs": [],
   "source": []
  },
  {
   "cell_type": "code",
   "execution_count": null,
   "id": "063da080",
   "metadata": {},
   "outputs": [],
   "source": []
  },
  {
   "cell_type": "code",
   "execution_count": null,
   "id": "5356ed31",
   "metadata": {},
   "outputs": [],
   "source": []
  },
  {
   "cell_type": "code",
   "execution_count": null,
   "id": "2812dfb5",
   "metadata": {},
   "outputs": [],
   "source": []
  },
  {
   "cell_type": "code",
   "execution_count": null,
   "id": "69c17f9c",
   "metadata": {},
   "outputs": [],
   "source": []
  },
  {
   "cell_type": "code",
   "execution_count": null,
   "id": "27ce481b",
   "metadata": {},
   "outputs": [],
   "source": []
  },
  {
   "cell_type": "code",
   "execution_count": null,
   "id": "c1a42d29",
   "metadata": {},
   "outputs": [],
   "source": []
  },
  {
   "cell_type": "code",
   "execution_count": null,
   "id": "61a380d4",
   "metadata": {},
   "outputs": [],
   "source": []
  },
  {
   "cell_type": "code",
   "execution_count": null,
   "id": "b978354b",
   "metadata": {},
   "outputs": [],
   "source": []
  },
  {
   "cell_type": "code",
   "execution_count": null,
   "id": "6198c731",
   "metadata": {},
   "outputs": [],
   "source": []
  },
  {
   "cell_type": "code",
   "execution_count": null,
   "id": "7ea766e8",
   "metadata": {},
   "outputs": [],
   "source": []
  },
  {
   "cell_type": "code",
   "execution_count": null,
   "id": "8cf20826",
   "metadata": {},
   "outputs": [],
   "source": []
  },
  {
   "cell_type": "code",
   "execution_count": null,
   "id": "e52665d2",
   "metadata": {},
   "outputs": [],
   "source": []
  },
  {
   "cell_type": "code",
   "execution_count": null,
   "id": "1ffd1484",
   "metadata": {},
   "outputs": [],
   "source": []
  },
  {
   "cell_type": "code",
   "execution_count": null,
   "id": "7b488d5e",
   "metadata": {},
   "outputs": [],
   "source": []
  },
  {
   "cell_type": "code",
   "execution_count": null,
   "id": "28b4c853",
   "metadata": {},
   "outputs": [],
   "source": []
  },
  {
   "cell_type": "code",
   "execution_count": null,
   "id": "b2940084",
   "metadata": {},
   "outputs": [],
   "source": []
  },
  {
   "cell_type": "code",
   "execution_count": null,
   "id": "d6195d1e",
   "metadata": {},
   "outputs": [],
   "source": []
  },
  {
   "cell_type": "code",
   "execution_count": null,
   "id": "4b49ed90",
   "metadata": {},
   "outputs": [],
   "source": []
  },
  {
   "cell_type": "code",
   "execution_count": null,
   "id": "e5a77c9d",
   "metadata": {},
   "outputs": [],
   "source": []
  },
  {
   "cell_type": "code",
   "execution_count": null,
   "id": "a56af6e5",
   "metadata": {},
   "outputs": [],
   "source": []
  },
  {
   "cell_type": "code",
   "execution_count": null,
   "id": "a3b9e6e2",
   "metadata": {},
   "outputs": [],
   "source": []
  },
  {
   "cell_type": "code",
   "execution_count": null,
   "id": "752dbed2",
   "metadata": {},
   "outputs": [],
   "source": []
  },
  {
   "cell_type": "code",
   "execution_count": null,
   "id": "ba339682",
   "metadata": {},
   "outputs": [],
   "source": []
  },
  {
   "cell_type": "code",
   "execution_count": null,
   "id": "154c6013",
   "metadata": {},
   "outputs": [],
   "source": []
  },
  {
   "cell_type": "code",
   "execution_count": null,
   "id": "369cae6a",
   "metadata": {},
   "outputs": [],
   "source": []
  },
  {
   "cell_type": "code",
   "execution_count": null,
   "id": "0d969d58",
   "metadata": {},
   "outputs": [],
   "source": []
  },
  {
   "cell_type": "code",
   "execution_count": null,
   "id": "9689f9b0",
   "metadata": {},
   "outputs": [],
   "source": []
  },
  {
   "cell_type": "code",
   "execution_count": null,
   "id": "e41af3d2",
   "metadata": {},
   "outputs": [],
   "source": []
  },
  {
   "cell_type": "code",
   "execution_count": null,
   "id": "b17b12c1",
   "metadata": {},
   "outputs": [],
   "source": []
  },
  {
   "cell_type": "code",
   "execution_count": null,
   "id": "42a6066a",
   "metadata": {},
   "outputs": [],
   "source": []
  },
  {
   "cell_type": "code",
   "execution_count": null,
   "id": "ca2b5a1b",
   "metadata": {},
   "outputs": [],
   "source": []
  },
  {
   "cell_type": "code",
   "execution_count": null,
   "id": "17571bb9",
   "metadata": {},
   "outputs": [],
   "source": []
  },
  {
   "cell_type": "code",
   "execution_count": null,
   "id": "ede12676",
   "metadata": {},
   "outputs": [],
   "source": []
  },
  {
   "cell_type": "code",
   "execution_count": null,
   "id": "a31c9539",
   "metadata": {},
   "outputs": [],
   "source": []
  },
  {
   "cell_type": "code",
   "execution_count": null,
   "id": "322f0443",
   "metadata": {},
   "outputs": [],
   "source": []
  },
  {
   "cell_type": "code",
   "execution_count": null,
   "id": "dd679368",
   "metadata": {},
   "outputs": [],
   "source": []
  },
  {
   "cell_type": "code",
   "execution_count": null,
   "id": "5a5ae383",
   "metadata": {},
   "outputs": [],
   "source": []
  },
  {
   "cell_type": "code",
   "execution_count": null,
   "id": "5049667d",
   "metadata": {},
   "outputs": [],
   "source": []
  },
  {
   "cell_type": "code",
   "execution_count": null,
   "id": "f449f881",
   "metadata": {},
   "outputs": [],
   "source": []
  },
  {
   "cell_type": "code",
   "execution_count": null,
   "id": "3871d67f",
   "metadata": {},
   "outputs": [],
   "source": []
  },
  {
   "cell_type": "code",
   "execution_count": null,
   "id": "1be3d332",
   "metadata": {},
   "outputs": [],
   "source": []
  },
  {
   "cell_type": "code",
   "execution_count": null,
   "id": "15308bdb",
   "metadata": {},
   "outputs": [],
   "source": []
  },
  {
   "cell_type": "code",
   "execution_count": null,
   "id": "c6b682cc",
   "metadata": {},
   "outputs": [],
   "source": []
  },
  {
   "cell_type": "code",
   "execution_count": null,
   "id": "dcb24af4",
   "metadata": {},
   "outputs": [],
   "source": []
  },
  {
   "cell_type": "code",
   "execution_count": null,
   "id": "0788e850",
   "metadata": {},
   "outputs": [],
   "source": []
  },
  {
   "cell_type": "code",
   "execution_count": null,
   "id": "8f0275ef",
   "metadata": {},
   "outputs": [],
   "source": []
  },
  {
   "cell_type": "code",
   "execution_count": null,
   "id": "d5bf6472",
   "metadata": {},
   "outputs": [],
   "source": []
  },
  {
   "cell_type": "code",
   "execution_count": null,
   "id": "88e2d954",
   "metadata": {},
   "outputs": [],
   "source": []
  },
  {
   "cell_type": "code",
   "execution_count": null,
   "id": "6ba50a51",
   "metadata": {},
   "outputs": [],
   "source": []
  },
  {
   "cell_type": "code",
   "execution_count": null,
   "id": "a9dda77a",
   "metadata": {},
   "outputs": [],
   "source": []
  },
  {
   "cell_type": "code",
   "execution_count": null,
   "id": "205302c8",
   "metadata": {},
   "outputs": [],
   "source": []
  },
  {
   "cell_type": "code",
   "execution_count": null,
   "id": "ea9fac6e",
   "metadata": {},
   "outputs": [],
   "source": []
  },
  {
   "cell_type": "code",
   "execution_count": null,
   "id": "5dafb061",
   "metadata": {},
   "outputs": [],
   "source": []
  },
  {
   "cell_type": "code",
   "execution_count": null,
   "id": "0cf96678",
   "metadata": {},
   "outputs": [],
   "source": []
  },
  {
   "cell_type": "code",
   "execution_count": null,
   "id": "d17ed149",
   "metadata": {},
   "outputs": [],
   "source": []
  },
  {
   "cell_type": "code",
   "execution_count": null,
   "id": "7acc9d0f",
   "metadata": {},
   "outputs": [],
   "source": []
  },
  {
   "cell_type": "code",
   "execution_count": null,
   "id": "1ca51a1c",
   "metadata": {},
   "outputs": [],
   "source": []
  },
  {
   "cell_type": "code",
   "execution_count": null,
   "id": "c545db89",
   "metadata": {},
   "outputs": [],
   "source": []
  },
  {
   "cell_type": "code",
   "execution_count": null,
   "id": "be010f7a",
   "metadata": {},
   "outputs": [],
   "source": []
  },
  {
   "cell_type": "code",
   "execution_count": null,
   "id": "ad9f1e9d",
   "metadata": {},
   "outputs": [],
   "source": []
  },
  {
   "cell_type": "code",
   "execution_count": null,
   "id": "86529348",
   "metadata": {},
   "outputs": [],
   "source": []
  },
  {
   "cell_type": "code",
   "execution_count": null,
   "id": "0164e3d6",
   "metadata": {},
   "outputs": [],
   "source": []
  },
  {
   "cell_type": "code",
   "execution_count": null,
   "id": "3b317ccd",
   "metadata": {},
   "outputs": [],
   "source": []
  },
  {
   "cell_type": "code",
   "execution_count": null,
   "id": "afc92d23",
   "metadata": {},
   "outputs": [],
   "source": []
  },
  {
   "cell_type": "code",
   "execution_count": null,
   "id": "d9e6f7c4",
   "metadata": {},
   "outputs": [],
   "source": []
  },
  {
   "cell_type": "code",
   "execution_count": null,
   "id": "9119c09b",
   "metadata": {},
   "outputs": [],
   "source": []
  },
  {
   "cell_type": "code",
   "execution_count": null,
   "id": "a815148a",
   "metadata": {},
   "outputs": [],
   "source": []
  },
  {
   "cell_type": "code",
   "execution_count": null,
   "id": "6ffe941c",
   "metadata": {},
   "outputs": [],
   "source": []
  },
  {
   "cell_type": "code",
   "execution_count": null,
   "id": "b0321cfe",
   "metadata": {},
   "outputs": [],
   "source": []
  },
  {
   "cell_type": "code",
   "execution_count": null,
   "id": "de5d7b49",
   "metadata": {},
   "outputs": [],
   "source": []
  },
  {
   "cell_type": "code",
   "execution_count": null,
   "id": "45e17d3e",
   "metadata": {},
   "outputs": [],
   "source": []
  },
  {
   "cell_type": "code",
   "execution_count": null,
   "id": "92f78826",
   "metadata": {},
   "outputs": [],
   "source": []
  },
  {
   "cell_type": "code",
   "execution_count": null,
   "id": "58792a04",
   "metadata": {},
   "outputs": [],
   "source": []
  },
  {
   "cell_type": "code",
   "execution_count": null,
   "id": "19d0d601",
   "metadata": {},
   "outputs": [],
   "source": []
  },
  {
   "cell_type": "code",
   "execution_count": null,
   "id": "e8dd97a3",
   "metadata": {},
   "outputs": [],
   "source": []
  },
  {
   "cell_type": "code",
   "execution_count": null,
   "id": "2a33c3c0",
   "metadata": {},
   "outputs": [],
   "source": []
  },
  {
   "cell_type": "code",
   "execution_count": null,
   "id": "db1e328b",
   "metadata": {},
   "outputs": [],
   "source": []
  },
  {
   "cell_type": "code",
   "execution_count": null,
   "id": "5d30851d",
   "metadata": {},
   "outputs": [],
   "source": []
  },
  {
   "cell_type": "code",
   "execution_count": null,
   "id": "5983b939",
   "metadata": {},
   "outputs": [],
   "source": []
  },
  {
   "cell_type": "code",
   "execution_count": null,
   "id": "d05ff9f9",
   "metadata": {},
   "outputs": [],
   "source": []
  },
  {
   "cell_type": "code",
   "execution_count": null,
   "id": "9b61173c",
   "metadata": {},
   "outputs": [],
   "source": []
  },
  {
   "cell_type": "code",
   "execution_count": null,
   "id": "72ab60dc",
   "metadata": {},
   "outputs": [],
   "source": []
  },
  {
   "cell_type": "code",
   "execution_count": null,
   "id": "a7af0250",
   "metadata": {},
   "outputs": [],
   "source": []
  },
  {
   "cell_type": "code",
   "execution_count": null,
   "id": "4341071a",
   "metadata": {},
   "outputs": [],
   "source": []
  },
  {
   "cell_type": "code",
   "execution_count": null,
   "id": "ca42a5be",
   "metadata": {},
   "outputs": [],
   "source": []
  },
  {
   "cell_type": "code",
   "execution_count": null,
   "id": "40f577c4",
   "metadata": {},
   "outputs": [],
   "source": []
  },
  {
   "cell_type": "code",
   "execution_count": null,
   "id": "0c86bfdc",
   "metadata": {},
   "outputs": [],
   "source": []
  },
  {
   "cell_type": "code",
   "execution_count": null,
   "id": "eee9625a",
   "metadata": {},
   "outputs": [],
   "source": []
  },
  {
   "cell_type": "code",
   "execution_count": null,
   "id": "6e40369f",
   "metadata": {},
   "outputs": [],
   "source": []
  },
  {
   "cell_type": "code",
   "execution_count": null,
   "id": "1f62f1df",
   "metadata": {},
   "outputs": [],
   "source": []
  },
  {
   "cell_type": "code",
   "execution_count": null,
   "id": "f1182b4d",
   "metadata": {},
   "outputs": [],
   "source": []
  },
  {
   "cell_type": "code",
   "execution_count": null,
   "id": "0dfc7f9c",
   "metadata": {},
   "outputs": [],
   "source": []
  },
  {
   "cell_type": "code",
   "execution_count": null,
   "id": "f4cfeaa8",
   "metadata": {},
   "outputs": [],
   "source": []
  },
  {
   "cell_type": "code",
   "execution_count": null,
   "id": "6a669ec9",
   "metadata": {},
   "outputs": [],
   "source": []
  },
  {
   "cell_type": "code",
   "execution_count": null,
   "id": "4af89baf",
   "metadata": {},
   "outputs": [],
   "source": []
  },
  {
   "cell_type": "code",
   "execution_count": null,
   "id": "2953c786",
   "metadata": {},
   "outputs": [],
   "source": []
  },
  {
   "cell_type": "code",
   "execution_count": null,
   "id": "480b6c21",
   "metadata": {},
   "outputs": [],
   "source": []
  },
  {
   "cell_type": "code",
   "execution_count": null,
   "id": "318e560b",
   "metadata": {},
   "outputs": [],
   "source": []
  },
  {
   "cell_type": "code",
   "execution_count": null,
   "id": "4169cfc9",
   "metadata": {},
   "outputs": [],
   "source": []
  },
  {
   "cell_type": "code",
   "execution_count": null,
   "id": "88684c72",
   "metadata": {},
   "outputs": [],
   "source": []
  },
  {
   "cell_type": "code",
   "execution_count": null,
   "id": "ddea2650",
   "metadata": {},
   "outputs": [],
   "source": []
  },
  {
   "cell_type": "code",
   "execution_count": null,
   "id": "07217595",
   "metadata": {},
   "outputs": [],
   "source": []
  },
  {
   "cell_type": "code",
   "execution_count": null,
   "id": "0cc42105",
   "metadata": {},
   "outputs": [],
   "source": []
  },
  {
   "cell_type": "code",
   "execution_count": null,
   "id": "d596e567",
   "metadata": {},
   "outputs": [],
   "source": []
  },
  {
   "cell_type": "code",
   "execution_count": null,
   "id": "39b4585c",
   "metadata": {},
   "outputs": [],
   "source": []
  },
  {
   "cell_type": "code",
   "execution_count": null,
   "id": "01f2e044",
   "metadata": {},
   "outputs": [],
   "source": []
  },
  {
   "cell_type": "code",
   "execution_count": null,
   "id": "d8b07abc",
   "metadata": {},
   "outputs": [],
   "source": []
  },
  {
   "cell_type": "code",
   "execution_count": null,
   "id": "0f735dda",
   "metadata": {},
   "outputs": [],
   "source": []
  },
  {
   "cell_type": "code",
   "execution_count": null,
   "id": "bd16f7ad",
   "metadata": {},
   "outputs": [],
   "source": []
  },
  {
   "cell_type": "code",
   "execution_count": null,
   "id": "96771c43",
   "metadata": {},
   "outputs": [],
   "source": []
  },
  {
   "cell_type": "code",
   "execution_count": null,
   "id": "77e47b89",
   "metadata": {},
   "outputs": [],
   "source": []
  },
  {
   "cell_type": "code",
   "execution_count": null,
   "id": "30b990d8",
   "metadata": {},
   "outputs": [],
   "source": []
  },
  {
   "cell_type": "code",
   "execution_count": null,
   "id": "79dad3cb",
   "metadata": {},
   "outputs": [],
   "source": []
  }
 ],
 "metadata": {
  "kernelspec": {
   "display_name": "Python 3 (ipykernel)",
   "language": "python",
   "name": "python3"
  },
  "language_info": {
   "codemirror_mode": {
    "name": "ipython",
    "version": 3
   },
   "file_extension": ".py",
   "mimetype": "text/x-python",
   "name": "python",
   "nbconvert_exporter": "python",
   "pygments_lexer": "ipython3",
   "version": "3.11.4"
  }
 },
 "nbformat": 4,
 "nbformat_minor": 5
}
