{
 "cells": [
  {
   "cell_type": "code",
   "execution_count": null,
   "id": "2b33b896",
   "metadata": {},
   "outputs": [],
   "source": []
  },
  {
   "cell_type": "markdown",
   "id": "e753e384",
   "metadata": {},
   "source": [
    "# patterns 1 to 10"
   ]
  },
  {
   "cell_type": "code",
   "execution_count": 17,
   "id": "bbff0726",
   "metadata": {
    "scrolled": true
   },
   "outputs": [
    {
     "name": "stdout",
     "output_type": "stream",
     "text": [
      "enter row value : 5\n",
      "* * * * * \n",
      "* * * * * \n",
      "* * * * * \n",
      "* * * * * \n",
      "* * * * * \n"
     ]
    }
   ],
   "source": [
    "row = int(input('enter row value : '))\n",
    "def pattern1():\n",
    "    for x in range(0,row):\n",
    "        for y in range(0,row):\n",
    "            print(\"*\",end = \" \")\n",
    "        print()\n",
    "pattern1()    "
   ]
  },
  {
   "cell_type": "code",
   "execution_count": 16,
   "id": "be7f8de7",
   "metadata": {},
   "outputs": [
    {
     "name": "stdout",
     "output_type": "stream",
     "text": [
      "enter row values : 6\n",
      "1 1 1 1 1 \n",
      "2 2 2 2 2 \n",
      "3 3 3 3 3 \n",
      "4 4 4 4 4 \n",
      "5 5 5 5 5 \n"
     ]
    }
   ],
   "source": [
    "row = int(input('enter row values : '))\n",
    "def pattern2():\n",
    "    for x in range(1,row):\n",
    "        for y in range(1,row):\n",
    "            print(x, end=' ')\n",
    "        print( )\n",
    "pattern2()        "
   ]
  },
  {
   "cell_type": "code",
   "execution_count": 15,
   "id": "29375955",
   "metadata": {},
   "outputs": [
    {
     "name": "stdout",
     "output_type": "stream",
     "text": [
      "enter row values : 6\n",
      "1 2 3 4 5 \n",
      "1 2 3 4 5 \n",
      "1 2 3 4 5 \n",
      "1 2 3 4 5 \n",
      "1 2 3 4 5 \n"
     ]
    }
   ],
   "source": [
    "row = int(input('enter row values : '))\n",
    "def pattern3():\n",
    "    for x in range(1,row):\n",
    "        for y in range(1,row):\n",
    "            print(y, end=' ')\n",
    "        print( )\n",
    "pattern3()    "
   ]
  },
  {
   "cell_type": "code",
   "execution_count": 14,
   "id": "803b6c8d",
   "metadata": {},
   "outputs": [
    {
     "name": "stdout",
     "output_type": "stream",
     "text": [
      "enter row values : 5\n",
      "A A A A A \n",
      "B B B B B \n",
      "C C C C C \n",
      "D D D D D \n",
      "E E E E E \n"
     ]
    }
   ],
   "source": [
    "row = int(input('enter row values : '))\n",
    "def pattern4():\n",
    "    for x in range (row):\n",
    "        for y in range(row):\n",
    "            print(chr(65+x),end=' ')\n",
    "        print( )\n",
    "pattern4()        "
   ]
  },
  {
   "cell_type": "code",
   "execution_count": 10,
   "id": "5e004cc6",
   "metadata": {},
   "outputs": [
    {
     "name": "stdout",
     "output_type": "stream",
     "text": [
      "A B C D E \n",
      "A B C D E \n",
      "A B C D E \n",
      "A B C D E \n",
      "A B C D E \n"
     ]
    }
   ],
   "source": [
    "def pattern5(r):\n",
    "    for x in range(r):\n",
    "        for y in range(r):\n",
    "            print(chr(65+y), end=' ')\n",
    "        print( )\n",
    "pattern5(5)        "
   ]
  },
  {
   "cell_type": "code",
   "execution_count": 18,
   "id": "7ec5350e",
   "metadata": {},
   "outputs": [
    {
     "name": "stdout",
     "output_type": "stream",
     "text": [
      "5 5 5 5 5 \n",
      "4 4 4 4 4 \n",
      "3 3 3 3 3 \n",
      "2 2 2 2 2 \n",
      "1 1 1 1 1 \n"
     ]
    }
   ],
   "source": [
    "def pattern6(x):\n",
    "    for x in range(5,0,-1):\n",
    "        for y in range(5,0,-1):\n",
    "            print(x, end=' ')\n",
    "        print( )\n",
    "pattern6(5)        "
   ]
  },
  {
   "cell_type": "code",
   "execution_count": 151,
   "id": "1f0e7e60",
   "metadata": {},
   "outputs": [
    {
     "name": "stdout",
     "output_type": "stream",
     "text": [
      "5 4 3 2 1 \n",
      "5 4 3 2 1 \n",
      "5 4 3 2 1 \n",
      "5 4 3 2 1 \n",
      "5 4 3 2 1 \n"
     ]
    }
   ],
   "source": [
    "def pattern7(x):\n",
    "    for x in range(5,0,-1):\n",
    "        for y in range(5,0,-1):\n",
    "            print(y, end=' ')\n",
    "        print( )\n",
    "pattern7(5)    "
   ]
  },
  {
   "cell_type": "code",
   "execution_count": 146,
   "id": "737ec01b",
   "metadata": {},
   "outputs": [
    {
     "name": "stdout",
     "output_type": "stream",
     "text": [
      "enter a values : 5\n",
      "E E E E E \n",
      "D D D D D \n",
      "C C C C C \n",
      "B B B B B \n",
      "A A A A A \n"
     ]
    }
   ],
   "source": [
    "def pattern8(x):\n",
    "    for x in range(row-1,-1,-1):\n",
    "        for y in range(row,):\n",
    "            print(chr(65+x), end=' ')\n",
    "        print( )\n",
    "pattern8(5)        "
   ]
  },
  {
   "cell_type": "code",
   "execution_count": 147,
   "id": "47c1e335",
   "metadata": {},
   "outputs": [
    {
     "name": "stdout",
     "output_type": "stream",
     "text": [
      "E D C B A \n",
      "E D C B A \n",
      "E D C B A \n",
      "E D C B A \n",
      "E D C B A \n"
     ]
    }
   ],
   "source": [
    "def pattern9(x):\n",
    "    \n",
    "    for x in range(row-1,-1,-1):\n",
    "        for y in range(row-1,-1,-1):\n",
    "            print(chr(65+y), end=' ')\n",
    "        print( )\n",
    "pattern9(5)        "
   ]
  },
  {
   "cell_type": "code",
   "execution_count": 143,
   "id": "4a045a63",
   "metadata": {},
   "outputs": [
    {
     "name": "stdout",
     "output_type": "stream",
     "text": [
      "enter row values : 5\n",
      "* \n",
      "* * \n",
      "* * * \n",
      "* * * * \n"
     ]
    }
   ],
   "source": [
    "row = int(input('enter row values : '))\n",
    "def pattern10():\n",
    "    for x in range(1,row):\n",
    "        for y in range(1,x+1):\n",
    "            print(chr(42),end=\" \")\n",
    "        print( )\n",
    "pattern10()        "
   ]
  },
  {
   "cell_type": "code",
   "execution_count": null,
   "id": "027de690",
   "metadata": {},
   "outputs": [],
   "source": []
  },
  {
   "cell_type": "code",
   "execution_count": null,
   "id": "ac845281",
   "metadata": {},
   "outputs": [],
   "source": []
  },
  {
   "cell_type": "code",
   "execution_count": null,
   "id": "350605f5",
   "metadata": {},
   "outputs": [],
   "source": []
  }
 ],
 "metadata": {
  "kernelspec": {
   "display_name": "Python 3 (ipykernel)",
   "language": "python",
   "name": "python3"
  },
  "language_info": {
   "codemirror_mode": {
    "name": "ipython",
    "version": 3
   },
   "file_extension": ".py",
   "mimetype": "text/x-python",
   "name": "python",
   "nbconvert_exporter": "python",
   "pygments_lexer": "ipython3",
   "version": "3.11.5"
  }
 },
 "nbformat": 4,
 "nbformat_minor": 5
}
